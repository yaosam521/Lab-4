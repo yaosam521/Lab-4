{
 "cells": [
  {
   "cell_type": "markdown",
   "id": "6601edd3-0940-411b-a792-da8e9cec2da4",
   "metadata": {},
   "source": [
    "# Lab 4 - Multilayer Perceptron\n",
    "Team members:\n",
    "- Sam Yao\n",
    "- Rebecca Kuhlman\n",
    "- Michael Amberg"
   ]
  },
  {
   "cell_type": "markdown",
   "id": "8a3c892f-d3b5-46dd-89d2-fe55e27c9ff9",
   "metadata": {},
   "source": [
    "## Objective\n",
    "\n",
    "The objective of this lab is to familiarize ourselves with MultiLayer Neural Networks. This will be done through predicting, for each county, the level of child poverty. You will need to convert this from regression to four levels of classification by quantizing the variable of interest.\n",
    "\n",
    "1) Load the data into memory and save it to a pandas data frame. Do not normalize or one-hot encode any of the features until asked to do so later in the rubric."
   ]
  },
  {
   "cell_type": "code",
   "execution_count": 1,
   "id": "bca9ccc4-db84-4201-8e86-449c713337b0",
   "metadata": {},
   "outputs": [],
   "source": [
    "import pandas as pd\n",
    "import numpy as np\n",
    "\n",
    "df_census_raw = pd.read_csv(\"acs2017_census_tract_data.csv\")"
   ]
  },
  {
   "cell_type": "code",
   "execution_count": 2,
   "id": "dfea931e-39e7-47c6-98e2-dd321fbee5bf",
   "metadata": {},
   "outputs": [
    {
     "name": "stdout",
     "output_type": "stream",
     "text": [
      "<class 'pandas.core.frame.DataFrame'>\n",
      "RangeIndex: 74001 entries, 0 to 74000\n",
      "Data columns (total 37 columns):\n",
      " #   Column            Non-Null Count  Dtype  \n",
      "---  ------            --------------  -----  \n",
      " 0   TractId           74001 non-null  int64  \n",
      " 1   State             74001 non-null  object \n",
      " 2   County            74001 non-null  object \n",
      " 3   TotalPop          74001 non-null  int64  \n",
      " 4   Men               74001 non-null  int64  \n",
      " 5   Women             74001 non-null  int64  \n",
      " 6   Hispanic          73305 non-null  float64\n",
      " 7   White             73305 non-null  float64\n",
      " 8   Black             73305 non-null  float64\n",
      " 9   Native            73305 non-null  float64\n",
      " 10  Asian             73305 non-null  float64\n",
      " 11  Pacific           73305 non-null  float64\n",
      " 12  VotingAgeCitizen  74001 non-null  int64  \n",
      " 13  Income            72885 non-null  float64\n",
      " 14  IncomeErr         72885 non-null  float64\n",
      " 15  IncomePerCap      73256 non-null  float64\n",
      " 16  IncomePerCapErr   73256 non-null  float64\n",
      " 17  Poverty           73159 non-null  float64\n",
      " 18  ChildPoverty      72891 non-null  float64\n",
      " 19  Professional      73190 non-null  float64\n",
      " 20  Service           73190 non-null  float64\n",
      " 21  Office            73190 non-null  float64\n",
      " 22  Construction      73190 non-null  float64\n",
      " 23  Production        73190 non-null  float64\n",
      " 24  Drive             73200 non-null  float64\n",
      " 25  Carpool           73200 non-null  float64\n",
      " 26  Transit           73200 non-null  float64\n",
      " 27  Walk              73200 non-null  float64\n",
      " 28  OtherTransp       73200 non-null  float64\n",
      " 29  WorkAtHome        73200 non-null  float64\n",
      " 30  MeanCommute       73055 non-null  float64\n",
      " 31  Employed          74001 non-null  int64  \n",
      " 32  PrivateWork       73190 non-null  float64\n",
      " 33  PublicWork        73190 non-null  float64\n",
      " 34  SelfEmployed      73190 non-null  float64\n",
      " 35  FamilyWork        73190 non-null  float64\n",
      " 36  Unemployment      73191 non-null  float64\n",
      "dtypes: float64(29), int64(6), object(2)\n",
      "memory usage: 20.9+ MB\n"
     ]
    }
   ],
   "source": [
    "df_census_raw.info()"
   ]
  },
  {
   "cell_type": "markdown",
   "id": "fdbedbea-e014-4c1e-bde6-3e0edbaf3d32",
   "metadata": {},
   "source": [
    "2) Remove any observations that having missing data. \n",
    "\n",
    "Source used for this section:\n",
    "- https://pandas.pydata.org/docs/reference/api/pandas.DataFrame.dropna.html"
   ]
  },
  {
   "cell_type": "code",
   "execution_count": 3,
   "id": "12116e9f-a14c-4d29-a71d-1ce6635d4573",
   "metadata": {},
   "outputs": [],
   "source": [
    "df_census_raw = df_census_raw.dropna() #Utilized the pandas documentation here"
   ]
  },
  {
   "cell_type": "code",
   "execution_count": 4,
   "id": "eebd3207-c2f2-49b1-9fb2-78520ec62fcf",
   "metadata": {},
   "outputs": [
    {
     "name": "stdout",
     "output_type": "stream",
     "text": [
      "<class 'pandas.core.frame.DataFrame'>\n",
      "Int64Index: 72718 entries, 0 to 74000\n",
      "Data columns (total 37 columns):\n",
      " #   Column            Non-Null Count  Dtype  \n",
      "---  ------            --------------  -----  \n",
      " 0   TractId           72718 non-null  int64  \n",
      " 1   State             72718 non-null  object \n",
      " 2   County            72718 non-null  object \n",
      " 3   TotalPop          72718 non-null  int64  \n",
      " 4   Men               72718 non-null  int64  \n",
      " 5   Women             72718 non-null  int64  \n",
      " 6   Hispanic          72718 non-null  float64\n",
      " 7   White             72718 non-null  float64\n",
      " 8   Black             72718 non-null  float64\n",
      " 9   Native            72718 non-null  float64\n",
      " 10  Asian             72718 non-null  float64\n",
      " 11  Pacific           72718 non-null  float64\n",
      " 12  VotingAgeCitizen  72718 non-null  int64  \n",
      " 13  Income            72718 non-null  float64\n",
      " 14  IncomeErr         72718 non-null  float64\n",
      " 15  IncomePerCap      72718 non-null  float64\n",
      " 16  IncomePerCapErr   72718 non-null  float64\n",
      " 17  Poverty           72718 non-null  float64\n",
      " 18  ChildPoverty      72718 non-null  float64\n",
      " 19  Professional      72718 non-null  float64\n",
      " 20  Service           72718 non-null  float64\n",
      " 21  Office            72718 non-null  float64\n",
      " 22  Construction      72718 non-null  float64\n",
      " 23  Production        72718 non-null  float64\n",
      " 24  Drive             72718 non-null  float64\n",
      " 25  Carpool           72718 non-null  float64\n",
      " 26  Transit           72718 non-null  float64\n",
      " 27  Walk              72718 non-null  float64\n",
      " 28  OtherTransp       72718 non-null  float64\n",
      " 29  WorkAtHome        72718 non-null  float64\n",
      " 30  MeanCommute       72718 non-null  float64\n",
      " 31  Employed          72718 non-null  int64  \n",
      " 32  PrivateWork       72718 non-null  float64\n",
      " 33  PublicWork        72718 non-null  float64\n",
      " 34  SelfEmployed      72718 non-null  float64\n",
      " 35  FamilyWork        72718 non-null  float64\n",
      " 36  Unemployment      72718 non-null  float64\n",
      "dtypes: float64(29), int64(6), object(2)\n",
      "memory usage: 21.1+ MB\n"
     ]
    }
   ],
   "source": [
    "df_census_raw.info()"
   ]
  },
  {
   "cell_type": "markdown",
   "id": "06acf1ae-ec73-4b27-91de-77e994902e3f",
   "metadata": {},
   "source": [
    "3) Encode any string data as integers for now.\n",
    "\n",
    "There are two categories that are not numerical: State and County.\n",
    "\n",
    "I encoded the states and individual counties as nominal types, where each number corresponds to a unique county and state, and has no ranking whatsoever."
   ]
  },
  {
   "cell_type": "code",
   "execution_count": 5,
   "id": "b7948c42-4454-4171-aba3-884a76a672ed",
   "metadata": {},
   "outputs": [],
   "source": [
    "#Map States to a number\n",
    "states_mapping = {state: label for label, state in enumerate(df_census_raw.State.unique())}\n",
    "df_census_raw['State'] = df_census_raw['State'].map(states_mapping)\n",
    "\n",
    "#Map Counties to a number\n",
    "county_mapping = {county: label for label, county in enumerate(df_census_raw.County.unique())}\n",
    "df_census_raw['County'] = df_census_raw['County'].map(county_mapping)"
   ]
  },
  {
   "cell_type": "markdown",
   "id": "4abd141f-c18d-4192-9924-41b01b046db1",
   "metadata": {},
   "source": [
    "4) You have the option of keeping the \"county\" variable or removing it. Be sure to discuss why you decided to keep/remove this variable. \n"
   ]
  },
  {
   "cell_type": "code",
   "execution_count": 6,
   "id": "062a217d-b0b7-4922-9e3c-ee09f37637d5",
   "metadata": {},
   "outputs": [
    {
     "data": {
      "text/plain": [
       "0           0\n",
       "1           0\n",
       "2           0\n",
       "3           0\n",
       "4           0\n",
       "         ... \n",
       "73996    1953\n",
       "73997    1953\n",
       "73998    1953\n",
       "73999    1953\n",
       "74000    1953\n",
       "Name: County, Length: 72718, dtype: int64"
      ]
     },
     "execution_count": 6,
     "metadata": {},
     "output_type": "execute_result"
    }
   ],
   "source": [
    "df_census_raw.County"
   ]
  },
  {
   "cell_type": "code",
   "execution_count": 7,
   "id": "570c83e6-fc4d-49c1-bcbb-ec26aa49bf99",
   "metadata": {},
   "outputs": [],
   "source": [
    "import matplotlib.pyplot as plt\n"
   ]
  },
  {
   "cell_type": "code",
   "execution_count": null,
   "id": "12a4cd44-9699-42e7-b312-8d087b6ce847",
   "metadata": {},
   "outputs": [],
   "source": []
  },
  {
   "cell_type": "markdown",
   "source": [
    "            .5 points] Balance the dataset so that about the same number of instances are within each class. Choose a method for balancing the dataset and explain your reasoning for selecting this method. One option is to choose quantization thresholds for the \"ChildPoverty\" variable that equally divide the data into four classes. Should balancing of the dataset be done for both the training and testing set? Explain.\n",
    "            [.5 points] Assume you are equally interested in the classification performance for each class in the dataset. Split the dataset into 80% for training and 20% for testing. There is NO NEED to split the data multiple times for this lab.\n",
    "        Note: You will need to one hot encode the target, but do not one hot encode the categorical data until instructed to do so in the lab. "
   ],
   "metadata": {
    "collapsed": false
   }
  },
  {
   "cell_type": "markdown",
   "source": [
    "Pre-processing and Initial Modeling (2.5 points total)\n",
    "        You will be using a two layer perceptron from class for the next few parts of the rubric. There are several versions of the two layer perceptron covered in class, with example code. When selecting an example two layer network from class be sure that you use: (1) vectorized gradient computation, (2) mini-batching, (3) cross entropy loss, and (4) proper Glorot initialization, at a minimum. There is no need to use momentum or learning rate reduction (assuming you choose a sufficiently small learning rate). It is recommended to use sigmoids throughout the network, but not required.\n",
    "        [.5 points] Use the example two-layer perceptron network from the class example and quantify performance using accuracy. Do not normalize or one-hot encode the data (not yet). Be sure that training converges by graphing the loss function versus the number of epochs.\n",
    "        [.5 points] Now (1) normalize the continuous numeric feature data. Use the example two-layer perceptron network from the class example and quantify performance using accuracy. Be sure that training converges by graphing the loss function versus the number of epochs.\n",
    "        [.5 points] Now(1) normalize the continuous numeric feature data AND (2) one hot encode the categorical data. Use the example two-layer perceptron network from the class example and quantify performance using accuracy. Be sure that training converges by graphing the loss function versus the number of epochs.\n",
    "        [1 points] Compare the performance of the three models you just trained. Are there any meaningful differences in performance? Explain, in your own words, why these models have (or do not have) different performances.\n",
    "            Use one-hot encoding and normalization on the dataset for the remainder of this lab assignment."
   ],
   "metadata": {
    "collapsed": false
   }
  },
  {
   "cell_type": "markdown",
   "source": [
    "Modeling (5 points total)\n",
    "        [1 points] Add support for a third layer in the multi-layer perceptron. Add support for saving (and plotting after training is completed) the average magnitude of the gradient for each layer, for each epoch (like we did in the flipped module for back propagation). For magnitude calculation, you are free to use either the average absolute values or the L1/L2 norm.\n",
    "            Quantify the performance of the model and graph the magnitudes for each layer versus the number of epochs.\n",
    "        [1 points] Repeat the previous step, adding support for a fourth layer.\n",
    "        [1 points] Repeat the previous step, adding support for a fifth layer.\n",
    "        [2 points] Implement an adaptive learning technique that was discussed in lecture and use it on the five layer network (such as AdaGrad, RMSProps, or AdaDelta).\n",
    "         Discuss which adaptive method you chose.\n",
    "         Compare the performance of your five layer model with and without the adaptive learning strategy. Do not use AdaM."
   ],
   "metadata": {
    "collapsed": false
   }
  },
  {
   "cell_type": "markdown",
   "source": [
    "Exceptional Work (1 points total)\n",
    "       Implement adaptive momentum (AdaM) in the five layer neural network and quantify the performance."
   ],
   "metadata": {
    "collapsed": false
   }
  }
 ],
 "metadata": {
  "kernelspec": {
   "display_name": "Python 3 (ipykernel)",
   "language": "python",
   "name": "python3"
  },
  "language_info": {
   "codemirror_mode": {
    "name": "ipython",
    "version": 3
   },
   "file_extension": ".py",
   "mimetype": "text/x-python",
   "name": "python",
   "nbconvert_exporter": "python",
   "pygments_lexer": "ipython3",
   "version": "3.9.13"
  }
 },
 "nbformat": 4,
 "nbformat_minor": 5
}
