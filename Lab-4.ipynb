{
 "cells": [
  {
   "cell_type": "markdown",
   "id": "6601edd3-0940-411b-a792-da8e9cec2da4",
   "metadata": {},
   "source": [
    "# Lab 4 - Multilayer Perceptron\n",
    "Team members:\n",
    "- Sam Yao\n",
    "- Rebecca Kuhlman\n",
    "- Michael Amberg"
   ]
  },
  {
   "cell_type": "markdown",
   "id": "8a3c892f-d3b5-46dd-89d2-fe55e27c9ff9",
   "metadata": {},
   "source": [
    "## Objective\n",
    "\n",
    "The objective of this lab is to familiarize ourselves with MultiLayer Neural Networks. This will be done through predicting, for each county, the level of child poverty. You will need to convert this from regression to four levels of classification by quantizing the variable of interest.\n",
    "\n",
    "1) Load the data into memory and save it to a pandas data frame. Do not normalize or one-hot encode any of the features until asked to do so later in the rubric."
   ]
  },
  {
   "cell_type": "code",
   "execution_count": 1,
   "id": "bca9ccc4-db84-4201-8e86-449c713337b0",
   "metadata": {},
   "outputs": [],
   "source": [
    "import pandas as pd\n",
    "import numpy as np\n",
    "\n",
    "df_census_raw = pd.read_csv(\"acs2017_census_tract_data.csv\")"
   ]
  },
  {
   "cell_type": "code",
   "execution_count": 2,
   "id": "dfea931e-39e7-47c6-98e2-dd321fbee5bf",
   "metadata": {},
   "outputs": [
    {
     "name": "stdout",
     "output_type": "stream",
     "text": [
      "<class 'pandas.core.frame.DataFrame'>\n",
      "RangeIndex: 74001 entries, 0 to 74000\n",
      "Data columns (total 37 columns):\n",
      " #   Column            Non-Null Count  Dtype  \n",
      "---  ------            --------------  -----  \n",
      " 0   TractId           74001 non-null  int64  \n",
      " 1   State             74001 non-null  object \n",
      " 2   County            74001 non-null  object \n",
      " 3   TotalPop          74001 non-null  int64  \n",
      " 4   Men               74001 non-null  int64  \n",
      " 5   Women             74001 non-null  int64  \n",
      " 6   Hispanic          73305 non-null  float64\n",
      " 7   White             73305 non-null  float64\n",
      " 8   Black             73305 non-null  float64\n",
      " 9   Native            73305 non-null  float64\n",
      " 10  Asian             73305 non-null  float64\n",
      " 11  Pacific           73305 non-null  float64\n",
      " 12  VotingAgeCitizen  74001 non-null  int64  \n",
      " 13  Income            72885 non-null  float64\n",
      " 14  IncomeErr         72885 non-null  float64\n",
      " 15  IncomePerCap      73256 non-null  float64\n",
      " 16  IncomePerCapErr   73256 non-null  float64\n",
      " 17  Poverty           73159 non-null  float64\n",
      " 18  ChildPoverty      72891 non-null  float64\n",
      " 19  Professional      73190 non-null  float64\n",
      " 20  Service           73190 non-null  float64\n",
      " 21  Office            73190 non-null  float64\n",
      " 22  Construction      73190 non-null  float64\n",
      " 23  Production        73190 non-null  float64\n",
      " 24  Drive             73200 non-null  float64\n",
      " 25  Carpool           73200 non-null  float64\n",
      " 26  Transit           73200 non-null  float64\n",
      " 27  Walk              73200 non-null  float64\n",
      " 28  OtherTransp       73200 non-null  float64\n",
      " 29  WorkAtHome        73200 non-null  float64\n",
      " 30  MeanCommute       73055 non-null  float64\n",
      " 31  Employed          74001 non-null  int64  \n",
      " 32  PrivateWork       73190 non-null  float64\n",
      " 33  PublicWork        73190 non-null  float64\n",
      " 34  SelfEmployed      73190 non-null  float64\n",
      " 35  FamilyWork        73190 non-null  float64\n",
      " 36  Unemployment      73191 non-null  float64\n",
      "dtypes: float64(29), int64(6), object(2)\n",
      "memory usage: 20.9+ MB\n"
     ]
    }
   ],
   "source": [
    "df_census_raw.info()"
   ]
  },
  {
   "cell_type": "markdown",
   "id": "fdbedbea-e014-4c1e-bde6-3e0edbaf3d32",
   "metadata": {},
   "source": [
    "2) Remove any observations that having missing data. \n",
    "\n",
    "Source used for this section:\n",
    "- https://pandas.pydata.org/docs/reference/api/pandas.DataFrame.dropna.html"
   ]
  },
  {
   "cell_type": "code",
   "execution_count": 3,
   "id": "12116e9f-a14c-4d29-a71d-1ce6635d4573",
   "metadata": {},
   "outputs": [],
   "source": [
    "df_census_raw = df_census_raw.dropna() #Utilized the pandas documentation here"
   ]
  },
  {
   "cell_type": "code",
   "execution_count": 4,
   "id": "eebd3207-c2f2-49b1-9fb2-78520ec62fcf",
   "metadata": {},
   "outputs": [
    {
     "name": "stdout",
     "output_type": "stream",
     "text": [
      "<class 'pandas.core.frame.DataFrame'>\n",
      "Int64Index: 72718 entries, 0 to 74000\n",
      "Data columns (total 37 columns):\n",
      " #   Column            Non-Null Count  Dtype  \n",
      "---  ------            --------------  -----  \n",
      " 0   TractId           72718 non-null  int64  \n",
      " 1   State             72718 non-null  object \n",
      " 2   County            72718 non-null  object \n",
      " 3   TotalPop          72718 non-null  int64  \n",
      " 4   Men               72718 non-null  int64  \n",
      " 5   Women             72718 non-null  int64  \n",
      " 6   Hispanic          72718 non-null  float64\n",
      " 7   White             72718 non-null  float64\n",
      " 8   Black             72718 non-null  float64\n",
      " 9   Native            72718 non-null  float64\n",
      " 10  Asian             72718 non-null  float64\n",
      " 11  Pacific           72718 non-null  float64\n",
      " 12  VotingAgeCitizen  72718 non-null  int64  \n",
      " 13  Income            72718 non-null  float64\n",
      " 14  IncomeErr         72718 non-null  float64\n",
      " 15  IncomePerCap      72718 non-null  float64\n",
      " 16  IncomePerCapErr   72718 non-null  float64\n",
      " 17  Poverty           72718 non-null  float64\n",
      " 18  ChildPoverty      72718 non-null  float64\n",
      " 19  Professional      72718 non-null  float64\n",
      " 20  Service           72718 non-null  float64\n",
      " 21  Office            72718 non-null  float64\n",
      " 22  Construction      72718 non-null  float64\n",
      " 23  Production        72718 non-null  float64\n",
      " 24  Drive             72718 non-null  float64\n",
      " 25  Carpool           72718 non-null  float64\n",
      " 26  Transit           72718 non-null  float64\n",
      " 27  Walk              72718 non-null  float64\n",
      " 28  OtherTransp       72718 non-null  float64\n",
      " 29  WorkAtHome        72718 non-null  float64\n",
      " 30  MeanCommute       72718 non-null  float64\n",
      " 31  Employed          72718 non-null  int64  \n",
      " 32  PrivateWork       72718 non-null  float64\n",
      " 33  PublicWork        72718 non-null  float64\n",
      " 34  SelfEmployed      72718 non-null  float64\n",
      " 35  FamilyWork        72718 non-null  float64\n",
      " 36  Unemployment      72718 non-null  float64\n",
      "dtypes: float64(29), int64(6), object(2)\n",
      "memory usage: 21.1+ MB\n"
     ]
    }
   ],
   "source": [
    "df_census_raw.info()"
   ]
  },
  {
   "cell_type": "markdown",
   "id": "06acf1ae-ec73-4b27-91de-77e994902e3f",
   "metadata": {},
   "source": [
    "3) Encode any string data as integers for now.\n",
    "\n",
    "There are two categories that are not numerical: State and County.\n",
    "\n",
    "I encoded the states and individual counties as nominal types, where each number corresponds to a unique county and state, and has no ranking whatsoever."
   ]
  },
  {
   "cell_type": "code",
   "execution_count": 5,
   "id": "b7948c42-4454-4171-aba3-884a76a672ed",
   "metadata": {},
   "outputs": [],
   "source": [
    "#Map States to a number\n",
    "states_mapping = {state: label for label, state in enumerate(df_census_raw.State.unique())}\n",
    "df_census_raw['State'] = df_census_raw['State'].map(states_mapping)\n",
    "\n",
    "#Map Counties to a number\n",
    "county_mapping = {county: label for label, county in enumerate(df_census_raw.County.unique())}\n",
    "df_census_raw['County'] = df_census_raw['County'].map(county_mapping)"
   ]
  },
  {
   "cell_type": "markdown",
   "id": "4abd141f-c18d-4192-9924-41b01b046db1",
   "metadata": {},
   "source": [
    "We have decided to remove the county variable. While county can be a indicator of childhood poverty, due to the limited amount of entries for each county, the data will likely be biased on what data ends up in the training set."
   ]
  },
  {
   "cell_type": "code",
   "execution_count": 6,
   "id": "062a217d-b0b7-4922-9e3c-ee09f37637d5",
   "metadata": {},
   "outputs": [
    {
     "data": {
      "text/plain": [
       "186     2300\n",
       "366     1317\n",
       "196      929\n",
       "103      885\n",
       "50       822\n",
       "        ... \n",
       "1755       1\n",
       "1066       1\n",
       "663        1\n",
       "1065       1\n",
       "1651       1\n",
       "Name: County, Length: 1954, dtype: int64"
      ]
     },
     "execution_count": 6,
     "metadata": {},
     "output_type": "execute_result"
    }
   ],
   "source": [
    "df_census_raw.County.value_counts()"
   ]
  },
  {
   "cell_type": "code",
   "execution_count": 7,
   "id": "570c83e6-fc4d-49c1-bcbb-ec26aa49bf99",
   "metadata": {},
   "outputs": [
    {
     "data": {
      "text/plain": [
       "<AxesSubplot:>"
      ]
     },
     "execution_count": 7,
     "metadata": {},
     "output_type": "execute_result"
    },
    {
     "data": {
      "image/png": "[encoded data removed]",
      "text/plain": [
       "<Figure size 640x480 with 1 Axes>"
      ]
     },
     "metadata": {},
     "output_type": "display_data"
    }
   ],
   "source": [
    "import matplotlib.pyplot as plt\n",
    "\n",
    "df_census_raw.County.value_counts().plot.bar()"
   ]
  },
  {
   "cell_type": "markdown",
   "id": "1a4b74c4-a6c7-4b47-b1dc-cad50e51952d",
   "metadata": {},
   "source": [
    "Even without this handy visualization, one can see that there are too many counties with too few data points to  begin analysis on child poverty. Although there certainly are patterns as to which counties in a state are more likely to have children in poverty, leaving the county attribute as it is would most likely introduce bias towards the counties that have the highest rates of child poverty. Since child poverty is certainly influenced by several other factors other than physical county location, we think it is best to remove Counties as an attribute from the dataset."
   ]
  },
  {
   "cell_type": "code",
   "execution_count": 8,
   "id": "391ef7b0-8a6d-452c-b2c8-3d5e624ebe48",
   "metadata": {},
   "outputs": [],
   "source": [
    "df_census_raw = df_census_raw.drop(labels='County',axis=1)"
   ]
  },
  {
   "cell_type": "code",
   "execution_count": 9,
   "id": "1a4d5043-9cbc-4b1a-9d2d-27ff9873ca16",
   "metadata": {},
   "outputs": [
    {
     "name": "stdout",
     "output_type": "stream",
     "text": [
      "<class 'pandas.core.frame.DataFrame'>\n",
      "Int64Index: 72718 entries, 0 to 74000\n",
      "Data columns (total 36 columns):\n",
      " #   Column            Non-Null Count  Dtype  \n",
      "---  ------            --------------  -----  \n",
      " 0   TractId           72718 non-null  int64  \n",
      " 1   State             72718 non-null  int64  \n",
      " 2   TotalPop          72718 non-null  int64  \n",
      " 3   Men               72718 non-null  int64  \n",
      " 4   Women             72718 non-null  int64  \n",
      " 5   Hispanic          72718 non-null  float64\n",
      " 6   White             72718 non-null  float64\n",
      " 7   Black             72718 non-null  float64\n",
      " 8   Native            72718 non-null  float64\n",
      " 9   Asian             72718 non-null  float64\n",
      " 10  Pacific           72718 non-null  float64\n",
      " 11  VotingAgeCitizen  72718 non-null  int64  \n",
      " 12  Income            72718 non-null  float64\n",
      " 13  IncomeErr         72718 non-null  float64\n",
      " 14  IncomePerCap      72718 non-null  float64\n",
      " 15  IncomePerCapErr   72718 non-null  float64\n",
      " 16  Poverty           72718 non-null  float64\n",
      " 17  ChildPoverty      72718 non-null  float64\n",
      " 18  Professional      72718 non-null  float64\n",
      " 19  Service           72718 non-null  float64\n",
      " 20  Office            72718 non-null  float64\n",
      " 21  Construction      72718 non-null  float64\n",
      " 22  Production        72718 non-null  float64\n",
      " 23  Drive             72718 non-null  float64\n",
      " 24  Carpool           72718 non-null  float64\n",
      " 25  Transit           72718 non-null  float64\n",
      " 26  Walk              72718 non-null  float64\n",
      " 27  OtherTransp       72718 non-null  float64\n",
      " 28  WorkAtHome        72718 non-null  float64\n",
      " 29  MeanCommute       72718 non-null  float64\n",
      " 30  Employed          72718 non-null  int64  \n",
      " 31  PrivateWork       72718 non-null  float64\n",
      " 32  PublicWork        72718 non-null  float64\n",
      " 33  SelfEmployed      72718 non-null  float64\n",
      " 34  FamilyWork        72718 non-null  float64\n",
      " 35  Unemployment      72718 non-null  float64\n",
      "dtypes: float64(29), int64(7)\n",
      "memory usage: 20.5 MB\n"
     ]
    }
   ],
   "source": [
    "df_census_raw.info()"
   ]
  },
  {
   "cell_type": "code",
   "execution_count": 10,
   "id": "488a910f-ce61-49a6-a5fc-1debc16fdfc8",
   "metadata": {},
   "outputs": [
    {
     "data": {
      "text/plain": [
       "count    72718.000000\n",
       "mean        21.148476\n",
       "std         18.572714\n",
       "min          0.000000\n",
       "25%          6.200000\n",
       "50%         16.300000\n",
       "75%         31.600000\n",
       "max        100.000000\n",
       "Name: ChildPoverty, dtype: float64"
      ]
     },
     "execution_count": 10,
     "metadata": {},
     "output_type": "execute_result"
    }
   ],
   "source": [
    "df_census_raw['ChildPoverty'].describe()"
   ]
  },
  {
   "cell_type": "code",
   "execution_count": 11,
   "id": "33d19154-9f07-46d0-8ec3-5250fd2d0b60",
   "metadata": {},
   "outputs": [
    {
     "data": {
      "text/plain": [
       "(array([25612., 15946., 11393.,  7936.,  5289.,  3352.,  1810.,   887.,\n",
       "          345.,   148.]),\n",
       " array([  0.,  10.,  20.,  30.,  40.,  50.,  60.,  70.,  80.,  90., 100.]),\n",
       " <BarContainer object of 10 artists>)"
      ]
     },
     "execution_count": 11,
     "metadata": {},
     "output_type": "execute_result"
    },
    {
     "data": {
      "image/png": "[encoded data removed]",
      "text/plain": [
       "<Figure size 640x480 with 1 Axes>"
      ]
     },
     "metadata": {},
     "output_type": "display_data"
    }
   ],
   "source": [
    "import matplotlib.pyplot as plt\n",
    "plt.hist(df_census_raw.ChildPoverty)"
   ]
  },
  {
   "cell_type": "markdown",
   "id": "d0528b57",
   "metadata": {},
   "source": [
    "[.5 points] Balance the dataset so that about the same number of instances are within each class. Choose a method for balancing the dataset and explain your reasoning for selecting this method. One option is to choose quantization thresholds for the \"ChildPoverty\" variable that equally divide the data into four classes. Should balancing of the dataset be done for both the training and testing set? Explain.\n",
    "\n",
    "\n",
    "Utilized Code Sourced here:\n",
    "- https://pandas.pydata.org/docs/reference/api/pandas.qcut.html"
   ]
  },
  {
   "cell_type": "code",
   "execution_count": 12,
   "id": "31d66090-d3bd-40d8-b468-0d51691623c0",
   "metadata": {},
   "outputs": [
    {
     "data": {
      "text/plain": [
       "TractId               int64\n",
       "State                 int64\n",
       "TotalPop              int64\n",
       "Men                   int64\n",
       "Women                 int64\n",
       "Hispanic            float64\n",
       "White               float64\n",
       "Black               float64\n",
       "Native              float64\n",
       "Asian               float64\n",
       "Pacific             float64\n",
       "VotingAgeCitizen      int64\n",
       "Income              float64\n",
       "IncomeErr           float64\n",
       "IncomePerCap        float64\n",
       "IncomePerCapErr     float64\n",
       "Poverty             float64\n",
       "ChildPoverty          int64\n",
       "Professional        float64\n",
       "Service             float64\n",
       "Office              float64\n",
       "Construction        float64\n",
       "Production          float64\n",
       "Drive               float64\n",
       "Carpool             float64\n",
       "Transit             float64\n",
       "Walk                float64\n",
       "OtherTransp         float64\n",
       "WorkAtHome          float64\n",
       "MeanCommute         float64\n",
       "Employed              int64\n",
       "PrivateWork         float64\n",
       "PublicWork          float64\n",
       "SelfEmployed        float64\n",
       "FamilyWork          float64\n",
       "Unemployment        float64\n",
       "dtype: object"
      ]
     },
     "execution_count": 12,
     "metadata": {},
     "output_type": "execute_result"
    }
   ],
   "source": [
    "#Looked at Documentation for pandas.qcut()\n",
    "\n",
    "df_census_raw.ChildPoverty, bins= pd.qcut(df_census_raw.ChildPoverty, 4,labels=[1,2,3,4], retbins=True)\n",
    "df_census_raw.astype({'ChildPoverty': 'int64'}).dtypes"
   ]
  },
  {
   "cell_type": "markdown",
   "id": "98c1b336-6ba4-4cf8-a9b8-efe139cfe08e",
   "metadata": {},
   "source": [
    "## Preprocessing\n",
    "\n",
    "We can remove the 'TractID' column, as it is an identification for each row and therefore has no bearing on the target.\n",
    "\n",
    "It seems that several of the columns aren't normalized, while other columns are normalized. This will prove to be a problem as the non-normalized columns will have more of an effect on the target variable. "
   ]
  },
  {
   "cell_type": "code",
   "execution_count": 28,
   "id": "90b76634-7913-4635-97e7-8d0ba664a737",
   "metadata": {},
   "outputs": [
    {
     "name": "stdout",
     "output_type": "stream",
     "text": [
      "            TractId         State      TotalPop           Men         Women  \\\n",
      "count  7.271800e+04  72718.000000  72718.000000  72718.000000  72718.000000   \n",
      "mean   2.837292e+10     24.288526   4443.485121   2184.362647   2259.122473   \n",
      "std    1.644198e+10     15.034675   2190.183318   1099.954423   1124.604806   \n",
      "min    1.001020e+09      0.000000     58.000000     26.000000     27.000000   \n",
      "25%    1.304703e+10     10.000000   2958.000000   1440.000000   1494.000000   \n",
      "50%    2.804700e+10     24.000000   4137.000000   2024.000000   2102.000000   \n",
      "75%    4.200341e+10     38.000000   5532.750000   2719.000000   2817.000000   \n",
      "max    7.215375e+10     51.000000  65528.000000  32266.000000  33262.000000   \n",
      "\n",
      "           Hispanic         White         Black        Native         Asian  \\\n",
      "count  72718.000000  72718.000000  72718.000000  72718.000000  72718.000000   \n",
      "mean      17.282951     61.337143     13.254417      0.727776      4.752459   \n",
      "std       23.084428     30.628031     21.581269      4.505791      8.995573   \n",
      "min        0.000000      0.000000      0.000000      0.000000      0.000000   \n",
      "25%        2.600000     38.100000      0.800000      0.000000      0.200000   \n",
      "50%        7.400000     70.500000      3.800000      0.000000      1.500000   \n",
      "75%       21.100000     87.700000     14.500000      0.400000      5.000000   \n",
      "max      100.000000    100.000000    100.000000     99.400000     91.400000   \n",
      "\n",
      "            Pacific  VotingAgeCitizen         Income      IncomeErr  \\\n",
      "count  72718.000000      72718.000000   72718.000000   72718.000000   \n",
      "mean       0.146082       3141.161982   61119.999326    9690.325642   \n",
      "std        1.015198       1512.610257   30511.062580    6119.407315   \n",
      "min        0.000000         40.000000    2692.000000     728.000000   \n",
      "25%        0.000000       2096.000000   40380.000000    5737.000000   \n",
      "50%        0.000000       2926.000000   54413.000000    8268.000000   \n",
      "75%        0.000000       3923.000000   74688.000000   11909.000000   \n",
      "max       71.900000      39389.000000  249750.000000  153365.000000   \n",
      "\n",
      "        IncomePerCap  IncomePerCapErr       Poverty  Professional  \\\n",
      "count   72718.000000     72718.000000  72718.000000  72718.000000   \n",
      "mean    30666.653222      4249.725969     16.046724     35.553813   \n",
      "std     15844.127467      2991.009809     12.428643     15.038790   \n",
      "min      1631.000000       351.000000      0.000000      0.000000   \n",
      "25%     20624.000000      2508.000000      6.900000     24.700000   \n",
      "50%     27249.000000      3404.000000     12.600000     33.300000   \n",
      "75%     36413.000000      4959.000000     21.800000     44.800000   \n",
      "max    220253.000000     84414.000000    100.000000     92.200000   \n",
      "\n",
      "            Service        Office  \n",
      "count  72718.000000  72718.000000  \n",
      "mean      18.847948     23.413165  \n",
      "std        7.969609      5.591354  \n",
      "min        0.000000      0.000000  \n",
      "25%       13.300000     19.700000  \n",
      "50%       17.700000     23.200000  \n",
      "75%       23.200000     26.900000  \n",
      "max       70.900000     72.300000  \n",
      "       Construction    Production         Drive       Carpool       Transit  \\\n",
      "count  72718.000000  72718.000000  72718.000000  72718.000000  72718.000000   \n",
      "mean       9.263044     12.922312     75.880830      9.324557      5.370585   \n",
      "std        5.943849      7.592511     14.960499      5.107717     11.626060   \n",
      "min        0.000000      0.000000      0.000000      0.000000      0.000000   \n",
      "25%        5.000000      7.200000     72.400000      5.800000      0.000000   \n",
      "50%        8.400000     11.800000     79.900000      8.500000      1.000000   \n",
      "75%       12.500000     17.500000     84.900000     11.900000      4.600000   \n",
      "max       68.100000     60.500000    100.000000     64.000000     90.800000   \n",
      "\n",
      "               Walk   OtherTransp    WorkAtHome   MeanCommute      Employed  \\\n",
      "count  72718.000000  72718.000000  72718.000000  72718.000000  72718.000000   \n",
      "mean       2.925778      1.886076      4.612646     26.080334   2081.309139   \n",
      "std        5.260623      2.485812      3.770733      7.095680   1120.109805   \n",
      "min        0.000000      0.000000      0.000000      4.200000     20.000000   \n",
      "25%        0.400000      0.400000      2.000000     21.100000   1306.000000   \n",
      "50%        1.400000      1.200000      3.800000     25.400000   1915.000000   \n",
      "75%        3.300000      2.500000      6.300000     30.300000   2651.000000   \n",
      "max       77.700000     53.400000     82.800000     73.900000  28945.000000   \n",
      "\n",
      "        PrivateWork    PublicWork  SelfEmployed    FamilyWork  Unemployment  \n",
      "count  72718.000000  72718.000000  72718.000000  72718.000000  72718.000000  \n",
      "mean      79.511827     14.149495      6.167661      0.171231      7.224917  \n",
      "std        7.957350      7.164790      3.798703      0.451630      5.099419  \n",
      "min       17.500000      0.000000      0.000000      0.000000      0.000000  \n",
      "25%       75.300000      9.300000      3.500000      0.000000      3.900000  \n",
      "50%       80.600000     13.000000      5.500000      0.000000      6.000000  \n",
      "75%       85.000000     17.600000      8.000000      0.000000      9.000000  \n",
      "max      100.000000     80.700000     47.400000     22.300000     62.800000  \n"
     ]
    }
   ],
   "source": [
    "#utilized source code here: https://pandas.pydata.org/docs/reference/api/pandas.DataFrame.columns.html\n",
    "\n",
    "import seaborn as sns\n",
    "# Show the summary statistics for each of the columns.\n",
    "print(df_census_raw[df_census_raw.columns[0:21]].describe())\n",
    "print(df_census_raw[df_census_raw.columns[21:]].describe())"
   ]
  },
  {
   "cell_type": "markdown",
   "id": "d4db7085-b1ba-4ce8-b93c-19903cbdfcd9",
   "metadata": {},
   "source": [
    "For quantization, we went with splitting the target output into four different bins using equal frequency. For training and testing, it would be important to balance the datasets. This is because if you don't balance the dataset, this could end in a situation where there are too many of one variable in the test dataset, but not the training dataset, and this would cause the model to perform poorly.\n",
    "\n",
    "In this particular case, we are shuffling the train_test_split method to balance this out."
   ]
  },
  {
   "cell_type": "markdown",
   "id": "9657bd21",
   "metadata": {},
   "source": [
    "The balancing of the data is not necessary for the testing set. In reality, a deployed algorithm will not encounter balanced data. The balanced data is important in the training set as it makes sure the model will be able to predict data across the board in a non-biased way. Testing data does not influence the algorithm directly, though it is important to test a variety of circumstances before deployment."
   ]
  },
  {
   "cell_type": "code",
   "execution_count": 53,
   "id": "df7f27c8",
   "metadata": {
    "collapsed": false,
    "jupyter": {
     "outputs_hidden": false
    }
   },
   "outputs": [
    {
     "name": "stdout",
     "output_type": "stream",
     "text": [
      "(72718, 33)\n",
      "(72718, 1)\n",
      "[1 2 3 4]\n",
      "(58174, 33)\n",
      "(14544, 33)\n"
     ]
    }
   ],
   "source": [
    "from sklearn.model_selection import train_test_split\n",
    "\n",
    "X = df_census_raw[[\"State\",\"TotalPop\", \"Men\", \"Women\", \"Hispanic\",\"White\",\"Black\",\"Native\", \"Asian\", \"Pacific\",\n",
    "               \"VotingAgeCitizen\",\"Income\", \"IncomeErr\", \"IncomePerCap\", \"IncomePerCapErr\",\"Professional\",\"Service\",\"Office\", \"Construction\", \"Production\",\"Drive\", \"Carpool\", \"Transit\", \"Walk\",\"OtherTransp\",\"WorkAtHome\",\"MeanCommute\", \"Employed\", \"PrivateWork\",\n",
    "               \"PublicWork\",\"SelfEmployed\", \"FamilyWork\", \"Unemployment\"]]\n",
    "#Include poverty?\n",
    "\n",
    "y = df_census_raw[[\"ChildPoverty\"]]\n",
    "\n",
    "(X_train, X_test, y_train, y_test) = train_test_split(X, y, test_size = .2, shuffle=True)\n",
    "print(X.shape)\n",
    "print(y.shape)\n",
    "print(np.unique(y))\n",
    "print(X_train.shape)\n",
    "print(X_test.shape)"
   ]
  },
  {
   "cell_type": "markdown",
   "id": "cbe5714a",
   "metadata": {},
   "source": [
    "The balancing of the data is not necessary for the testing set. In reality, a deployed algorithm will not encounter balanced data. The balanced data is important in the training set as it makes sure the model will be able to predict data across the board in a non-biased way. Testing data does not influence the algorithm directly, though it is important to test a variety of circumstances before deployment. "
   ]
  },
  {
   "cell_type": "markdown",
   "id": "6e4906e7",
   "metadata": {},
   "source": [
    "Pre-processing and Initial Modeling (2.5 points total)\n",
    "        You will be using a two layer perceptron from class for the next few parts of the rubric. There are several versions of the two layer perceptron covered in class, with example code. When selecting an example two layer network from class be sure that you use: (1) vectorized gradient computation, (2) mini-batching, (3) cross entropy loss, and (4) proper Glorot initialization, at a minimum. There is no need to use momentum or learning rate reduction (assuming you choose a sufficiently small learning rate). It is recommended to use sigmoids throughout the network, but not required.\n",
    "        [.5 points] Use the example two-layer perceptron network from the class example and quantify performance using accuracy. Do not normalize or one-hot encode the data (not yet). Be sure that training converges by graphing the loss function versus the number of epochs.\n",
    "\n"
   ]
  },
  {
   "cell_type": "code",
   "execution_count": 39,
   "id": "d5055670",
   "metadata": {
    "collapsed": false,
    "jupyter": {
     "outputs_hidden": false
    }
   },
   "outputs": [],
   "source": [
    "#Example adapted from https://github.com/rasbt/python-machine-learning-book/blob/master/code/ch12/ch12.ipynb\n",
    "#Original Author: Sebastian Raschka\n",
    "\n",
    "import numpy as np\n",
    "from scipy.special import expit\n",
    "import sys\n",
    "import pandas as pd\n",
    "\n",
    "# start with a simple base classifier, which can't be fit or predicted\n",
    "# it only has internal classes to be used by classes that will subclass it\n",
    "# Start with the following functions:\n",
    "#    init\n",
    "#    encode_labels\n",
    "#    initialize weights\n",
    "#    sigmoid\n",
    "#    add bias (vector of ones)\n",
    "#    objective function (cost and regularizer)\n",
    "class TwoLayerPerceptronBase(object):\n",
    "    def __init__(self, n_hidden=30,\n",
    "                 C=0.0, epochs=500, eta=0.001, random_state=None):\n",
    "        np.random.seed(random_state)\n",
    "        self.n_hidden = n_hidden\n",
    "        self.l2_C = C\n",
    "        self.epochs = epochs\n",
    "        self.eta = eta\n",
    "\n",
    "    @staticmethod\n",
    "    def _encode_labels(y):\n",
    "        \"\"\"Encode labels into one-hot representation\"\"\"\n",
    "        onehot = pd.get_dummies(y).values.T\n",
    "\n",
    "        return onehot\n",
    "\n",
    "    def _initialize_weights(self):\n",
    "        \"\"\"Initialize weights with small random numbers.\"\"\"\n",
    "        W1_num_elems = (self.n_features_ + 1)*self.n_hidden\n",
    "        W1 = np.random.uniform(-1.0, 1.0, size=W1_num_elems)\n",
    "        W1 = W1.reshape(self.n_hidden, self.n_features_ + 1) # reshape to be W\n",
    "\n",
    "        W2_num_elems = (self.n_hidden + 1)*self.n_output_\n",
    "        W2 = np.random.uniform(-1.0, 1.0, size=W2_num_elems)\n",
    "        W2 = W2.reshape(self.n_output_, self.n_hidden + 1)\n",
    "        return W1, W2\n",
    "\n",
    "    @staticmethod\n",
    "    def _sigmoid(z):\n",
    "        \"\"\"Use scipy.special.expit to avoid overflow\"\"\"\n",
    "        # 1.0 / (1.0 + np.exp(-z))\n",
    "        return expit(z)\n",
    "\n",
    "    @staticmethod\n",
    "    def _add_bias_unit(X, how='column'):\n",
    "        \"\"\"Add bias unit (column or row of 1s) to array at index 0\"\"\"\n",
    "        if how == 'column':\n",
    "            ones = np.ones((X.shape[0], 1))\n",
    "            X_new = np.hstack((ones, X))\n",
    "        elif how == 'row':\n",
    "            ones = np.ones((1, X.shape[1]))\n",
    "            X_new = np.vstack((ones, X))\n",
    "        return X_new\n",
    "\n",
    "    @staticmethod\n",
    "    def _L2_reg(lambda_, W1, W2):\n",
    "        \"\"\"Compute L2-regularization cost\"\"\"\n",
    "        # only compute for non-bias terms\n",
    "        return (lambda_) * np.sqrt(np.mean(W1[:, 1:] ** 2) + np.mean(W2[:, 1:] ** 2))\n",
    "\n",
    "    def _cost(self,A3,Y_enc,W1,W2):\n",
    "        '''Get the objective function value'''\n",
    "        cost = np.mean((Y_enc-A3)**2)\n",
    "        L2_term = self._L2_reg(self.l2_C, W1, W2)\n",
    "        return cost + L2_term"
   ]
  },
  {
   "cell_type": "code",
   "execution_count": null,
   "id": "91a7bf1e",
   "metadata": {
    "collapsed": false,
    "jupyter": {
     "outputs_hidden": false
    }
   },
   "outputs": [],
   "source": [
    "# now let's add in the following functions:\n",
    "#    feedforward\n",
    "#    fit and predict\n",
    "class TwoLayerPerceptron(TwoLayerPerceptronBase):\n",
    "    def _feedforward(self, X, W1, W2):\n",
    "        \"\"\"Compute feedforward step\n",
    "        -----------\n",
    "        X : Input layer with original features.\n",
    "        W1: Weight matrix for input layer -> hidden layer.\n",
    "        W2: Weight matrix for hidden layer -> output layer.\n",
    "        ----------\n",
    "        a1-a3 : activations into layer (or output layer)\n",
    "        z1-z2 : layer inputs\n",
    "\n",
    "        \"\"\"\n",
    "        A1 = self._add_bias_unit(X.T, how='row')\n",
    "        Z1 = W1 @ A1\n",
    "        A2 = self._sigmoid(Z1)\n",
    "        A2 = self._add_bias_unit(A2, how='row')\n",
    "        Z2 = W2 @ A2\n",
    "        A3 = self._sigmoid(Z2)\n",
    "        return A1, Z1, A2, Z2, A3\n",
    "\n",
    "    def _get_gradient(self, A1, A2, A3, Z1, Z2, Y_enc, W1, W2):\n",
    "        \"\"\" Compute gradient step using backpropagation.\n",
    "        \"\"\"\n",
    "        # need to vectorize this computation!\n",
    "        # See additional code and derivation below!\n",
    "\n",
    "    def predict(self, X):\n",
    "        \"\"\"Predict class labels\"\"\"\n",
    "        _, _, _, _, A3 = self._feedforward(X, self.W1, self.W2)\n",
    "        y_pred = np.argmax(A3, axis=0)\n",
    "        return y_pred\n",
    "\n",
    "\n",
    "    def fit(self, X, y, print_progress=False):\n",
    "        \"\"\" Learn weights from training data.\"\"\"\n",
    "\n",
    "        X_data, y_data = X.copy(), y.copy()\n",
    "        Y_enc = self._encode_labels(y)\n",
    "\n",
    "        # init weights and setup matrices\n",
    "        self.n_features_ = X_data.shape[1]\n",
    "        self.n_output_ = Y_enc.shape[0]\n",
    "        self.W1, self.W2 = self._initialize_weights()\n",
    "\n",
    "        self.cost_ = []\n",
    "        for i in range(self.epochs):\n",
    "\n",
    "            if print_progress>0 and (i+1)%print_progress==0:\n",
    "                sys.stderr.write('\\rEpoch: %d/%d' % (i+1, self.epochs))\n",
    "                sys.stderr.flush()\n",
    "\n",
    "            # feedforward all instances\n",
    "            A1, Z1, A2, Z2, A3 = self._feedforward(X_data,self.W1,self.W2)\n",
    "\n",
    "            cost = self._cost(A3,Y_enc,self.W1,self.W2)\n",
    "            self.cost_.append(cost)\n",
    "\n",
    "            # compute gradient via backpropagation\n",
    "            grad1, grad2 = self._get_gradient(A1=A1, A2=A2, A3=A3, Z1=Z1, Z2=Z2, Y_enc=Y_enc,\n",
    "                                              W1=self.W1, W2=self.W2)\n",
    "\n",
    "            self.W1 -= self.eta * grad1\n",
    "            self.W2 -= self.eta * grad2\n",
    "\n",
    "\n",
    "        return self"
   ]
  },
  {
   "cell_type": "markdown",
   "id": "dc055188",
   "metadata": {},
   "source": [
    "Vectorized Gradient Function"
   ]
  },
  {
   "cell_type": "code",
   "execution_count": 56,
   "id": "2f41b708",
   "metadata": {
    "collapsed": false,
    "jupyter": {
     "outputs_hidden": false
    }
   },
   "outputs": [],
   "source": [
    "params = dict(n_hidden=50,\n",
    "              C=0.1, # tradeoff L2 regularizer\n",
    "              epochs=400, # iterations\n",
    "              eta=0.001,  # learning rate\n",
    "              random_state=1)\n"
   ]
  },
  {
   "cell_type": "code",
   "execution_count": null,
   "id": "f42b1bed",
   "metadata": {
    "collapsed": false,
    "jupyter": {
     "outputs_hidden": false
    }
   },
   "outputs": [],
   "source": [
    "class TwoLayerPerceptronVectorized(TwoLayerPerceptron):\n",
    "    # just need a different gradient calculation\n",
    "    def _get_gradient(self, A1, A2, A3, Z1, Z2, Y_enc, W1, W2):\n",
    "        \"\"\" Compute gradient step using backpropagation.\n",
    "        \"\"\"\n",
    "        # vectorized backpropagation\n",
    "        V2 = -2*(Y_enc-A3)*A3*(1-A3)\n",
    "        V1 = A2*(1-A2)*(W2.T @ V2)\n",
    "\n",
    "        grad2 = V2 @ A2.T\n",
    "        grad1 = V1[1:,:] @ A1.T\n",
    "\n",
    "\n",
    "        # regularize weights that are not bias terms\n",
    "        grad1[:, 1:] += W1[:, 1:] * self.l2_C\n",
    "        grad2[:, 1:] += W2[:, 1:] * self.l2_C\n",
    "\n",
    "        return grad1, grad2"
   ]
  },
  {
   "cell_type": "code",
   "execution_count": null,
   "id": "d9e8085b",
   "metadata": {
    "collapsed": false,
    "jupyter": {
     "outputs_hidden": false
    }
   },
   "outputs": [
    {
     "name": "stderr",
     "output_type": "stream",
     "text": [
      "Epoch: 400/400"
     ]
    },
    {
     "name": "stdout",
     "output_type": "stream",
     "text": [
      "Accuracy: 0.18963146314631463\n"
     ]
    }
   ],
   "source": [
    "from sklearn.metrics import accuracy_score\n",
    "nn = TwoLayerPerceptronVectorized(**params)\n",
    "\n",
    "nn.fit(X_train, y_train, print_progress=50)\n",
    "yhat = nn.predict(X_test)\n",
    "print('Accuracy:',accuracy_score(y_test,yhat))"
   ]
  },
  {
   "cell_type": "code",
   "execution_count": 44,
   "id": "0038e907",
   "metadata": {
    "collapsed": false,
    "jupyter": {
     "outputs_hidden": false
    }
   },
   "outputs": [
    {
     "data": {
      "image/png": "[encoded data removed]",
      "text/plain": [
       "<Figure size 640x480 with 1 Axes>"
      ]
     },
     "metadata": {},
     "output_type": "display_data"
    }
   ],
   "source": [
    "plt.plot(range(len(nn.cost_)), nn.cost_)\n",
    "plt.ylabel('Cost')\n",
    "plt.xlabel('Epochs')\n",
    "plt.tight_layout()\n",
    "plt.show()"
   ]
  },
  {
   "cell_type": "markdown",
   "id": "d4490dec",
   "metadata": {},
   "source": [
    "Minibatch:"
   ]
  },
  {
   "cell_type": "code",
   "execution_count": 45,
   "id": "37fe7261",
   "metadata": {
    "collapsed": false,
    "jupyter": {
     "outputs_hidden": false
    }
   },
   "outputs": [],
   "source": [
    "# Example adapted from https://github.com/rasbt/python-machine-learning-book/blob/master/code/ch12/ch12.ipynb\n",
    "# Original Author: Sebastian Raschka\n",
    "# This is the optional book we use in the course, excellent intuitions and straightforward programming examples\n",
    "# please note, however, that this code has been manipulated to reflect our assumptions and notation.\n",
    "class TLPVectorizedMiniBatch(TwoLayerPerceptronVectorized):\n",
    "    def __init__(self, alpha=0.1, decrease_const=0.0, shuffle=True, minibatches=1, **kwds):\n",
    "        # need to add to the original initializer\n",
    "        self.alpha = alpha\n",
    "        self.decrease_const = decrease_const\n",
    "        self.shuffle = shuffle\n",
    "        self.minibatches = minibatches\n",
    "        # but keep other keywords\n",
    "        super().__init__(**kwds)\n",
    "\n",
    "    def fit(self, X, y, print_progress=0):\n",
    "        \"\"\" Learn weights from training data.\"\"\"\n",
    "        X_data, y_data = X.copy(), y.copy()\n",
    "        Y_enc = self._encode_labels(y)\n",
    "\n",
    "        # init weights and setup matrices\n",
    "        self.n_features_ = X_data.shape[1]\n",
    "        self.n_output_ = Y_enc.shape[0]\n",
    "        self.W1, self.W2 = self._initialize_weights()\n",
    "\n",
    "        # start momentum at zero for previous updates\n",
    "        rho_W1_prev = np.zeros(self.W1.shape) # for momentum\n",
    "        rho_W2_prev = np.zeros(self.W2.shape) # for momentum\n",
    "\n",
    "        self.cost_ = []\n",
    "        for k in range(self.epochs):\n",
    "\n",
    "            # adaptive learning rate\n",
    "            eta = self.eta**(1+self.decrease_const*k)# decreasing learning rate\n",
    "            eta = max(eta,self.eta/1000)\n",
    "            # there are many forms of adaptive learning rates out there!\n",
    "\n",
    "            if print_progress>0 and (k+1)%print_progress==0:\n",
    "                sys.stderr.write('\\rEpoch: %d/%d' % (k+1, self.epochs))\n",
    "                sys.stderr.flush()\n",
    "\n",
    "            if self.shuffle:\n",
    "                ridx = np.random.permutation(y_data.shape[0])\n",
    "                X_data, Y_enc = X_data[ridx], Y_enc[:, ridx]\n",
    "\n",
    "            # use numpy split to split into equal sized batches\n",
    "            # num batches== self.minibatches\n",
    "            mini = np.array_split(range(y_data.shape[0]), self.minibatches)\n",
    "            mini_cost = []\n",
    "            for idx in mini:\n",
    "\n",
    "                # feedforward\n",
    "                A1, Z1, A2, Z2, A3 = self._feedforward(X_data[idx],\n",
    "                                                       self.W1,\n",
    "                                                       self.W2)\n",
    "\n",
    "                cost = self._cost(A3,Y_enc[:, idx],self.W1,self.W2)\n",
    "                mini_cost.append(cost) # this appends cost of mini-batch only\n",
    "\n",
    "                # compute gradient via backpropagation\n",
    "                grad1, grad2 = self._get_gradient(A1=A1, A2=A2, A3=A3, Z1=Z1, Z2=Z2,\n",
    "                                                  Y_enc=Y_enc[:, idx],\n",
    "                                                  W1=self.W1, W2=self.W2)\n",
    "\n",
    "                rho_W1, rho_W2 = eta * grad1, eta * grad2\n",
    "                self.W1 -= (rho_W1 + (self.alpha * rho_W1_prev)) # update with momentum\n",
    "                self.W2 -= (rho_W2 + (self.alpha * rho_W2_prev)) # update with momentum\n",
    "                rho_W1_prev, rho_W2_prev = rho_W1, rho_W2\n",
    "\n",
    "            self.cost_.append(mini_cost)\n",
    "\n",
    "        return self"
   ]
  },
  {
   "cell_type": "code",
   "execution_count": 46,
   "id": "f51b2743",
   "metadata": {
    "collapsed": false,
    "jupyter": {
     "outputs_hidden": false
    }
   },
   "outputs": [
    {
     "ename": "KeyError",
     "evalue": "\"None of [Int64Index([21867, 49690, 45690,   246, 27517, 14274,  8817, 52837, 52633,\\n            28037,\\n            ...\\n            57236, 50501, 56373, 17250,  5223, 51951, 49761, 10609,   915,\\n            50919],\\n           dtype='int64', length=58174)] are in the [columns]\"",
     "output_type": "error",
     "traceback": [
      "\u001b[1;31m---------------------------------------------------------------------------\u001b[0m",
      "\u001b[1;31mKeyError\u001b[0m                                  Traceback (most recent call last)",
      "File \u001b[1;32m<timed exec>:10\u001b[0m\n",
      "Cell \u001b[1;32mIn[45], line 43\u001b[0m, in \u001b[0;36mTLPVectorizedMiniBatch.fit\u001b[1;34m(self, X, y, print_progress)\u001b[0m\n\u001b[0;32m     41\u001b[0m \u001b[38;5;28;01mif\u001b[39;00m \u001b[38;5;28mself\u001b[39m\u001b[38;5;241m.\u001b[39mshuffle:\n\u001b[0;32m     42\u001b[0m     ridx \u001b[38;5;241m=\u001b[39m np\u001b[38;5;241m.\u001b[39mrandom\u001b[38;5;241m.\u001b[39mpermutation(y_data\u001b[38;5;241m.\u001b[39mshape[\u001b[38;5;241m0\u001b[39m])\n\u001b[1;32m---> 43\u001b[0m     X_data, Y_enc \u001b[38;5;241m=\u001b[39m \u001b[43mX_data\u001b[49m\u001b[43m[\u001b[49m\u001b[43mridx\u001b[49m\u001b[43m]\u001b[49m, Y_enc[:, ridx]\n\u001b[0;32m     45\u001b[0m \u001b[38;5;66;03m# use numpy split to split into equal sized batches\u001b[39;00m\n\u001b[0;32m     46\u001b[0m \u001b[38;5;66;03m# num batches== self.minibatches\u001b[39;00m\n\u001b[0;32m     47\u001b[0m mini \u001b[38;5;241m=\u001b[39m np\u001b[38;5;241m.\u001b[39marray_split(\u001b[38;5;28mrange\u001b[39m(y_data\u001b[38;5;241m.\u001b[39mshape[\u001b[38;5;241m0\u001b[39m]), \u001b[38;5;28mself\u001b[39m\u001b[38;5;241m.\u001b[39mminibatches)\n",
      "File \u001b[1;32m~\\AppData\\Local\\Programs\\Python\\Python310\\lib\\site-packages\\pandas\\core\\frame.py:3813\u001b[0m, in \u001b[0;36mDataFrame.__getitem__\u001b[1;34m(self, key)\u001b[0m\n\u001b[0;32m   3811\u001b[0m     \u001b[38;5;28;01mif\u001b[39;00m is_iterator(key):\n\u001b[0;32m   3812\u001b[0m         key \u001b[38;5;241m=\u001b[39m \u001b[38;5;28mlist\u001b[39m(key)\n\u001b[1;32m-> 3813\u001b[0m     indexer \u001b[38;5;241m=\u001b[39m \u001b[38;5;28;43mself\u001b[39;49m\u001b[38;5;241;43m.\u001b[39;49m\u001b[43mcolumns\u001b[49m\u001b[38;5;241;43m.\u001b[39;49m\u001b[43m_get_indexer_strict\u001b[49m\u001b[43m(\u001b[49m\u001b[43mkey\u001b[49m\u001b[43m,\u001b[49m\u001b[43m \u001b[49m\u001b[38;5;124;43m\"\u001b[39;49m\u001b[38;5;124;43mcolumns\u001b[39;49m\u001b[38;5;124;43m\"\u001b[39;49m\u001b[43m)\u001b[49m[\u001b[38;5;241m1\u001b[39m]\n\u001b[0;32m   3815\u001b[0m \u001b[38;5;66;03m# take() does not accept boolean indexers\u001b[39;00m\n\u001b[0;32m   3816\u001b[0m \u001b[38;5;28;01mif\u001b[39;00m \u001b[38;5;28mgetattr\u001b[39m(indexer, \u001b[38;5;124m\"\u001b[39m\u001b[38;5;124mdtype\u001b[39m\u001b[38;5;124m\"\u001b[39m, \u001b[38;5;28;01mNone\u001b[39;00m) \u001b[38;5;241m==\u001b[39m \u001b[38;5;28mbool\u001b[39m:\n",
      "File \u001b[1;32m~\\AppData\\Local\\Programs\\Python\\Python310\\lib\\site-packages\\pandas\\core\\indexes\\base.py:6070\u001b[0m, in \u001b[0;36mIndex._get_indexer_strict\u001b[1;34m(self, key, axis_name)\u001b[0m\n\u001b[0;32m   6067\u001b[0m \u001b[38;5;28;01melse\u001b[39;00m:\n\u001b[0;32m   6068\u001b[0m     keyarr, indexer, new_indexer \u001b[38;5;241m=\u001b[39m \u001b[38;5;28mself\u001b[39m\u001b[38;5;241m.\u001b[39m_reindex_non_unique(keyarr)\n\u001b[1;32m-> 6070\u001b[0m \u001b[38;5;28;43mself\u001b[39;49m\u001b[38;5;241;43m.\u001b[39;49m\u001b[43m_raise_if_missing\u001b[49m\u001b[43m(\u001b[49m\u001b[43mkeyarr\u001b[49m\u001b[43m,\u001b[49m\u001b[43m \u001b[49m\u001b[43mindexer\u001b[49m\u001b[43m,\u001b[49m\u001b[43m \u001b[49m\u001b[43maxis_name\u001b[49m\u001b[43m)\u001b[49m\n\u001b[0;32m   6072\u001b[0m keyarr \u001b[38;5;241m=\u001b[39m \u001b[38;5;28mself\u001b[39m\u001b[38;5;241m.\u001b[39mtake(indexer)\n\u001b[0;32m   6073\u001b[0m \u001b[38;5;28;01mif\u001b[39;00m \u001b[38;5;28misinstance\u001b[39m(key, Index):\n\u001b[0;32m   6074\u001b[0m     \u001b[38;5;66;03m# GH 42790 - Preserve name from an Index\u001b[39;00m\n",
      "File \u001b[1;32m~\\AppData\\Local\\Programs\\Python\\Python310\\lib\\site-packages\\pandas\\core\\indexes\\base.py:6130\u001b[0m, in \u001b[0;36mIndex._raise_if_missing\u001b[1;34m(self, key, indexer, axis_name)\u001b[0m\n\u001b[0;32m   6128\u001b[0m     \u001b[38;5;28;01mif\u001b[39;00m use_interval_msg:\n\u001b[0;32m   6129\u001b[0m         key \u001b[38;5;241m=\u001b[39m \u001b[38;5;28mlist\u001b[39m(key)\n\u001b[1;32m-> 6130\u001b[0m     \u001b[38;5;28;01mraise\u001b[39;00m \u001b[38;5;167;01mKeyError\u001b[39;00m(\u001b[38;5;124mf\u001b[39m\u001b[38;5;124m\"\u001b[39m\u001b[38;5;124mNone of [\u001b[39m\u001b[38;5;132;01m{\u001b[39;00mkey\u001b[38;5;132;01m}\u001b[39;00m\u001b[38;5;124m] are in the [\u001b[39m\u001b[38;5;132;01m{\u001b[39;00maxis_name\u001b[38;5;132;01m}\u001b[39;00m\u001b[38;5;124m]\u001b[39m\u001b[38;5;124m\"\u001b[39m)\n\u001b[0;32m   6132\u001b[0m not_found \u001b[38;5;241m=\u001b[39m \u001b[38;5;28mlist\u001b[39m(ensure_index(key)[missing_mask\u001b[38;5;241m.\u001b[39mnonzero()[\u001b[38;5;241m0\u001b[39m]]\u001b[38;5;241m.\u001b[39munique())\n\u001b[0;32m   6133\u001b[0m \u001b[38;5;28;01mraise\u001b[39;00m \u001b[38;5;167;01mKeyError\u001b[39;00m(\u001b[38;5;124mf\u001b[39m\u001b[38;5;124m\"\u001b[39m\u001b[38;5;132;01m{\u001b[39;00mnot_found\u001b[38;5;132;01m}\u001b[39;00m\u001b[38;5;124m not in index\u001b[39m\u001b[38;5;124m\"\u001b[39m)\n",
      "\u001b[1;31mKeyError\u001b[0m: \"None of [Int64Index([21867, 49690, 45690,   246, 27517, 14274,  8817, 52837, 52633,\\n            28037,\\n            ...\\n            57236, 50501, 56373, 17250,  5223, 51951, 49761, 10609,   915,\\n            50919],\\n           dtype='int64', length=58174)] are in the [columns]\""
     ]
    }
   ],
   "source": [
    "%%time\n",
    "params['epochs'] = 100\n",
    "params['eta'] = 0.1\n",
    "nn_mini = TLPVectorizedMiniBatch(**params,\n",
    "                          alpha=0.1,# momentum calculation\n",
    "                          decrease_const=0.1, # decreasing eta\n",
    "                          minibatches=len(X_train)/32, # minibatch size\n",
    "                          shuffle=True)\n",
    "\n",
    "\n",
    "nn_mini.fit(X_train, y_train, print_progress=50)\n",
    "yhat = nn.predict(X_test)\n",
    "print('Accuracy:',accuracy_score(y_test,yhat))"
   ]
  },
  {
   "cell_type": "code",
   "execution_count": 47,
   "id": "226f3674",
   "metadata": {
    "collapsed": false,
    "jupyter": {
     "outputs_hidden": false
    }
   },
   "outputs": [
    {
     "data": {
      "image/png": "[encoded data removed]",
      "text/plain": [
       "<Figure size 640x480 with 1 Axes>"
      ]
     },
     "metadata": {},
     "output_type": "display_data"
    }
   ],
   "source": [
    "# take the mean of each minibatch epoch\n",
    "cost_avgs = [np.mean(x) for x in nn_mini.cost_]\n",
    "\n",
    "plt.plot(range(len(cost_avgs)), cost_avgs, color='red')\n",
    "plt.ylabel('Cost')\n",
    "plt.xlabel('Epochs')\n",
    "plt.tight_layout()\n",
    "plt.show()"
   ]
  },
  {
   "cell_type": "markdown",
   "id": "51a0bc4c",
   "metadata": {},
   "source": []
  },
  {
   "cell_type": "code",
   "execution_count": null,
   "id": "24bdc191",
   "metadata": {
    "collapsed": false,
    "jupyter": {
     "outputs_hidden": false
    }
   },
   "outputs": [],
   "source": [
    "from scipy.optimize import fmin_bfgs\n",
    "from scipy.optimize import fmin_l_bfgs_b\n",
    "class TLPVectorizedBFGS(TwoLayerPerceptronVectorized):\n",
    "\n",
    "    def __init__(self, gtol=1e-5, **kwds):\n",
    "        # need to add to the original initializer\n",
    "        self.gtol = gtol\n",
    "\n",
    "        # but keep other keywords\n",
    "        super().__init__(**kwds)\n",
    "\n",
    "    @staticmethod\n",
    "    def _pack(in1, in2):\n",
    "        '''Pack and flatten input vectors '''\n",
    "        return np.hstack((in1.flatten(),in2.flatten()))\n",
    "\n",
    "    def _unpack(self, in_tot):\n",
    "        '''Undo packing according to layer weight sizes'''\n",
    "        out1 = in_tot[:self.W1.size].reshape(self.W1.shape)\n",
    "        out2 = in_tot[self.W1.size:].reshape(self.W2.shape)\n",
    "        return out1, out2\n",
    "\n",
    "    def _calc_cost_gradient_packed(self,W,X_data,Y_enc):\n",
    "        '''Unpack and get cost, gradient for bfgs'''\n",
    "        W1, W2 = self._unpack(W)\n",
    "        # feedforward all instances\n",
    "        A1, Z1, A2, Z2, A3 = self._feedforward(X_data,W1,W2)\n",
    "\n",
    "        cost = np.sum((Y_enc-A3)**2)\n",
    "        L2_term = self._L2_reg(self.l2_C, W1, W2)\n",
    "        cost = cost + L2_term\n",
    "        #perform back prop to get gradients\n",
    "        grad1,grad2 = self._get_gradient(A1=A1, A2=A2, A3=A3,Z1=Z1, Z2=Z2, Y_enc=Y_enc,\n",
    "                                         W1=W1, W2=W2)\n",
    "        return cost, self._pack(grad1,grad2)\n",
    "\n",
    "    def _cost_packed(self,W,X_data,Y_enc):\n",
    "        '''Unpack and calculate MSE for bfgs'''\n",
    "        W1, W2 = self._unpack(W)\n",
    "        _, _, _, _, A3 = self._feedforward(X_data,W1,W2)\n",
    "        return np.sum((Y_enc-A3)**2)\n",
    "\n",
    "    def fit(self,X,y,print_progress=0):\n",
    "        '''Learn weights from training data'''\n",
    "        X_data, y_data = X.copy(), y.copy()\n",
    "        Y_enc = self._encode_labels(y)\n",
    "\n",
    "        # init weights and setup matrices\n",
    "        self.n_features_ = X_data.shape[1]\n",
    "        self.n_output_ = Y_enc.shape[0]\n",
    "        self.W1, self.W2 = self._initialize_weights()\n",
    "\n",
    "        # make initial matrices into single row vector\n",
    "        W = self._pack(self.W1,self.W2)\n",
    "\n",
    "        if print_progress>0:\n",
    "            def callback(xd):\n",
    "                callback.counter += 1\n",
    "                if callback.counter%print_progress==0:\n",
    "                    sys.stderr.write('\\rEpoch: %d/%d (max)' % (callback.counter,callback.epochs))\n",
    "                    sys.stderr.flush()\n",
    "\n",
    "            callback.counter = 0\n",
    "            callback.epochs = self.epochs\n",
    "\n",
    "        else:\n",
    "            callback = None\n",
    "\n",
    "        # compute gradient optimum with bfgs\n",
    "        W_best,_,props = fmin_l_bfgs_b(\n",
    "                        x0=W,\n",
    "                        func=self._calc_cost_gradient_packed,\n",
    "                        maxfun=self.epochs,\n",
    "                        callback=callback,\n",
    "                        pgtol=self.gtol,\n",
    "                        args=(X_data, Y_enc))\n",
    "\n",
    "        self.W1, self.W2 = self._unpack(W_best)\n",
    "        if print_progress:\n",
    "            print(props)"
   ]
  },
  {
   "cell_type": "code",
   "execution_count": null,
   "id": "29c742c0",
   "metadata": {
    "collapsed": false,
    "jupyter": {
     "outputs_hidden": false
    }
   },
   "outputs": [
    {
     "name": "stderr",
     "output_type": "stream",
     "text": [
      "Epoch: 53/100 (max)"
     ]
    },
    {
     "name": "stdout",
     "output_type": "stream",
     "text": [
      "{'grad': array([ 0.00000000e+00,  4.40585313e-02, -9.99626783e-02, ...,\n",
      "       -6.99077951e+01, -7.10862916e+01, -7.10964337e+01]), 'task': 'STOP: TOTAL NO. of f AND g EVALUATIONS EXCEEDS LIMIT', 'funcalls': 101, 'nit': 53, 'warnflag': 1}\n",
      "Accuracy: 0.10292904290429043\n"
     ]
    }
   ],
   "source": [
    "from sklearn.metrics import accuracy_score\n",
    "\n",
    "nn_bfgs = TLPVectorizedBFGS(**params, gtol=1e-3)\n",
    "\n",
    "nn_bfgs.fit(X_train, y_train, print_progress=1)\n",
    "yhat = nn_bfgs.predict(X_test)\n",
    "print('Accuracy:',accuracy_score(y_test,yhat))"
   ]
  },
  {
   "cell_type": "code",
   "execution_count": 51,
   "id": "090b28c4",
   "metadata": {
    "collapsed": false,
    "jupyter": {
     "outputs_hidden": false
    }
   },
   "outputs": [
    {
     "name": "stderr",
     "output_type": "stream",
     "text": [
      "Epoch: 1/40"
     ]
    },
    {
     "ename": "KeyError",
     "evalue": "\"None of [Int64Index([21867, 49690, 45690,   246, 27517, 14274,  8817, 52837, 52633,\\n            28037,\\n            ...\\n            57236, 50501, 56373, 17250,  5223, 51951, 49761, 10609,   915,\\n            50919],\\n           dtype='int64', length=58174)] are in the [columns]\"",
     "output_type": "error",
     "traceback": [
      "\u001b[1;31m---------------------------------------------------------------------------\u001b[0m",
      "\u001b[1;31mKeyError\u001b[0m                                  Traceback (most recent call last)",
      "Cell \u001b[1;32mIn[51], line 12\u001b[0m\n\u001b[0;32m      1\u001b[0m nn_mini \u001b[38;5;241m=\u001b[39m TLPVectorizedMiniBatch(\n\u001b[0;32m      2\u001b[0m                           n_hidden\u001b[38;5;241m=\u001b[39m\u001b[38;5;241m50\u001b[39m,\n\u001b[0;32m      3\u001b[0m                           C\u001b[38;5;241m=\u001b[39m\u001b[38;5;241m0.1\u001b[39m,\n\u001b[1;32m   (...)\u001b[0m\n\u001b[0;32m      9\u001b[0m                           shuffle\u001b[38;5;241m=\u001b[39m\u001b[38;5;28;01mTrue\u001b[39;00m,\n\u001b[0;32m     10\u001b[0m                           random_state\u001b[38;5;241m=\u001b[39m\u001b[38;5;241m1\u001b[39m)\n\u001b[1;32m---> 12\u001b[0m \u001b[43mnn_mini\u001b[49m\u001b[38;5;241;43m.\u001b[39;49m\u001b[43mfit\u001b[49m\u001b[43m(\u001b[49m\u001b[43mX_train\u001b[49m\u001b[43m,\u001b[49m\u001b[43m \u001b[49m\u001b[43my_train\u001b[49m\u001b[43m,\u001b[49m\u001b[43m \u001b[49m\u001b[43mprint_progress\u001b[49m\u001b[38;5;241;43m=\u001b[39;49m\u001b[38;5;241;43m1\u001b[39;49m\u001b[43m)\u001b[49m\n\u001b[0;32m     13\u001b[0m yhat \u001b[38;5;241m=\u001b[39m nn_mini\u001b[38;5;241m.\u001b[39mpredict(X_test)\n\u001b[0;32m     14\u001b[0m \u001b[38;5;28mprint\u001b[39m(\u001b[38;5;124m'\u001b[39m\u001b[38;5;124mValidation acc:\u001b[39m\u001b[38;5;124m'\u001b[39m,accuracy_score(y_test,yhat))\n",
      "Cell \u001b[1;32mIn[45], line 43\u001b[0m, in \u001b[0;36mTLPVectorizedMiniBatch.fit\u001b[1;34m(self, X, y, print_progress)\u001b[0m\n\u001b[0;32m     41\u001b[0m \u001b[38;5;28;01mif\u001b[39;00m \u001b[38;5;28mself\u001b[39m\u001b[38;5;241m.\u001b[39mshuffle:\n\u001b[0;32m     42\u001b[0m     ridx \u001b[38;5;241m=\u001b[39m np\u001b[38;5;241m.\u001b[39mrandom\u001b[38;5;241m.\u001b[39mpermutation(y_data\u001b[38;5;241m.\u001b[39mshape[\u001b[38;5;241m0\u001b[39m])\n\u001b[1;32m---> 43\u001b[0m     X_data, Y_enc \u001b[38;5;241m=\u001b[39m \u001b[43mX_data\u001b[49m\u001b[43m[\u001b[49m\u001b[43mridx\u001b[49m\u001b[43m]\u001b[49m, Y_enc[:, ridx]\n\u001b[0;32m     45\u001b[0m \u001b[38;5;66;03m# use numpy split to split into equal sized batches\u001b[39;00m\n\u001b[0;32m     46\u001b[0m \u001b[38;5;66;03m# num batches== self.minibatches\u001b[39;00m\n\u001b[0;32m     47\u001b[0m mini \u001b[38;5;241m=\u001b[39m np\u001b[38;5;241m.\u001b[39marray_split(\u001b[38;5;28mrange\u001b[39m(y_data\u001b[38;5;241m.\u001b[39mshape[\u001b[38;5;241m0\u001b[39m]), \u001b[38;5;28mself\u001b[39m\u001b[38;5;241m.\u001b[39mminibatches)\n",
      "File \u001b[1;32m~\\AppData\\Local\\Programs\\Python\\Python310\\lib\\site-packages\\pandas\\core\\frame.py:3813\u001b[0m, in \u001b[0;36mDataFrame.__getitem__\u001b[1;34m(self, key)\u001b[0m\n\u001b[0;32m   3811\u001b[0m     \u001b[38;5;28;01mif\u001b[39;00m is_iterator(key):\n\u001b[0;32m   3812\u001b[0m         key \u001b[38;5;241m=\u001b[39m \u001b[38;5;28mlist\u001b[39m(key)\n\u001b[1;32m-> 3813\u001b[0m     indexer \u001b[38;5;241m=\u001b[39m \u001b[38;5;28;43mself\u001b[39;49m\u001b[38;5;241;43m.\u001b[39;49m\u001b[43mcolumns\u001b[49m\u001b[38;5;241;43m.\u001b[39;49m\u001b[43m_get_indexer_strict\u001b[49m\u001b[43m(\u001b[49m\u001b[43mkey\u001b[49m\u001b[43m,\u001b[49m\u001b[43m \u001b[49m\u001b[38;5;124;43m\"\u001b[39;49m\u001b[38;5;124;43mcolumns\u001b[39;49m\u001b[38;5;124;43m\"\u001b[39;49m\u001b[43m)\u001b[49m[\u001b[38;5;241m1\u001b[39m]\n\u001b[0;32m   3815\u001b[0m \u001b[38;5;66;03m# take() does not accept boolean indexers\u001b[39;00m\n\u001b[0;32m   3816\u001b[0m \u001b[38;5;28;01mif\u001b[39;00m \u001b[38;5;28mgetattr\u001b[39m(indexer, \u001b[38;5;124m\"\u001b[39m\u001b[38;5;124mdtype\u001b[39m\u001b[38;5;124m\"\u001b[39m, \u001b[38;5;28;01mNone\u001b[39;00m) \u001b[38;5;241m==\u001b[39m \u001b[38;5;28mbool\u001b[39m:\n",
      "File \u001b[1;32m~\\AppData\\Local\\Programs\\Python\\Python310\\lib\\site-packages\\pandas\\core\\indexes\\base.py:6070\u001b[0m, in \u001b[0;36mIndex._get_indexer_strict\u001b[1;34m(self, key, axis_name)\u001b[0m\n\u001b[0;32m   6067\u001b[0m \u001b[38;5;28;01melse\u001b[39;00m:\n\u001b[0;32m   6068\u001b[0m     keyarr, indexer, new_indexer \u001b[38;5;241m=\u001b[39m \u001b[38;5;28mself\u001b[39m\u001b[38;5;241m.\u001b[39m_reindex_non_unique(keyarr)\n\u001b[1;32m-> 6070\u001b[0m \u001b[38;5;28;43mself\u001b[39;49m\u001b[38;5;241;43m.\u001b[39;49m\u001b[43m_raise_if_missing\u001b[49m\u001b[43m(\u001b[49m\u001b[43mkeyarr\u001b[49m\u001b[43m,\u001b[49m\u001b[43m \u001b[49m\u001b[43mindexer\u001b[49m\u001b[43m,\u001b[49m\u001b[43m \u001b[49m\u001b[43maxis_name\u001b[49m\u001b[43m)\u001b[49m\n\u001b[0;32m   6072\u001b[0m keyarr \u001b[38;5;241m=\u001b[39m \u001b[38;5;28mself\u001b[39m\u001b[38;5;241m.\u001b[39mtake(indexer)\n\u001b[0;32m   6073\u001b[0m \u001b[38;5;28;01mif\u001b[39;00m \u001b[38;5;28misinstance\u001b[39m(key, Index):\n\u001b[0;32m   6074\u001b[0m     \u001b[38;5;66;03m# GH 42790 - Preserve name from an Index\u001b[39;00m\n",
      "File \u001b[1;32m~\\AppData\\Local\\Programs\\Python\\Python310\\lib\\site-packages\\pandas\\core\\indexes\\base.py:6130\u001b[0m, in \u001b[0;36mIndex._raise_if_missing\u001b[1;34m(self, key, indexer, axis_name)\u001b[0m\n\u001b[0;32m   6128\u001b[0m     \u001b[38;5;28;01mif\u001b[39;00m use_interval_msg:\n\u001b[0;32m   6129\u001b[0m         key \u001b[38;5;241m=\u001b[39m \u001b[38;5;28mlist\u001b[39m(key)\n\u001b[1;32m-> 6130\u001b[0m     \u001b[38;5;28;01mraise\u001b[39;00m \u001b[38;5;167;01mKeyError\u001b[39;00m(\u001b[38;5;124mf\u001b[39m\u001b[38;5;124m\"\u001b[39m\u001b[38;5;124mNone of [\u001b[39m\u001b[38;5;132;01m{\u001b[39;00mkey\u001b[38;5;132;01m}\u001b[39;00m\u001b[38;5;124m] are in the [\u001b[39m\u001b[38;5;132;01m{\u001b[39;00maxis_name\u001b[38;5;132;01m}\u001b[39;00m\u001b[38;5;124m]\u001b[39m\u001b[38;5;124m\"\u001b[39m)\n\u001b[0;32m   6132\u001b[0m not_found \u001b[38;5;241m=\u001b[39m \u001b[38;5;28mlist\u001b[39m(ensure_index(key)[missing_mask\u001b[38;5;241m.\u001b[39mnonzero()[\u001b[38;5;241m0\u001b[39m]]\u001b[38;5;241m.\u001b[39munique())\n\u001b[0;32m   6133\u001b[0m \u001b[38;5;28;01mraise\u001b[39;00m \u001b[38;5;167;01mKeyError\u001b[39;00m(\u001b[38;5;124mf\u001b[39m\u001b[38;5;124m\"\u001b[39m\u001b[38;5;132;01m{\u001b[39;00mnot_found\u001b[38;5;132;01m}\u001b[39;00m\u001b[38;5;124m not in index\u001b[39m\u001b[38;5;124m\"\u001b[39m)\n",
      "\u001b[1;31mKeyError\u001b[0m: \"None of [Int64Index([21867, 49690, 45690,   246, 27517, 14274,  8817, 52837, 52633,\\n            28037,\\n            ...\\n            57236, 50501, 56373, 17250,  5223, 51951, 49761, 10609,   915,\\n            50919],\\n           dtype='int64', length=58174)] are in the [columns]\""
     ]
    }
   ],
   "source": [
    "nn_mini = TLPVectorizedMiniBatch(\n",
    "                          n_hidden=50,\n",
    "                          C=0.1,\n",
    "                          epochs=40,\n",
    "                          eta=0.1,\n",
    "                          alpha=0.05,\n",
    "                          decrease_const=0.1,\n",
    "                          minibatches=len(X_train)/256,\n",
    "                          shuffle=True,\n",
    "                          random_state=1)\n",
    "\n",
    "nn_mini.fit(X_train, y_train, print_progress=1)\n",
    "yhat = nn_mini.predict(X_test)\n",
    "print('Validation acc:',accuracy_score(y_test,yhat))"
   ]
  },
  {
   "cell_type": "markdown",
   "id": "9c404c1c",
   "metadata": {},
   "source": [
    "Cross Entropy"
   ]
  },
  {
   "cell_type": "code",
   "execution_count": null,
   "id": "a17528e3",
   "metadata": {
    "collapsed": false,
    "jupyter": {
     "outputs_hidden": false
    }
   },
   "outputs": [],
   "source": [
    "\n",
    "# we just need to update the final layer calculation of the gradient\n",
    "class TLPMiniBatchCrossEntropy(TLPVectorizedMiniBatch):\n",
    "    def _cost(self,A3,Y_enc,W1,W2):\n",
    "        '''Get the objective function value'''\n",
    "        cost = -np.mean(np.nan_to_num((Y_enc*np.log(A3)+(1-Y_enc)*np.log(1-A3))))\n",
    "        L2_term = self._L2_reg(self.l2_C, W1, W2)\n",
    "        return cost + L2_term\n",
    "\n",
    "    def _get_gradient(self, A1, A2, A3, Z1, Z2, Y_enc, W1, W2):\n",
    "        \"\"\" Compute gradient step using backpropagation.\n",
    "        \"\"\"\n",
    "        # vectorized backpropagation\n",
    "        V2 = (A3-Y_enc) # <- this is only line that changed\n",
    "        V1 = A2*(1-A2)*(W2.T @ V2)\n",
    "\n",
    "        grad2 = V2 @ A2.T\n",
    "        grad1 = V1[1:,:] @ A1.T\n",
    "\n",
    "        # regularize weights that are not bias terms\n",
    "        grad1[:, 1:] += W1[:, 1:] * self.l2_C\n",
    "        grad2[:, 1:] += W2[:, 1:] * self.l2_C\n",
    "\n",
    "        return grad1, grad2"
   ]
  },
  {
   "cell_type": "code",
   "execution_count": null,
   "id": "4ac345ab",
   "metadata": {
    "collapsed": false,
    "jupyter": {
     "outputs_hidden": false
    }
   },
   "outputs": [],
   "source": [
    "vals = { 'n_hidden':30,\n",
    "         'C':0.1, 'epochs':20, 'eta':0.001,\n",
    "         'alpha':0.001, 'decrease_const':1e-5, 'minibatches':50,\n",
    "         'shuffle':True,'random_state':1}\n",
    "\n",
    "nn_quad = TLPVectorizedMiniBatch(**vals)\n",
    "nn_cross = TLPMiniBatchCrossEntropy(**vals)\n",
    "\n",
    "%time nn_cross.fit(X_train, y_train, print_progress=1, XY_test=(X_test, y_test))\n",
    "%time nn_quad.fit(X_train, y_train, print_progress=1, XY_test=(X_test, y_test))"
   ]
  },
  {
   "cell_type": "markdown",
   "id": "966c5dd6",
   "metadata": {},
   "source": [
    "Glorot initialization"
   ]
  },
  {
   "cell_type": "code",
   "execution_count": null,
   "id": "dbda5146",
   "metadata": {
    "collapsed": false,
    "jupyter": {
     "outputs_hidden": false
    }
   },
   "outputs": [],
   "source": [
    "class TLPBetterInitial(TLPMiniBatchCrossEntropy):\n",
    "    def _initialize_weights(self):\n",
    "        \"\"\"Initialize weights Glorot and He normalization.\"\"\"\n",
    "        init_bound = 4*np.sqrt(6. / (self.n_hidden + self.n_features_ + 1))\n",
    "        W1 = np.random.uniform(-init_bound, init_bound,(self.n_hidden, self.n_features_ + 1))\n",
    "        W1[:,:1] = 0\n",
    "\n",
    "        # reduce the final layer magnitude in order to balance the size of the gradients\n",
    "        # between\n",
    "        init_bound = 4*np.sqrt(6 / (self.n_output_ + self.n_hidden + 1))\n",
    "        W2 = np.random.uniform(-init_bound, init_bound,(self.n_output_, self.n_hidden + 1))\n",
    "        W2[:,:1] = 0\n",
    "\n",
    "        return W1, W2"
   ]
  },
  {
   "cell_type": "code",
   "execution_count": null,
   "id": "1e681551",
   "metadata": {
    "collapsed": false,
    "jupyter": {
     "outputs_hidden": false
    }
   },
   "outputs": [],
   "source": [
    "from sklearn.metrics import accuracy_score\n",
    "import matplotlib.pyplot as plt\n",
    "%matplotlib inline\n",
    "\n",
    "plt.style.use('ggplot')\n",
    "\n",
    "def print_result(nn,X_train,y_train,X_test,y_test,title=\"\",color=\"red\"):\n",
    "\n",
    "    print(\"=================\")\n",
    "    print(title,\":\")\n",
    "    yhat = nn.predict(X_train)\n",
    "    print('Resubstitution acc:',accuracy_score(y_train,yhat))\n",
    "\n",
    "    yhat = nn.predict(X_test)\n",
    "    print('Validation acc:',accuracy_score(y_test,yhat))\n",
    "\n",
    "    if hasattr(nn,'val_score_'):\n",
    "        plt.plot(range(len(nn.val_score_)), nn.val_score_, color=color,label=title)\n",
    "        plt.ylabel('Validation Accuracy')\n",
    "    else:\n",
    "        plt.plot(range(len(nn.score_)), nn.score_, color=color,label=title)\n",
    "        plt.ylabel('Resub Accuracy')\n",
    "\n",
    "    plt.xlabel('Epochs')\n",
    "    plt.tight_layout()\n",
    "    plt.legend(loc='best')\n",
    "    plt.grid(True)"
   ]
  },
  {
   "cell_type": "code",
   "execution_count": null,
   "id": "3ee360f7",
   "metadata": {
    "collapsed": false,
    "jupyter": {
     "outputs_hidden": false
    }
   },
   "outputs": [],
   "source": [
    "vals['epochs'] = 10\n",
    "\n",
    "nn_tradit = TLPMiniBatchCrossEntropy(**vals)\n",
    "nn_better = TLPBetterInitial(**vals)\n",
    "\n",
    "%time nn_tradit.fit(X_train, y_train, print_progress=1, XY_test=(X_test, y_test))\n",
    "%time nn_better.fit(X_train, y_train, print_progress=1, XY_test=(X_test, y_test))\n",
    "\n",
    "print_result(nn_tradit,X_train,y_train,X_test,y_test,title=\"Traditional\",color=\"red\")\n",
    "print_result(nn_better,X_train,y_train,X_test,y_test,title=\"Glorot Initial\",color=\"blue\")\n",
    "plt.show()"
   ]
  },
  {
   "cell_type": "markdown",
   "id": "924d89ab",
   "metadata": {},
   "source": [
    "[.5 points] Now (1) normalize the continuous numeric feature data. Use the example two-layer perceptron network from the class example and quantify performance using accuracy. Be sure that training converges by graphing the loss function versus the number of epochs.\n",
    "        [.5 points] Now(1) normalize the continuous numeric feature data AND (2) one hot encode the categorical data. Use the example two-layer perceptron network from the class example and quantify performance using accuracy. Be sure that training converges by graphing the loss function versus the number of epochs.\n",
    "        [1 points] Compare the performance of the three models you just trained. Are there any meaningful differences in performance? Explain, in your own words, why these models have (or do not have) different performances.\n",
    "            Use one-hot encoding and normalization on the dataset for the remainder of this lab assignment."
   ]
  },
  {
   "cell_type": "markdown",
   "id": "1a75c370",
   "metadata": {},
   "source": [
    "Modeling (5 points total)\n",
    "        [1 points] Add support for a third layer in the multi-layer perceptron. Add support for saving (and plotting after training is completed) the average magnitude of the gradient for each layer, for each epoch (like we did in the flipped module for back propagation). For magnitude calculation, you are free to use either the average absolute values or the L1/L2 norm.\n",
    "            Quantify the performance of the model and graph the magnitudes for each layer versus the number of epochs.\n",
    "        [1 points] Repeat the previous step, adding support for a fourth layer.\n",
    "        [1 points] Repeat the previous step, adding support for a fifth layer.\n",
    "        [2 points] Implement an adaptive learning technique that was discussed in lecture and use it on the five layer network (such as AdaGrad, RMSProps, or AdaDelta).\n",
    "         Discuss which adaptive method you chose.\n",
    "         Compare the performance of your five layer model with and without the adaptive learning strategy. Do not use AdaM."
   ]
  },
  {
   "cell_type": "markdown",
   "id": "b8ec0c4b",
   "metadata": {},
   "source": [
    "Exceptional Work (1 points total)\n",
    "       Implement adaptive momentum (AdaM) in the five layer neural network and quantify the performance."
   ]
  }
 ],
 "metadata": {
  "kernelspec": {
   "display_name": "Python 3 (ipykernel)",
   "language": "python",
   "name": "python3"
  },
  "language_info": {
   "codemirror_mode": {
    "name": "ipython",
    "version": 3
   },
   "file_extension": ".py",
   "mimetype": "text/x-python",
   "name": "python",
   "nbconvert_exporter": "python",
   "pygments_lexer": "ipython3",
   "version": "3.9.13"
  },
  "vscode": {
   "interpreter": {
    "hash": "b0fa6594d8f4cbf19f97940f81e996739fb7646882a419484c72d19e05852a7e"
   }
  }
 },
 "nbformat": 4,
 "nbformat_minor": 5
}
