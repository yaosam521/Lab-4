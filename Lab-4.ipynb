{
 "cells": [
  {
   "cell_type": "markdown",
   "id": "6601edd3-0940-411b-a792-da8e9cec2da4",
   "metadata": {},
   "source": [
    "# Lab 4 - Multilayer Perceptron\n",
    "Team members:\n",
    "- Sam Yao\n",
    "- Rebecca Kuhlman\n",
    "- Michael Amberg"
   ]
  },
  {
   "cell_type": "markdown",
   "id": "8a3c892f-d3b5-46dd-89d2-fe55e27c9ff9",
   "metadata": {},
   "source": [
    "## Objective\n",
    "\n",
    "The objective of this lab is to familiarize ourselves with MultiLayer Neural Networks. This will be done through predicting, for each county, the level of child poverty. You will need to convert this from regression to four levels of classification by quantizing the variable of interest.\n",
    "\n",
    "1) Load the data into memory and save it to a pandas data frame. Do not normalize or one-hot encode any of the features until asked to do so later in the rubric."
   ]
  },
  {
   "cell_type": "code",
   "execution_count": 1,
   "id": "bca9ccc4-db84-4201-8e86-449c713337b0",
   "metadata": {},
   "outputs": [],
   "source": [
    "import pandas as pd\n",
    "import numpy as np\n",
    "import matplotlib.pyplot as plt\n",
    "\n",
    "df_census_raw = pd.read_csv(\"acs2017_census_tract_data.csv\")"
   ]
  },
  {
   "cell_type": "code",
   "execution_count": 2,
   "id": "dfea931e-39e7-47c6-98e2-dd321fbee5bf",
   "metadata": {},
   "outputs": [
    {
     "name": "stdout",
     "output_type": "stream",
     "text": [
      "<class 'pandas.core.frame.DataFrame'>\n",
      "RangeIndex: 74001 entries, 0 to 74000\n",
      "Data columns (total 37 columns):\n",
      " #   Column            Non-Null Count  Dtype  \n",
      "---  ------            --------------  -----  \n",
      " 0   TractId           74001 non-null  int64  \n",
      " 1   State             74001 non-null  object \n",
      " 2   County            74001 non-null  object \n",
      " 3   TotalPop          74001 non-null  int64  \n",
      " 4   Men               74001 non-null  int64  \n",
      " 5   Women             74001 non-null  int64  \n",
      " 6   Hispanic          73305 non-null  float64\n",
      " 7   White             73305 non-null  float64\n",
      " 8   Black             73305 non-null  float64\n",
      " 9   Native            73305 non-null  float64\n",
      " 10  Asian             73305 non-null  float64\n",
      " 11  Pacific           73305 non-null  float64\n",
      " 12  VotingAgeCitizen  74001 non-null  int64  \n",
      " 13  Income            72885 non-null  float64\n",
      " 14  IncomeErr         72885 non-null  float64\n",
      " 15  IncomePerCap      73256 non-null  float64\n",
      " 16  IncomePerCapErr   73256 non-null  float64\n",
      " 17  Poverty           73159 non-null  float64\n",
      " 18  ChildPoverty      72891 non-null  float64\n",
      " 19  Professional      73190 non-null  float64\n",
      " 20  Service           73190 non-null  float64\n",
      " 21  Office            73190 non-null  float64\n",
      " 22  Construction      73190 non-null  float64\n",
      " 23  Production        73190 non-null  float64\n",
      " 24  Drive             73200 non-null  float64\n",
      " 25  Carpool           73200 non-null  float64\n",
      " 26  Transit           73200 non-null  float64\n",
      " 27  Walk              73200 non-null  float64\n",
      " 28  OtherTransp       73200 non-null  float64\n",
      " 29  WorkAtHome        73200 non-null  float64\n",
      " 30  MeanCommute       73055 non-null  float64\n",
      " 31  Employed          74001 non-null  int64  \n",
      " 32  PrivateWork       73190 non-null  float64\n",
      " 33  PublicWork        73190 non-null  float64\n",
      " 34  SelfEmployed      73190 non-null  float64\n",
      " 35  FamilyWork        73190 non-null  float64\n",
      " 36  Unemployment      73191 non-null  float64\n",
      "dtypes: float64(29), int64(6), object(2)\n",
      "memory usage: 20.9+ MB\n"
     ]
    }
   ],
   "source": [
    "df_census_raw.info()"
   ]
  },
  {
   "cell_type": "markdown",
   "id": "fdbedbea-e014-4c1e-bde6-3e0edbaf3d32",
   "metadata": {},
   "source": [
    "2) Remove any observations that having missing data. \n",
    "\n",
    "Source used for this section:\n",
    "- https://pandas.pydata.org/docs/reference/api/pandas.DataFrame.dropna.html"
   ]
  },
  {
   "cell_type": "code",
   "execution_count": 3,
   "id": "12116e9f-a14c-4d29-a71d-1ce6635d4573",
   "metadata": {},
   "outputs": [],
   "source": [
    "df_census_raw = df_census_raw.dropna() #Utilized the pandas documentation here"
   ]
  },
  {
   "cell_type": "code",
   "execution_count": 4,
   "id": "eebd3207-c2f2-49b1-9fb2-78520ec62fcf",
   "metadata": {},
   "outputs": [
    {
     "name": "stdout",
     "output_type": "stream",
     "text": [
      "<class 'pandas.core.frame.DataFrame'>\n",
      "Int64Index: 72718 entries, 0 to 74000\n",
      "Data columns (total 37 columns):\n",
      " #   Column            Non-Null Count  Dtype  \n",
      "---  ------            --------------  -----  \n",
      " 0   TractId           72718 non-null  int64  \n",
      " 1   State             72718 non-null  object \n",
      " 2   County            72718 non-null  object \n",
      " 3   TotalPop          72718 non-null  int64  \n",
      " 4   Men               72718 non-null  int64  \n",
      " 5   Women             72718 non-null  int64  \n",
      " 6   Hispanic          72718 non-null  float64\n",
      " 7   White             72718 non-null  float64\n",
      " 8   Black             72718 non-null  float64\n",
      " 9   Native            72718 non-null  float64\n",
      " 10  Asian             72718 non-null  float64\n",
      " 11  Pacific           72718 non-null  float64\n",
      " 12  VotingAgeCitizen  72718 non-null  int64  \n",
      " 13  Income            72718 non-null  float64\n",
      " 14  IncomeErr         72718 non-null  float64\n",
      " 15  IncomePerCap      72718 non-null  float64\n",
      " 16  IncomePerCapErr   72718 non-null  float64\n",
      " 17  Poverty           72718 non-null  float64\n",
      " 18  ChildPoverty      72718 non-null  float64\n",
      " 19  Professional      72718 non-null  float64\n",
      " 20  Service           72718 non-null  float64\n",
      " 21  Office            72718 non-null  float64\n",
      " 22  Construction      72718 non-null  float64\n",
      " 23  Production        72718 non-null  float64\n",
      " 24  Drive             72718 non-null  float64\n",
      " 25  Carpool           72718 non-null  float64\n",
      " 26  Transit           72718 non-null  float64\n",
      " 27  Walk              72718 non-null  float64\n",
      " 28  OtherTransp       72718 non-null  float64\n",
      " 29  WorkAtHome        72718 non-null  float64\n",
      " 30  MeanCommute       72718 non-null  float64\n",
      " 31  Employed          72718 non-null  int64  \n",
      " 32  PrivateWork       72718 non-null  float64\n",
      " 33  PublicWork        72718 non-null  float64\n",
      " 34  SelfEmployed      72718 non-null  float64\n",
      " 35  FamilyWork        72718 non-null  float64\n",
      " 36  Unemployment      72718 non-null  float64\n",
      "dtypes: float64(29), int64(6), object(2)\n",
      "memory usage: 21.1+ MB\n"
     ]
    }
   ],
   "source": [
    "df_census_raw.info()"
   ]
  },
  {
   "cell_type": "code",
   "execution_count": 5,
   "id": "e5640ef4",
   "metadata": {
    "collapsed": false,
    "jupyter": {
     "outputs_hidden": false
    }
   },
   "outputs": [
    {
     "data": {
      "text/html": [
       "<div>\n",
       "<style scoped>\n",
       "    .dataframe tbody tr th:only-of-type {\n",
       "        vertical-align: middle;\n",
       "    }\n",
       "\n",
       "    .dataframe tbody tr th {\n",
       "        vertical-align: top;\n",
       "    }\n",
       "\n",
       "    .dataframe thead th {\n",
       "        text-align: right;\n",
       "    }\n",
       "</style>\n",
       "<table border=\"1\" class=\"dataframe\">\n",
       "  <thead>\n",
       "    <tr style=\"text-align: right;\">\n",
       "      <th></th>\n",
       "      <th>TractId</th>\n",
       "      <th>State</th>\n",
       "      <th>County</th>\n",
       "      <th>TotalPop</th>\n",
       "      <th>Men</th>\n",
       "      <th>Women</th>\n",
       "      <th>Hispanic</th>\n",
       "      <th>White</th>\n",
       "      <th>Black</th>\n",
       "      <th>Native</th>\n",
       "      <th>...</th>\n",
       "      <th>Walk</th>\n",
       "      <th>OtherTransp</th>\n",
       "      <th>WorkAtHome</th>\n",
       "      <th>MeanCommute</th>\n",
       "      <th>Employed</th>\n",
       "      <th>PrivateWork</th>\n",
       "      <th>PublicWork</th>\n",
       "      <th>SelfEmployed</th>\n",
       "      <th>FamilyWork</th>\n",
       "      <th>Unemployment</th>\n",
       "    </tr>\n",
       "  </thead>\n",
       "  <tbody>\n",
       "    <tr>\n",
       "      <th>0</th>\n",
       "      <td>1001020100</td>\n",
       "      <td>Alabama</td>\n",
       "      <td>Autauga County</td>\n",
       "      <td>1845</td>\n",
       "      <td>899</td>\n",
       "      <td>946</td>\n",
       "      <td>2.4</td>\n",
       "      <td>86.3</td>\n",
       "      <td>5.2</td>\n",
       "      <td>0.0</td>\n",
       "      <td>...</td>\n",
       "      <td>0.5</td>\n",
       "      <td>0.0</td>\n",
       "      <td>2.1</td>\n",
       "      <td>24.5</td>\n",
       "      <td>881</td>\n",
       "      <td>74.2</td>\n",
       "      <td>21.2</td>\n",
       "      <td>4.5</td>\n",
       "      <td>0.0</td>\n",
       "      <td>4.6</td>\n",
       "    </tr>\n",
       "    <tr>\n",
       "      <th>1</th>\n",
       "      <td>1001020200</td>\n",
       "      <td>Alabama</td>\n",
       "      <td>Autauga County</td>\n",
       "      <td>2172</td>\n",
       "      <td>1167</td>\n",
       "      <td>1005</td>\n",
       "      <td>1.1</td>\n",
       "      <td>41.6</td>\n",
       "      <td>54.5</td>\n",
       "      <td>0.0</td>\n",
       "      <td>...</td>\n",
       "      <td>0.0</td>\n",
       "      <td>0.5</td>\n",
       "      <td>0.0</td>\n",
       "      <td>22.2</td>\n",
       "      <td>852</td>\n",
       "      <td>75.9</td>\n",
       "      <td>15.0</td>\n",
       "      <td>9.0</td>\n",
       "      <td>0.0</td>\n",
       "      <td>3.4</td>\n",
       "    </tr>\n",
       "    <tr>\n",
       "      <th>2</th>\n",
       "      <td>1001020300</td>\n",
       "      <td>Alabama</td>\n",
       "      <td>Autauga County</td>\n",
       "      <td>3385</td>\n",
       "      <td>1533</td>\n",
       "      <td>1852</td>\n",
       "      <td>8.0</td>\n",
       "      <td>61.4</td>\n",
       "      <td>26.5</td>\n",
       "      <td>0.6</td>\n",
       "      <td>...</td>\n",
       "      <td>1.0</td>\n",
       "      <td>0.8</td>\n",
       "      <td>1.5</td>\n",
       "      <td>23.1</td>\n",
       "      <td>1482</td>\n",
       "      <td>73.3</td>\n",
       "      <td>21.1</td>\n",
       "      <td>4.8</td>\n",
       "      <td>0.7</td>\n",
       "      <td>4.7</td>\n",
       "    </tr>\n",
       "    <tr>\n",
       "      <th>3</th>\n",
       "      <td>1001020400</td>\n",
       "      <td>Alabama</td>\n",
       "      <td>Autauga County</td>\n",
       "      <td>4267</td>\n",
       "      <td>2001</td>\n",
       "      <td>2266</td>\n",
       "      <td>9.6</td>\n",
       "      <td>80.3</td>\n",
       "      <td>7.1</td>\n",
       "      <td>0.5</td>\n",
       "      <td>...</td>\n",
       "      <td>1.5</td>\n",
       "      <td>2.9</td>\n",
       "      <td>2.1</td>\n",
       "      <td>25.9</td>\n",
       "      <td>1849</td>\n",
       "      <td>75.8</td>\n",
       "      <td>19.7</td>\n",
       "      <td>4.5</td>\n",
       "      <td>0.0</td>\n",
       "      <td>6.1</td>\n",
       "    </tr>\n",
       "    <tr>\n",
       "      <th>4</th>\n",
       "      <td>1001020500</td>\n",
       "      <td>Alabama</td>\n",
       "      <td>Autauga County</td>\n",
       "      <td>9965</td>\n",
       "      <td>5054</td>\n",
       "      <td>4911</td>\n",
       "      <td>0.9</td>\n",
       "      <td>77.5</td>\n",
       "      <td>16.4</td>\n",
       "      <td>0.0</td>\n",
       "      <td>...</td>\n",
       "      <td>0.8</td>\n",
       "      <td>0.3</td>\n",
       "      <td>0.7</td>\n",
       "      <td>21.0</td>\n",
       "      <td>4787</td>\n",
       "      <td>71.4</td>\n",
       "      <td>24.1</td>\n",
       "      <td>4.5</td>\n",
       "      <td>0.0</td>\n",
       "      <td>2.3</td>\n",
       "    </tr>\n",
       "    <tr>\n",
       "      <th>...</th>\n",
       "      <td>...</td>\n",
       "      <td>...</td>\n",
       "      <td>...</td>\n",
       "      <td>...</td>\n",
       "      <td>...</td>\n",
       "      <td>...</td>\n",
       "      <td>...</td>\n",
       "      <td>...</td>\n",
       "      <td>...</td>\n",
       "      <td>...</td>\n",
       "      <td>...</td>\n",
       "      <td>...</td>\n",
       "      <td>...</td>\n",
       "      <td>...</td>\n",
       "      <td>...</td>\n",
       "      <td>...</td>\n",
       "      <td>...</td>\n",
       "      <td>...</td>\n",
       "      <td>...</td>\n",
       "      <td>...</td>\n",
       "      <td>...</td>\n",
       "    </tr>\n",
       "    <tr>\n",
       "      <th>73996</th>\n",
       "      <td>72153750501</td>\n",
       "      <td>Puerto Rico</td>\n",
       "      <td>Yauco Municipio</td>\n",
       "      <td>6011</td>\n",
       "      <td>3035</td>\n",
       "      <td>2976</td>\n",
       "      <td>99.7</td>\n",
       "      <td>0.3</td>\n",
       "      <td>0.0</td>\n",
       "      <td>0.0</td>\n",
       "      <td>...</td>\n",
       "      <td>0.5</td>\n",
       "      <td>0.0</td>\n",
       "      <td>3.6</td>\n",
       "      <td>26.9</td>\n",
       "      <td>1576</td>\n",
       "      <td>59.2</td>\n",
       "      <td>33.8</td>\n",
       "      <td>7.0</td>\n",
       "      <td>0.0</td>\n",
       "      <td>20.8</td>\n",
       "    </tr>\n",
       "    <tr>\n",
       "      <th>73997</th>\n",
       "      <td>72153750502</td>\n",
       "      <td>Puerto Rico</td>\n",
       "      <td>Yauco Municipio</td>\n",
       "      <td>2342</td>\n",
       "      <td>959</td>\n",
       "      <td>1383</td>\n",
       "      <td>99.1</td>\n",
       "      <td>0.9</td>\n",
       "      <td>0.0</td>\n",
       "      <td>0.0</td>\n",
       "      <td>...</td>\n",
       "      <td>0.0</td>\n",
       "      <td>0.0</td>\n",
       "      <td>1.3</td>\n",
       "      <td>25.3</td>\n",
       "      <td>666</td>\n",
       "      <td>58.4</td>\n",
       "      <td>35.4</td>\n",
       "      <td>6.2</td>\n",
       "      <td>0.0</td>\n",
       "      <td>26.3</td>\n",
       "    </tr>\n",
       "    <tr>\n",
       "      <th>73998</th>\n",
       "      <td>72153750503</td>\n",
       "      <td>Puerto Rico</td>\n",
       "      <td>Yauco Municipio</td>\n",
       "      <td>2218</td>\n",
       "      <td>1001</td>\n",
       "      <td>1217</td>\n",
       "      <td>99.5</td>\n",
       "      <td>0.2</td>\n",
       "      <td>0.0</td>\n",
       "      <td>0.0</td>\n",
       "      <td>...</td>\n",
       "      <td>3.4</td>\n",
       "      <td>0.0</td>\n",
       "      <td>3.4</td>\n",
       "      <td>23.5</td>\n",
       "      <td>560</td>\n",
       "      <td>57.5</td>\n",
       "      <td>34.5</td>\n",
       "      <td>8.0</td>\n",
       "      <td>0.0</td>\n",
       "      <td>23.0</td>\n",
       "    </tr>\n",
       "    <tr>\n",
       "      <th>73999</th>\n",
       "      <td>72153750601</td>\n",
       "      <td>Puerto Rico</td>\n",
       "      <td>Yauco Municipio</td>\n",
       "      <td>4380</td>\n",
       "      <td>1964</td>\n",
       "      <td>2416</td>\n",
       "      <td>100.0</td>\n",
       "      <td>0.0</td>\n",
       "      <td>0.0</td>\n",
       "      <td>0.0</td>\n",
       "      <td>...</td>\n",
       "      <td>0.0</td>\n",
       "      <td>0.0</td>\n",
       "      <td>0.0</td>\n",
       "      <td>24.1</td>\n",
       "      <td>1062</td>\n",
       "      <td>67.7</td>\n",
       "      <td>30.4</td>\n",
       "      <td>1.9</td>\n",
       "      <td>0.0</td>\n",
       "      <td>29.5</td>\n",
       "    </tr>\n",
       "    <tr>\n",
       "      <th>74000</th>\n",
       "      <td>72153750602</td>\n",
       "      <td>Puerto Rico</td>\n",
       "      <td>Yauco Municipio</td>\n",
       "      <td>3001</td>\n",
       "      <td>1343</td>\n",
       "      <td>1658</td>\n",
       "      <td>99.2</td>\n",
       "      <td>0.8</td>\n",
       "      <td>0.0</td>\n",
       "      <td>0.0</td>\n",
       "      <td>...</td>\n",
       "      <td>4.9</td>\n",
       "      <td>0.0</td>\n",
       "      <td>8.9</td>\n",
       "      <td>21.6</td>\n",
       "      <td>759</td>\n",
       "      <td>75.9</td>\n",
       "      <td>19.1</td>\n",
       "      <td>5.0</td>\n",
       "      <td>0.0</td>\n",
       "      <td>17.9</td>\n",
       "    </tr>\n",
       "  </tbody>\n",
       "</table>\n",
       "<p>72718 rows × 37 columns</p>\n",
       "</div>"
      ],
      "text/plain": [
       "           TractId        State           County  TotalPop   Men  Women  \\\n",
       "0       1001020100      Alabama   Autauga County      1845   899    946   \n",
       "1       1001020200      Alabama   Autauga County      2172  1167   1005   \n",
       "2       1001020300      Alabama   Autauga County      3385  1533   1852   \n",
       "3       1001020400      Alabama   Autauga County      4267  2001   2266   \n",
       "4       1001020500      Alabama   Autauga County      9965  5054   4911   \n",
       "...            ...          ...              ...       ...   ...    ...   \n",
       "73996  72153750501  Puerto Rico  Yauco Municipio      6011  3035   2976   \n",
       "73997  72153750502  Puerto Rico  Yauco Municipio      2342   959   1383   \n",
       "73998  72153750503  Puerto Rico  Yauco Municipio      2218  1001   1217   \n",
       "73999  72153750601  Puerto Rico  Yauco Municipio      4380  1964   2416   \n",
       "74000  72153750602  Puerto Rico  Yauco Municipio      3001  1343   1658   \n",
       "\n",
       "       Hispanic  White  Black  Native  ...  Walk  OtherTransp  WorkAtHome  \\\n",
       "0           2.4   86.3    5.2     0.0  ...   0.5          0.0         2.1   \n",
       "1           1.1   41.6   54.5     0.0  ...   0.0          0.5         0.0   \n",
       "2           8.0   61.4   26.5     0.6  ...   1.0          0.8         1.5   \n",
       "3           9.6   80.3    7.1     0.5  ...   1.5          2.9         2.1   \n",
       "4           0.9   77.5   16.4     0.0  ...   0.8          0.3         0.7   \n",
       "...         ...    ...    ...     ...  ...   ...          ...         ...   \n",
       "73996      99.7    0.3    0.0     0.0  ...   0.5          0.0         3.6   \n",
       "73997      99.1    0.9    0.0     0.0  ...   0.0          0.0         1.3   \n",
       "73998      99.5    0.2    0.0     0.0  ...   3.4          0.0         3.4   \n",
       "73999     100.0    0.0    0.0     0.0  ...   0.0          0.0         0.0   \n",
       "74000      99.2    0.8    0.0     0.0  ...   4.9          0.0         8.9   \n",
       "\n",
       "       MeanCommute  Employed  PrivateWork  PublicWork  SelfEmployed  \\\n",
       "0             24.5       881         74.2        21.2           4.5   \n",
       "1             22.2       852         75.9        15.0           9.0   \n",
       "2             23.1      1482         73.3        21.1           4.8   \n",
       "3             25.9      1849         75.8        19.7           4.5   \n",
       "4             21.0      4787         71.4        24.1           4.5   \n",
       "...            ...       ...          ...         ...           ...   \n",
       "73996         26.9      1576         59.2        33.8           7.0   \n",
       "73997         25.3       666         58.4        35.4           6.2   \n",
       "73998         23.5       560         57.5        34.5           8.0   \n",
       "73999         24.1      1062         67.7        30.4           1.9   \n",
       "74000         21.6       759         75.9        19.1           5.0   \n",
       "\n",
       "       FamilyWork  Unemployment  \n",
       "0             0.0           4.6  \n",
       "1             0.0           3.4  \n",
       "2             0.7           4.7  \n",
       "3             0.0           6.1  \n",
       "4             0.0           2.3  \n",
       "...           ...           ...  \n",
       "73996         0.0          20.8  \n",
       "73997         0.0          26.3  \n",
       "73998         0.0          23.0  \n",
       "73999         0.0          29.5  \n",
       "74000         0.0          17.9  \n",
       "\n",
       "[72718 rows x 37 columns]"
      ]
     },
     "execution_count": 5,
     "metadata": {},
     "output_type": "execute_result"
    }
   ],
   "source": [
    "df_census_raw"
   ]
  },
  {
   "cell_type": "markdown",
   "id": "06acf1ae-ec73-4b27-91de-77e994902e3f",
   "metadata": {},
   "source": [
    "3) Encode any string data as integers for now.\n",
    "\n",
    "There are two categories that are not numerical: State and County.\n",
    "\n",
    "I encoded the states and individual counties as nominal types, where each number corresponds to a unique county and state, and has no ranking whatsoever."
   ]
  },
  {
   "cell_type": "code",
   "execution_count": 6,
   "id": "b7948c42-4454-4171-aba3-884a76a672ed",
   "metadata": {},
   "outputs": [],
   "source": [
    "#Map States to a number\n",
    "states_mapping = {state: label for label, state in enumerate(df_census_raw.State.unique())}\n",
    "df_census_raw['State'] = df_census_raw['State'].map(states_mapping)\n",
    "\n",
    "#Map Counties to a number\n",
    "county_mapping = {county: label for label, county in enumerate(df_census_raw.County.unique())}\n",
    "df_census_raw['County'] = df_census_raw['County'].map(county_mapping)"
   ]
  },
  {
   "cell_type": "markdown",
   "id": "4abd141f-c18d-4192-9924-41b01b046db1",
   "metadata": {},
   "source": [
    "4. Decide if you want to remove the County variable\n",
    "\n",
    "We have decided to remove the county variable. While county can be a indicator of childhood poverty, due to the limited amount of entries for each county, the data will likely be biased on what data ends up in the training set."
   ]
  },
  {
   "cell_type": "code",
   "execution_count": 7,
   "id": "062a217d-b0b7-4922-9e3c-ee09f37637d5",
   "metadata": {},
   "outputs": [
    {
     "data": {
      "text/plain": [
       "186     2300\n",
       "366     1317\n",
       "196      929\n",
       "103      885\n",
       "50       822\n",
       "        ... \n",
       "1755       1\n",
       "1066       1\n",
       "663        1\n",
       "1065       1\n",
       "1651       1\n",
       "Name: County, Length: 1954, dtype: int64"
      ]
     },
     "execution_count": 7,
     "metadata": {},
     "output_type": "execute_result"
    }
   ],
   "source": [
    "df_census_raw.County.value_counts()"
   ]
  },
  {
   "cell_type": "code",
   "execution_count": 8,
   "id": "570c83e6-fc4d-49c1-bcbb-ec26aa49bf99",
   "metadata": {},
   "outputs": [
    {
     "data": {
      "text/plain": [
       "<AxesSubplot:>"
      ]
     },
     "execution_count": 8,
     "metadata": {},
     "output_type": "execute_result"
    },
    {
     "data": {
      "image/png": "[encoded data removed]",
      "text/plain": [
       "<Figure size 640x480 with 1 Axes>"
      ]
     },
     "metadata": {},
     "output_type": "display_data"
    }
   ],
   "source": [
    "df_census_raw.County.value_counts().plot.bar()"
   ]
  },
  {
   "cell_type": "markdown",
   "id": "1a4b74c4-a6c7-4b47-b1dc-cad50e51952d",
   "metadata": {},
   "source": [
    "Even without this handy visualization, one can see that there are too many counties with too few data points to  begin analysis on child poverty. Although there certainly are patterns as to which counties in a state are more likely to have children in poverty, leaving the county attribute as it is would most likely introduce bias towards the counties that have the highest rates of child poverty. Since child poverty is certainly influenced by several other factors other than physical county location, **we think it is best to remove Counties as an attribute from the dataset.**"
   ]
  },
  {
   "cell_type": "code",
   "execution_count": 9,
   "id": "391ef7b0-8a6d-452c-b2c8-3d5e624ebe48",
   "metadata": {},
   "outputs": [],
   "source": [
    "df_census_raw = df_census_raw.drop(labels='County',axis=1)"
   ]
  },
  {
   "cell_type": "code",
   "execution_count": 10,
   "id": "1a4d5043-9cbc-4b1a-9d2d-27ff9873ca16",
   "metadata": {},
   "outputs": [
    {
     "data": {
      "text/html": [
       "<div>\n",
       "<style scoped>\n",
       "    .dataframe tbody tr th:only-of-type {\n",
       "        vertical-align: middle;\n",
       "    }\n",
       "\n",
       "    .dataframe tbody tr th {\n",
       "        vertical-align: top;\n",
       "    }\n",
       "\n",
       "    .dataframe thead th {\n",
       "        text-align: right;\n",
       "    }\n",
       "</style>\n",
       "<table border=\"1\" class=\"dataframe\">\n",
       "  <thead>\n",
       "    <tr style=\"text-align: right;\">\n",
       "      <th></th>\n",
       "      <th>TractId</th>\n",
       "      <th>State</th>\n",
       "      <th>TotalPop</th>\n",
       "      <th>Men</th>\n",
       "      <th>Women</th>\n",
       "      <th>Hispanic</th>\n",
       "      <th>White</th>\n",
       "      <th>Black</th>\n",
       "      <th>Native</th>\n",
       "      <th>Asian</th>\n",
       "      <th>...</th>\n",
       "      <th>Walk</th>\n",
       "      <th>OtherTransp</th>\n",
       "      <th>WorkAtHome</th>\n",
       "      <th>MeanCommute</th>\n",
       "      <th>Employed</th>\n",
       "      <th>PrivateWork</th>\n",
       "      <th>PublicWork</th>\n",
       "      <th>SelfEmployed</th>\n",
       "      <th>FamilyWork</th>\n",
       "      <th>Unemployment</th>\n",
       "    </tr>\n",
       "  </thead>\n",
       "  <tbody>\n",
       "    <tr>\n",
       "      <th>count</th>\n",
       "      <td>7.271800e+04</td>\n",
       "      <td>72718.000000</td>\n",
       "      <td>72718.000000</td>\n",
       "      <td>72718.000000</td>\n",
       "      <td>72718.000000</td>\n",
       "      <td>72718.000000</td>\n",
       "      <td>72718.000000</td>\n",
       "      <td>72718.000000</td>\n",
       "      <td>72718.000000</td>\n",
       "      <td>72718.000000</td>\n",
       "      <td>...</td>\n",
       "      <td>72718.000000</td>\n",
       "      <td>72718.000000</td>\n",
       "      <td>72718.000000</td>\n",
       "      <td>72718.000000</td>\n",
       "      <td>72718.000000</td>\n",
       "      <td>72718.000000</td>\n",
       "      <td>72718.000000</td>\n",
       "      <td>72718.000000</td>\n",
       "      <td>72718.000000</td>\n",
       "      <td>72718.000000</td>\n",
       "    </tr>\n",
       "    <tr>\n",
       "      <th>mean</th>\n",
       "      <td>2.837292e+10</td>\n",
       "      <td>24.288526</td>\n",
       "      <td>4443.485121</td>\n",
       "      <td>2184.362647</td>\n",
       "      <td>2259.122473</td>\n",
       "      <td>17.282951</td>\n",
       "      <td>61.337143</td>\n",
       "      <td>13.254417</td>\n",
       "      <td>0.727776</td>\n",
       "      <td>4.752459</td>\n",
       "      <td>...</td>\n",
       "      <td>2.925778</td>\n",
       "      <td>1.886076</td>\n",
       "      <td>4.612646</td>\n",
       "      <td>26.080334</td>\n",
       "      <td>2081.309139</td>\n",
       "      <td>79.511827</td>\n",
       "      <td>14.149495</td>\n",
       "      <td>6.167661</td>\n",
       "      <td>0.171231</td>\n",
       "      <td>7.224917</td>\n",
       "    </tr>\n",
       "    <tr>\n",
       "      <th>std</th>\n",
       "      <td>1.644198e+10</td>\n",
       "      <td>15.034675</td>\n",
       "      <td>2190.183318</td>\n",
       "      <td>1099.954423</td>\n",
       "      <td>1124.604806</td>\n",
       "      <td>23.084428</td>\n",
       "      <td>30.628031</td>\n",
       "      <td>21.581269</td>\n",
       "      <td>4.505791</td>\n",
       "      <td>8.995573</td>\n",
       "      <td>...</td>\n",
       "      <td>5.260623</td>\n",
       "      <td>2.485812</td>\n",
       "      <td>3.770733</td>\n",
       "      <td>7.095680</td>\n",
       "      <td>1120.109805</td>\n",
       "      <td>7.957350</td>\n",
       "      <td>7.164790</td>\n",
       "      <td>3.798703</td>\n",
       "      <td>0.451630</td>\n",
       "      <td>5.099419</td>\n",
       "    </tr>\n",
       "    <tr>\n",
       "      <th>min</th>\n",
       "      <td>1.001020e+09</td>\n",
       "      <td>0.000000</td>\n",
       "      <td>58.000000</td>\n",
       "      <td>26.000000</td>\n",
       "      <td>27.000000</td>\n",
       "      <td>0.000000</td>\n",
       "      <td>0.000000</td>\n",
       "      <td>0.000000</td>\n",
       "      <td>0.000000</td>\n",
       "      <td>0.000000</td>\n",
       "      <td>...</td>\n",
       "      <td>0.000000</td>\n",
       "      <td>0.000000</td>\n",
       "      <td>0.000000</td>\n",
       "      <td>4.200000</td>\n",
       "      <td>20.000000</td>\n",
       "      <td>17.500000</td>\n",
       "      <td>0.000000</td>\n",
       "      <td>0.000000</td>\n",
       "      <td>0.000000</td>\n",
       "      <td>0.000000</td>\n",
       "    </tr>\n",
       "    <tr>\n",
       "      <th>25%</th>\n",
       "      <td>1.304703e+10</td>\n",
       "      <td>10.000000</td>\n",
       "      <td>2958.000000</td>\n",
       "      <td>1440.000000</td>\n",
       "      <td>1494.000000</td>\n",
       "      <td>2.600000</td>\n",
       "      <td>38.100000</td>\n",
       "      <td>0.800000</td>\n",
       "      <td>0.000000</td>\n",
       "      <td>0.200000</td>\n",
       "      <td>...</td>\n",
       "      <td>0.400000</td>\n",
       "      <td>0.400000</td>\n",
       "      <td>2.000000</td>\n",
       "      <td>21.100000</td>\n",
       "      <td>1306.000000</td>\n",
       "      <td>75.300000</td>\n",
       "      <td>9.300000</td>\n",
       "      <td>3.500000</td>\n",
       "      <td>0.000000</td>\n",
       "      <td>3.900000</td>\n",
       "    </tr>\n",
       "    <tr>\n",
       "      <th>50%</th>\n",
       "      <td>2.804700e+10</td>\n",
       "      <td>24.000000</td>\n",
       "      <td>4137.000000</td>\n",
       "      <td>2024.000000</td>\n",
       "      <td>2102.000000</td>\n",
       "      <td>7.400000</td>\n",
       "      <td>70.500000</td>\n",
       "      <td>3.800000</td>\n",
       "      <td>0.000000</td>\n",
       "      <td>1.500000</td>\n",
       "      <td>...</td>\n",
       "      <td>1.400000</td>\n",
       "      <td>1.200000</td>\n",
       "      <td>3.800000</td>\n",
       "      <td>25.400000</td>\n",
       "      <td>1915.000000</td>\n",
       "      <td>80.600000</td>\n",
       "      <td>13.000000</td>\n",
       "      <td>5.500000</td>\n",
       "      <td>0.000000</td>\n",
       "      <td>6.000000</td>\n",
       "    </tr>\n",
       "    <tr>\n",
       "      <th>75%</th>\n",
       "      <td>4.200341e+10</td>\n",
       "      <td>38.000000</td>\n",
       "      <td>5532.750000</td>\n",
       "      <td>2719.000000</td>\n",
       "      <td>2817.000000</td>\n",
       "      <td>21.100000</td>\n",
       "      <td>87.700000</td>\n",
       "      <td>14.500000</td>\n",
       "      <td>0.400000</td>\n",
       "      <td>5.000000</td>\n",
       "      <td>...</td>\n",
       "      <td>3.300000</td>\n",
       "      <td>2.500000</td>\n",
       "      <td>6.300000</td>\n",
       "      <td>30.300000</td>\n",
       "      <td>2651.000000</td>\n",
       "      <td>85.000000</td>\n",
       "      <td>17.600000</td>\n",
       "      <td>8.000000</td>\n",
       "      <td>0.000000</td>\n",
       "      <td>9.000000</td>\n",
       "    </tr>\n",
       "    <tr>\n",
       "      <th>max</th>\n",
       "      <td>7.215375e+10</td>\n",
       "      <td>51.000000</td>\n",
       "      <td>65528.000000</td>\n",
       "      <td>32266.000000</td>\n",
       "      <td>33262.000000</td>\n",
       "      <td>100.000000</td>\n",
       "      <td>100.000000</td>\n",
       "      <td>100.000000</td>\n",
       "      <td>99.400000</td>\n",
       "      <td>91.400000</td>\n",
       "      <td>...</td>\n",
       "      <td>77.700000</td>\n",
       "      <td>53.400000</td>\n",
       "      <td>82.800000</td>\n",
       "      <td>73.900000</td>\n",
       "      <td>28945.000000</td>\n",
       "      <td>100.000000</td>\n",
       "      <td>80.700000</td>\n",
       "      <td>47.400000</td>\n",
       "      <td>22.300000</td>\n",
       "      <td>62.800000</td>\n",
       "    </tr>\n",
       "  </tbody>\n",
       "</table>\n",
       "<p>8 rows × 36 columns</p>\n",
       "</div>"
      ],
      "text/plain": [
       "            TractId         State      TotalPop           Men         Women  \\\n",
       "count  7.271800e+04  72718.000000  72718.000000  72718.000000  72718.000000   \n",
       "mean   2.837292e+10     24.288526   4443.485121   2184.362647   2259.122473   \n",
       "std    1.644198e+10     15.034675   2190.183318   1099.954423   1124.604806   \n",
       "min    1.001020e+09      0.000000     58.000000     26.000000     27.000000   \n",
       "25%    1.304703e+10     10.000000   2958.000000   1440.000000   1494.000000   \n",
       "50%    2.804700e+10     24.000000   4137.000000   2024.000000   2102.000000   \n",
       "75%    4.200341e+10     38.000000   5532.750000   2719.000000   2817.000000   \n",
       "max    7.215375e+10     51.000000  65528.000000  32266.000000  33262.000000   \n",
       "\n",
       "           Hispanic         White         Black        Native         Asian  \\\n",
       "count  72718.000000  72718.000000  72718.000000  72718.000000  72718.000000   \n",
       "mean      17.282951     61.337143     13.254417      0.727776      4.752459   \n",
       "std       23.084428     30.628031     21.581269      4.505791      8.995573   \n",
       "min        0.000000      0.000000      0.000000      0.000000      0.000000   \n",
       "25%        2.600000     38.100000      0.800000      0.000000      0.200000   \n",
       "50%        7.400000     70.500000      3.800000      0.000000      1.500000   \n",
       "75%       21.100000     87.700000     14.500000      0.400000      5.000000   \n",
       "max      100.000000    100.000000    100.000000     99.400000     91.400000   \n",
       "\n",
       "       ...          Walk   OtherTransp    WorkAtHome   MeanCommute  \\\n",
       "count  ...  72718.000000  72718.000000  72718.000000  72718.000000   \n",
       "mean   ...      2.925778      1.886076      4.612646     26.080334   \n",
       "std    ...      5.260623      2.485812      3.770733      7.095680   \n",
       "min    ...      0.000000      0.000000      0.000000      4.200000   \n",
       "25%    ...      0.400000      0.400000      2.000000     21.100000   \n",
       "50%    ...      1.400000      1.200000      3.800000     25.400000   \n",
       "75%    ...      3.300000      2.500000      6.300000     30.300000   \n",
       "max    ...     77.700000     53.400000     82.800000     73.900000   \n",
       "\n",
       "           Employed   PrivateWork    PublicWork  SelfEmployed    FamilyWork  \\\n",
       "count  72718.000000  72718.000000  72718.000000  72718.000000  72718.000000   \n",
       "mean    2081.309139     79.511827     14.149495      6.167661      0.171231   \n",
       "std     1120.109805      7.957350      7.164790      3.798703      0.451630   \n",
       "min       20.000000     17.500000      0.000000      0.000000      0.000000   \n",
       "25%     1306.000000     75.300000      9.300000      3.500000      0.000000   \n",
       "50%     1915.000000     80.600000     13.000000      5.500000      0.000000   \n",
       "75%     2651.000000     85.000000     17.600000      8.000000      0.000000   \n",
       "max    28945.000000    100.000000     80.700000     47.400000     22.300000   \n",
       "\n",
       "       Unemployment  \n",
       "count  72718.000000  \n",
       "mean       7.224917  \n",
       "std        5.099419  \n",
       "min        0.000000  \n",
       "25%        3.900000  \n",
       "50%        6.000000  \n",
       "75%        9.000000  \n",
       "max       62.800000  \n",
       "\n",
       "[8 rows x 36 columns]"
      ]
     },
     "execution_count": 10,
     "metadata": {},
     "output_type": "execute_result"
    }
   ],
   "source": [
    "df_census_raw.describe()"
   ]
  },
  {
   "cell_type": "code",
   "execution_count": 11,
   "id": "488a910f-ce61-49a6-a5fc-1debc16fdfc8",
   "metadata": {},
   "outputs": [
    {
     "data": {
      "text/plain": [
       "count    72718.000000\n",
       "mean        21.148476\n",
       "std         18.572714\n",
       "min          0.000000\n",
       "25%          6.200000\n",
       "50%         16.300000\n",
       "75%         31.600000\n",
       "max        100.000000\n",
       "Name: ChildPoverty, dtype: float64"
      ]
     },
     "execution_count": 11,
     "metadata": {},
     "output_type": "execute_result"
    }
   ],
   "source": [
    "df_census_raw['ChildPoverty'].describe()"
   ]
  },
  {
   "cell_type": "code",
   "execution_count": 12,
   "id": "33d19154-9f07-46d0-8ec3-5250fd2d0b60",
   "metadata": {},
   "outputs": [
    {
     "data": {
      "text/plain": [
       "(array([25612., 15946., 11393.,  7936.,  5289.,  3352.,  1810.,   887.,\n",
       "          345.,   148.]),\n",
       " array([  0.,  10.,  20.,  30.,  40.,  50.,  60.,  70.,  80.,  90., 100.]),\n",
       " <BarContainer object of 10 artists>)"
      ]
     },
     "execution_count": 12,
     "metadata": {},
     "output_type": "execute_result"
    },
    {
     "data": {
      "image/png": "[encoded data removed]",
      "text/plain": [
       "<Figure size 640x480 with 1 Axes>"
      ]
     },
     "metadata": {},
     "output_type": "display_data"
    }
   ],
   "source": [
    "plt.hist(df_census_raw.ChildPoverty)"
   ]
  },
  {
   "cell_type": "markdown",
   "id": "228a4173-43e0-49cb-8e3e-ce3bb56e046f",
   "metadata": {},
   "source": [
    "## Preprocessing\n",
    "\n",
    "Side note: We may not have to do that much preprocessing on the dataset after all.\n",
    "\n",
    "\n",
    "We can remove the 'TractID' column, as it is an identification for each row and therefore has no bearing on the target."
   ]
  },
  {
   "cell_type": "code",
   "execution_count": 13,
   "id": "82e0414c-00e3-4175-a456-e502c3056fa3",
   "metadata": {},
   "outputs": [
    {
     "name": "stdout",
     "output_type": "stream",
     "text": [
      "<class 'pandas.core.frame.DataFrame'>\n",
      "Int64Index: 72718 entries, 0 to 74000\n",
      "Data columns (total 35 columns):\n",
      " #   Column            Non-Null Count  Dtype  \n",
      "---  ------            --------------  -----  \n",
      " 0   State             72718 non-null  int64  \n",
      " 1   TotalPop          72718 non-null  int64  \n",
      " 2   Men               72718 non-null  int64  \n",
      " 3   Women             72718 non-null  int64  \n",
      " 4   Hispanic          72718 non-null  float64\n",
      " 5   White             72718 non-null  float64\n",
      " 6   Black             72718 non-null  float64\n",
      " 7   Native            72718 non-null  float64\n",
      " 8   Asian             72718 non-null  float64\n",
      " 9   Pacific           72718 non-null  float64\n",
      " 10  VotingAgeCitizen  72718 non-null  int64  \n",
      " 11  Income            72718 non-null  float64\n",
      " 12  IncomeErr         72718 non-null  float64\n",
      " 13  IncomePerCap      72718 non-null  float64\n",
      " 14  IncomePerCapErr   72718 non-null  float64\n",
      " 15  Poverty           72718 non-null  float64\n",
      " 16  ChildPoverty      72718 non-null  float64\n",
      " 17  Professional      72718 non-null  float64\n",
      " 18  Service           72718 non-null  float64\n",
      " 19  Office            72718 non-null  float64\n",
      " 20  Construction      72718 non-null  float64\n",
      " 21  Production        72718 non-null  float64\n",
      " 22  Drive             72718 non-null  float64\n",
      " 23  Carpool           72718 non-null  float64\n",
      " 24  Transit           72718 non-null  float64\n",
      " 25  Walk              72718 non-null  float64\n",
      " 26  OtherTransp       72718 non-null  float64\n",
      " 27  WorkAtHome        72718 non-null  float64\n",
      " 28  MeanCommute       72718 non-null  float64\n",
      " 29  Employed          72718 non-null  int64  \n",
      " 30  PrivateWork       72718 non-null  float64\n",
      " 31  PublicWork        72718 non-null  float64\n",
      " 32  SelfEmployed      72718 non-null  float64\n",
      " 33  FamilyWork        72718 non-null  float64\n",
      " 34  Unemployment      72718 non-null  float64\n",
      "dtypes: float64(29), int64(6)\n",
      "memory usage: 20.0 MB\n"
     ]
    }
   ],
   "source": [
    "df_census_raw = df_census_raw.drop(labels='TractId', axis=1)\n",
    "df_census_raw.info()"
   ]
  },
  {
   "cell_type": "markdown",
   "id": "d30e713a-62f1-4343-a768-55c034f9f296",
   "metadata": {},
   "source": [
    "[.5 points] Balance the dataset so that about the same number of instances are within each class. Choose a method for balancing the dataset and explain your reasoning for selecting this method. One option is to choose quantization thresholds for the \"ChildPoverty\" variable that equally divide the data into four classes. Should balancing of the dataset be done for both the training and testing set? Explain.\n",
    "\n",
    "\n",
    "Utilized Code Sourced here:\n",
    "- https://pandas.pydata.org/docs/reference/api/pandas.qcut.html"
   ]
  },
  {
   "cell_type": "code",
   "execution_count": 14,
   "id": "f582e990-272e-4640-8dd0-7965f8d42daa",
   "metadata": {},
   "outputs": [
    {
     "data": {
      "text/plain": [
       "State                 int64\n",
       "TotalPop              int64\n",
       "Men                   int64\n",
       "Women                 int64\n",
       "Hispanic            float64\n",
       "White               float64\n",
       "Black               float64\n",
       "Native              float64\n",
       "Asian               float64\n",
       "Pacific             float64\n",
       "VotingAgeCitizen      int64\n",
       "Income              float64\n",
       "IncomeErr           float64\n",
       "IncomePerCap        float64\n",
       "IncomePerCapErr     float64\n",
       "Poverty             float64\n",
       "ChildPoverty          int64\n",
       "Professional        float64\n",
       "Service             float64\n",
       "Office              float64\n",
       "Construction        float64\n",
       "Production          float64\n",
       "Drive               float64\n",
       "Carpool             float64\n",
       "Transit             float64\n",
       "Walk                float64\n",
       "OtherTransp         float64\n",
       "WorkAtHome          float64\n",
       "MeanCommute         float64\n",
       "Employed              int64\n",
       "PrivateWork         float64\n",
       "PublicWork          float64\n",
       "SelfEmployed        float64\n",
       "FamilyWork          float64\n",
       "Unemployment        float64\n",
       "dtype: object"
      ]
     },
     "execution_count": 14,
     "metadata": {},
     "output_type": "execute_result"
    }
   ],
   "source": [
    "#Looked at Documentation for pandas.qcut()\n",
    "\n",
    "df_census_raw.ChildPoverty, bins= pd.qcut(df_census_raw.ChildPoverty, 4,labels=[1,2,3,4], retbins=True)\n",
    "df_census_raw.astype({'ChildPoverty': 'int64'}).dtypes"
   ]
  },
  {
   "cell_type": "markdown",
   "id": "1feec5af-aab2-46c0-accf-43c81a13e471",
   "metadata": {},
   "source": [
    "### Should balancing of the dataset be done for both the training and testing set? Explain.\n",
    "\n",
    "Balancing should be done on the dataset to ensure that enough target samples are present in the training as in the testing."
   ]
  },
  {
   "cell_type": "markdown",
   "id": "0d864177-176e-45cc-9cf8-85f118a385f7",
   "metadata": {},
   "source": [
    "There are places where the total population is 0, those entries should be removed."
   ]
  },
  {
   "cell_type": "code",
   "execution_count": 10,
   "id": "f8e8da3d-2a6a-4bc1-a264-81360da7837d",
   "metadata": {},
   "outputs": [],
   "source": [
    "dropPop =df_census_raw.index[df_census_raw[\"TotalPop\"] == 0].tolist()\n",
    "df_census_raw=df_census_raw.drop(df_census_raw.index[dropPop])"
   ]
  },
  {
   "cell_type": "code",
   "execution_count": null,
   "id": "c976bd71",
   "metadata": {
    "collapsed": false,
    "jupyter": {
     "outputs_hidden": false
    }
   },
   "outputs": [],
   "source": [
    "import seaborn\n",
    "\n",
    "## seaborn.pairplot(data=df_census_raw, hue=\"ChildPoverty\", vars=(\"State\",\"TotalPop\", \"Men\", \"Women\", \"Hispanic\",\"White\",\"Black\",\"Native\", \"Asian\", \"Pacific\",\"VotingAgeCitizen\",\"Income\", \"IncomeErr\", \"IncomePerCap\", \"IncomePerCapErr\",\"Professional\",\"Service\",\"Office\", \"Construction\", \"Production\",\"Drive\", \"Carpool\", \"Transit\", \"Walk\",\"OtherTransp\",\"WorkAtHome\",\"MeanCommute\", \"Employed\", \"PrivateWork\",\"PublicWork\",\"SelfEmployed\", \"FamilyWork\", \"Unemployment\"))\n",
    "seaborn.pairplot(data=df_census_raw, hue=\"ChildPoverty\", vars=(\"TotalPop\", \"Income\", \"IncomePerCap\", \"Professional\", \"Unemployment\"))"
   ]
  },
  {
   "cell_type": "markdown",
   "id": "46d1f579",
   "metadata": {},
   "source": [
    "Variables to keep: unemployment, professional, total population, IncomePerCap, white, hispanic"
   ]
  },
  {
   "cell_type": "code",
   "execution_count": null,
   "id": "52e95541",
   "metadata": {
    "collapsed": false,
    "jupyter": {
     "outputs_hidden": false
    }
   },
   "outputs": [],
   "source": [
    "seaborn.barplot(df_census_raw, x = \"TotalPop\", y=\"ChildPoverty\")"
   ]
  },
  {
   "cell_type": "markdown",
   "id": "b5bebd02",
   "metadata": {},
   "source": [
    "There is a cubic relation between child poverty and total population."
   ]
  },
  {
   "cell_type": "code",
   "execution_count": null,
   "id": "e5923f4e",
   "metadata": {
    "collapsed": false,
    "jupyter": {
     "outputs_hidden": false
    }
   },
   "outputs": [],
   "source": [
    "import seaborn\n",
    "\n",
    "seaborn.pairplot(data=df_census_raw, hue=\"ChildPoverty\", vars=(\"TotalPop\", \"Men\", \"Women\", \"Hispanic\",\"White\",\"Black\",\"Native\", \"Asian\", \"Pacific\"))"
   ]
  },
  {
   "cell_type": "code",
   "execution_count": null,
   "id": "5072cd7d",
   "metadata": {
    "collapsed": false,
    "jupyter": {
     "outputs_hidden": false
    }
   },
   "outputs": [],
   "source": [
    "import seaborn\n",
    "seaborn.pairplot(data=df_census_raw, hue=\"ChildPoverty\", vars=(\"VotingAgeCitizen\",\"Service\",\"Office\", \"Construction\", \"Production\"))"
   ]
  },
  {
   "cell_type": "markdown",
   "id": "ccade0fd",
   "metadata": {},
   "source": [
    "There doesn't appear to be strong correlation between either service, office, construction, or production and child poverty. There does appear to be one with Voting Age Citizen, however this may just be total population."
   ]
  },
  {
   "cell_type": "code",
   "execution_count": null,
   "id": "f8773a97",
   "metadata": {
    "collapsed": false,
    "jupyter": {
     "outputs_hidden": false
    }
   },
   "outputs": [],
   "source": [
    "seaborn.pairplot(data=df_census_raw, hue=\"ChildPoverty\", vars=(\"Drive\", \"Carpool\", \"Transit\", \"Walk\",\"OtherTransp\",\"WorkAtHome\",\"MeanCommute\"))"
   ]
  },
  {
   "cell_type": "markdown",
   "id": "b6581c54",
   "metadata": {},
   "source": [
    "Work from home tends to indicate less child poverty, while the rest of the work commute factors tend to have weaker correlation."
   ]
  },
  {
   "cell_type": "code",
   "execution_count": null,
   "id": "e2a074b5",
   "metadata": {
    "collapsed": false,
    "jupyter": {
     "outputs_hidden": false
    }
   },
   "outputs": [],
   "source": [
    "seaborn.pairplot(data=df_census_raw, hue=\"ChildPoverty\", vars=(\"Employed\", \"PrivateWork\",\"PublicWork\",\"SelfEmployed\", \"FamilyWork\", \"Unemployment\"))"
   ]
  },
  {
   "cell_type": "code",
   "execution_count": null,
   "id": "c4f6748e",
   "metadata": {
    "collapsed": false,
    "jupyter": {
     "outputs_hidden": false
    }
   },
   "outputs": [],
   "source": [
    "seaborn.scatterplot(df_census_raw, x = \"TotalPop\", y=\"ChildPoverty\")"
   ]
  },
  {
   "cell_type": "markdown",
   "id": "d4db7085-b1ba-4ce8-b93c-19903cbdfcd9",
   "metadata": {},
   "source": [
    "For quantization, we went with splitting the target output into four different bins using equal frequency. For training and testing, it would be important to balance the datasets. This is because if you don't balance the dataset, this could end in a situation where there are too many of one variable in the test dataset, but not the training dataset, and this would cause the model to perform poorly.\n",
    "\n",
    "In this particular case, we are shuffling the train_test_split method to balance this out."
   ]
  },
  {
   "cell_type": "markdown",
   "id": "9657bd21",
   "metadata": {},
   "source": [
    "The balancing of the data is not necessary for the testing set. In reality, a deployed algorithm will not encounter balanced data. The balanced data is important in the training set as it makes sure the model will be able to predict data across the board in a non-biased way. Testing data does not influence the algorithm directly, though it is important to test a variety of circumstances before deployment."
   ]
  },
  {
   "cell_type": "code",
   "execution_count": 15,
   "id": "df7f27c8",
   "metadata": {
    "collapsed": false,
    "jupyter": {
     "outputs_hidden": false
    }
   },
   "outputs": [],
   "source": [
    "X = df_census_raw[[\"State\",\"TotalPop\", \"Men\", \"Women\", \"Hispanic\",\"White\",\"Black\",\"Native\", \"Asian\", \"Pacific\",\n",
    "               \"VotingAgeCitizen\",\"Income\", \"IncomeErr\", \"IncomePerCap\", \"IncomePerCapErr\",\"Professional\",\"Service\",\"Office\", \"Construction\", \"Production\",\"Drive\", \"Carpool\", \"Transit\", \"Walk\",\"OtherTransp\",\"WorkAtHome\",\"MeanCommute\", \"Employed\", \"PrivateWork\",\n",
    "               \"PublicWork\",\"SelfEmployed\", \"FamilyWork\", \"Unemployment\"]]\n",
    "y = df_census_raw[\"ChildPoverty\"]"
   ]
  },
  {
   "cell_type": "code",
   "execution_count": 16,
   "id": "80ccb2b3",
   "metadata": {
    "collapsed": false,
    "jupyter": {
     "outputs_hidden": false
    }
   },
   "outputs": [],
   "source": [
    "from sklearn.model_selection import train_test_split\n",
    "\n",
    "#(X_train, X_test, y_train, y_test) = train_test_split(pca_df, pca_df.target, test_size = .2, shuffle=True)\n",
    "(X_train, X_test, y_train, y_test) = train_test_split(X, y, test_size = .2, shuffle=True,stratify=y)"
   ]
  },
  {
   "cell_type": "code",
   "execution_count": 17,
   "id": "6d925274-2685-4b3e-b572-6e4f723cd499",
   "metadata": {},
   "outputs": [
    {
     "data": {
      "text/plain": [
       "(array([3646.,    0.,    0., 3634.,    0.,    0., 3630.,    0.,    0.,\n",
       "        3634.]),\n",
       " array([1. , 1.3, 1.6, 1.9, 2.2, 2.5, 2.8, 3.1, 3.4, 3.7, 4. ]),\n",
       " <BarContainer object of 10 artists>)"
      ]
     },
     "execution_count": 17,
     "metadata": {},
     "output_type": "execute_result"
    },
    {
     "data": {
      "image/png": "[encoded data removed]",
      "text/plain": [
       "<Figure size 640x480 with 1 Axes>"
      ]
     },
     "metadata": {},
     "output_type": "display_data"
    }
   ],
   "source": [
    "plt.hist(y_train)\n",
    "plt.hist(y_test)"
   ]
  },
  {
   "cell_type": "markdown",
   "id": "874afda2",
   "metadata": {},
   "source": [
    "Pre-processing and Initial Modeling (2.5 points total)\n",
    "        You will be using a two layer perceptron from class for the next few parts of the rubric. There are several versions of the two layer perceptron covered in class, with example code. When selecting an example two layer network from class be sure that you use: (1) vectorized gradient computation, (2) mini-batching, (3) cross entropy loss, and (4) proper Glorot initialization, at a minimum. There is no need to use momentum or learning rate reduction (assuming you choose a sufficiently small learning rate). It is recommended to use sigmoids throughout the network, but not required.\n",
    "        [.5 points] Use the example two-layer perceptron network from the class example and quantify performance using accuracy. Do not normalize or one-hot encode the data (not yet). Be sure that training converges by graphing the loss function versus the number of epochs.\n",
    "\n"
   ]
  },
  {
   "cell_type": "code",
   "execution_count": 18,
   "id": "d5055670",
   "metadata": {
    "collapsed": false,
    "jupyter": {
     "outputs_hidden": false
    }
   },
   "outputs": [],
   "source": [
    "#Example adapted from https://github.com/rasbt/python-machine-learning-book/blob/master/code/ch12/ch12.ipynb\n",
    "#Original Author: Sebastian Raschka\n",
    "\n",
    "import numpy as np\n",
    "from scipy.special import expit\n",
    "import sys\n",
    "import pandas as pd\n",
    "\n",
    "# start with a simple base classifier, which can't be fit or predicted\n",
    "# it only has internal classes to be used by classes that will subclass it\n",
    "# Start with the following functions:\n",
    "#    init\n",
    "#    encode_labels\n",
    "#    initialize weights\n",
    "#    sigmoid\n",
    "#    add bias (vector of ones)\n",
    "#    objective function (cost and regularizer)\n",
    "class TwoLayerPerceptronBase(object):\n",
    "    def __init__(self, n_hidden=30,\n",
    "                 C=0.0, epochs=500, eta=0.001, random_state=None):\n",
    "        np.random.seed(random_state)\n",
    "        self.n_hidden = n_hidden\n",
    "        self.l2_C = C\n",
    "        self.epochs = epochs\n",
    "        self.eta = eta\n",
    "\n",
    "    @staticmethod\n",
    "    def _encode_labels(y):\n",
    "        \"\"\"Encode labels into one-hot representation\"\"\"\n",
    "        onehot = pd.get_dummies(y).values.T\n",
    "\n",
    "        return onehot\n",
    "\n",
    "    def _initialize_weights(self):\n",
    "        \"\"\"Initialize weights with small random numbers.\"\"\"\n",
    "        W1_num_elems = (self.n_features_ + 1)*self.n_hidden\n",
    "        W1 = np.random.uniform(-1.0, 1.0, size=W1_num_elems)\n",
    "        W1 = W1.reshape(self.n_hidden, self.n_features_ + 1) # reshape to be W\n",
    "\n",
    "        W2_num_elems = (self.n_hidden + 1)*self.n_output_\n",
    "        W2 = np.random.uniform(-1.0, 1.0, size=W2_num_elems)\n",
    "        W2 = W2.reshape(self.n_output_, self.n_hidden + 1)\n",
    "        return W1, W2\n",
    "\n",
    "        # \"\"\"Initialize weights with Glorot Initialization.\"\"\"\n",
    "        # limit = np.sqrt(6 / (self.n_features_ + self.n_output_))\n",
    "        #\n",
    "        # W1 = np.random.uniform(-limit, limit, size=(self.n_hidden, self.n_features_ + 1))\n",
    "        # W2 = np.random.uniform(-limit, limit, size=(self.n_output_, self.n_hidden + 1))\n",
    "        # return W1, W2\n",
    "\n",
    "\n",
    "    @staticmethod\n",
    "    def _sigmoid(z):\n",
    "        \"\"\"Use scipy.special.expit to avoid overflow\"\"\"\n",
    "        # 1.0 / (1.0 + np.exp(-z))\n",
    "        return expit(z)\n",
    "\n",
    "    @staticmethod\n",
    "    def _add_bias_unit(X, how='column'):\n",
    "        \"\"\"Add bias unit (column or row of 1s) to array at index 0\"\"\"\n",
    "        if how == 'column':\n",
    "            ones = np.ones((X.shape[0], 1))\n",
    "            X_new = np.hstack((ones, X))\n",
    "        elif how == 'row':\n",
    "            ones = np.ones((1, X.shape[1]))\n",
    "            X_new = np.vstack((ones, X))\n",
    "        return X_new\n",
    "\n",
    "    @staticmethod\n",
    "    def _L2_reg(lambda_, W1, W2):\n",
    "        \"\"\"Compute L2-regularization cost\"\"\"\n",
    "        # only compute for non-bias terms\n",
    "        return (lambda_) * np.sqrt(np.mean(W1[:, 1:] ** 2) + np.mean(W2[:, 1:] ** 2))\n",
    "\n",
    "    def _cost(self,A3,Y_enc,W1,W2):\n",
    "        '''Get the objective function value'''\n",
    "        cost = np.mean((Y_enc-A3)**2)\n",
    "        L2_term = self._L2_reg(self.l2_C, W1, W2)\n",
    "        return cost + L2_term\n",
    "\n",
    "        # \"\"\"Compute cross-entropy loss and L2-regularization cost\"\"\"\n",
    "        # # I'm pretty sure this is doing cross entropy loss?\n",
    "        # L2_term = self._L2_reg(self.l2_C, W1, W2)\n",
    "        # term1 = -np.mean(Y_enc * np.log(A3) + (1 - Y_enc) * np.log(1 - A3))\n",
    "        # return term1 + L2_term"
   ]
  },
  {
   "cell_type": "code",
   "execution_count": 19,
   "id": "07f563a4",
   "metadata": {
    "collapsed": false,
    "jupyter": {
     "outputs_hidden": false
    }
   },
   "outputs": [],
   "source": [
    "# now let's add in the following functions:\n",
    "#    feedforward\n",
    "#    fit and predict\n",
    "class TwoLayerPerceptron(TwoLayerPerceptronBase):\n",
    "    def _feedforward(self, X, W1, W2):\n",
    "        \"\"\"Compute feedforward step\n",
    "        -----------\n",
    "        X : Input layer with original features.\n",
    "        W1: Weight matrix for input layer -> hidden layer.\n",
    "        W2: Weight matrix for hidden layer -> output layer.\n",
    "        ----------\n",
    "        a1-a3 : activations into layer (or output layer)\n",
    "        z1-z2 : layer inputs\n",
    "\n",
    "        \"\"\"\n",
    "        A1 = self._add_bias_unit(X.T, how='row')\n",
    "        Z1 = W1 @ A1\n",
    "        A2 = self._sigmoid(Z1)\n",
    "        A2 = self._add_bias_unit(A2, how='row')\n",
    "        Z2 = W2 @ A2\n",
    "        A3 = self._sigmoid(Z2)\n",
    "        return A1, Z1, A2, Z2, A3\n",
    "\n",
    "    def _get_gradient(self, A1, A2, A3, Z1, Z2, Y_enc, W1, W2):\n",
    "        V2 = -2*(Y_enc-A3)*A3*(1-A3)\n",
    "        V1 = A2*(1-A2)*(W2.T @ V2)\n",
    "\n",
    "        grad2 = V2 @ A2.T\n",
    "        grad1 = V1[1:,:] @ A1.T\n",
    "\n",
    "        # regularize weights that are not bias terms\n",
    "        grad1[:, 1:] += W1[:, 1:] * self.l2_C\n",
    "        grad2[:, 1:] += W2[:, 1:] * self.l2_C\n",
    "\n",
    "        return grad1, grad2\n",
    "\n",
    "    def predict(self, X):\n",
    "        \"\"\"Predict class labels\"\"\"\n",
    "        _, _, _, _, A3 = self._feedforward(X, self.W1, self.W2)\n",
    "        y_pred = np.argmax(A3, axis=0)\n",
    "        return y_pred\n",
    "\n",
    "\n",
    "    def fit(self, X, y, print_progress=False):\n",
    "        \"\"\" Learn weights from training data.\"\"\"\n",
    "\n",
    "        X_data, y_data = X.copy(), y.copy()\n",
    "        Y_enc = self._encode_labels(y)\n",
    "\n",
    "        # init weights and setup matrices\n",
    "        self.n_features_ = X_data.shape[1]\n",
    "        self.n_output_ = Y_enc.shape[0]\n",
    "        self.W1, self.W2 = self._initialize_weights()\n",
    "\n",
    "        self.cost_ = []\n",
    "        for i in range(self.epochs):\n",
    "\n",
    "            if print_progress>0 and (i+1)%print_progress==0:\n",
    "                sys.stderr.write('\\rEpoch: %d/%d' % (i+1, self.epochs))\n",
    "                sys.stderr.flush()\n",
    "\n",
    "            # feedforward all instances\n",
    "            A1, Z1, A2, Z2, A3 = self._feedforward(X_data,self.W1,self.W2)\n",
    "\n",
    "            cost = self._cost(A3,Y_enc,self.W1,self.W2)\n",
    "            self.cost_.append(cost)\n",
    "\n",
    "            # compute gradient via backpropagation\n",
    "            grad1, grad2 = self._get_gradient(A1=A1, A2=A2, A3=A3, Z1=Z1, Z2=Z2, Y_enc=Y_enc,\n",
    "                                              W1=self.W1, W2=self.W2)\n",
    "\n",
    "            self.W1 -= self.eta * grad1\n",
    "            self.W2 -= self.eta * grad2\n",
    "\n",
    "        return self\n",
    "\n",
    "    def fit_batch(self, X, y, print_progress=False, batch_size=32):\n",
    "        \"\"\" Learn weights from training data using minibatch stochastic gradient descent.\"\"\"\n",
    "\n",
    "        X_data, y_data = X.copy(), y.copy()\n",
    "        Y_enc = self._encode_labels(y)\n",
    "\n",
    "        # init weights and setup matrices\n",
    "        self.n_features_ = X_data.shape[1]\n",
    "        self.n_output_ = Y_enc.shape[0]\n",
    "        self.W1, self.W2 = self._initialize_weights()\n",
    "\n",
    "        self.cost_ = []\n",
    "        n_batches = len(X_data) // batch_size\n",
    "        for i in range(self.epochs):\n",
    "\n",
    "            if print_progress>0 and (i+1)%print_progress==0:\n",
    "                sys.stderr.write('\\rEpoch: %d/%d' % (i+1, self.epochs))\n",
    "                sys.stderr.flush()\n",
    "\n",
    "            # # shuffle training data - This breaks the code if left in\n",
    "            # idx = np.random.permutation(len(X_data))\n",
    "            # X_data, Y_enc = X_data[idx], Y_enc[:, idx]\n",
    "\n",
    "            # minibatch training\n",
    "            for batch in range(n_batches):\n",
    "                start_idx = batch * batch_size\n",
    "                end_idx = start_idx + batch_size\n",
    "\n",
    "                # feedforward minibatch\n",
    "                A1, Z1, A2, Z2, A3 = self._feedforward(X_data[start_idx:end_idx], self.W1, self.W2)\n",
    "\n",
    "                # compute cost and gradient for minibatch\n",
    "                cost = self._cost(A3, Y_enc[:, start_idx:end_idx], self.W1, self.W2)\n",
    "                grad1, grad2 = self._get_gradient(A1=A1, A2=A2, A3=A3, Z1=Z1, Z2=Z2, Y_enc=Y_enc[:, start_idx:end_idx],\n",
    "                                                  W1=self.W1, W2=self.W2)\n",
    "\n",
    "                # update weights\n",
    "                self.W1 -= self.eta * grad1\n",
    "                self.W2 -= self.eta * grad2\n",
    "\n",
    "                # store cost for this minibatch\n",
    "                self.cost_.append(cost)\n",
    "\n",
    "        return self"
   ]
  },
  {
   "cell_type": "markdown",
   "id": "dc055188",
   "metadata": {},
   "source": [
    "Vectorized Gradient Function"
   ]
  },
  {
   "cell_type": "code",
   "execution_count": 59,
   "id": "2f41b708",
   "metadata": {
    "collapsed": false,
    "jupyter": {
     "outputs_hidden": false
    }
   },
   "outputs": [],
   "source": [
    "params = dict(n_hidden=50,\n",
    "              C=0.1, # tradeoff L2 regularizer\n",
    "              epochs=200, # iterations\n",
    "              eta=0.001,  # learning rate\n",
    "              random_state=1)\n"
   ]
  },
  {
   "cell_type": "code",
   "execution_count": 60,
   "id": "0deda107",
   "metadata": {
    "collapsed": false,
    "jupyter": {
     "outputs_hidden": false
    }
   },
   "outputs": [],
   "source": [
    "class TwoLayerPerceptronVectorized(TwoLayerPerceptron):\n",
    "    # just need a different gradient calculation\n",
    "    def _get_gradient(self, A1, A2, A3, Z1, Z2, Y_enc, W1, W2):\n",
    "        \"\"\" Compute gradient step using backpropagation.\n",
    "        \"\"\"\n",
    "        # vectorized backpropagation\n",
    "        V2 = -2*(Y_enc-A3)*A3*(1-A3)\n",
    "        V1 = A2*(1-A2)*(W2.T @ V2)\n",
    "\n",
    "        grad2 = V2 @ A2.T\n",
    "        grad1 = V1[1:,:] @ A1.T\n",
    "\n",
    "\n",
    "        # regularize weights that are not bias terms\n",
    "        grad1[:, 1:] += W1[:, 1:] * self.l2_C\n",
    "        grad2[:, 1:] += W2[:, 1:] * self.l2_C\n",
    "\n",
    "        return grad1, grad2"
   ]
  },
  {
   "cell_type": "code",
   "execution_count": 61,
   "id": "174ff592",
   "metadata": {
    "collapsed": false,
    "jupyter": {
     "outputs_hidden": false
    }
   },
   "outputs": [
    {
     "name": "stderr",
     "output_type": "stream",
     "text": [
      "Epoch: 200/200"
     ]
    },
    {
     "name": "stdout",
     "output_type": "stream",
     "text": [
      "Accuracy: 0.24986248624862487\n"
     ]
    }
   ],
   "source": [
    "from sklearn.metrics import accuracy_score\n",
    "nn_mini = TwoLayerPerceptronVectorized(**params) #changed to use the base class, just added in the function\n",
    "\n",
    "nn_mini.fit_batch(X_train, y_train, print_progress=50)\n",
    "yhat = nn_mini.predict(X_test)\n",
    "print('Accuracy:',accuracy_score(y_test,yhat))\n",
    "# takes way longer with mini-batching"
   ]
  },
  {
   "cell_type": "code",
   "execution_count": 62,
   "id": "d5a5d937",
   "metadata": {
    "collapsed": false,
    "jupyter": {
     "outputs_hidden": false
    }
   },
   "outputs": [
    {
     "data": {
      "image/png": "[encoded data removed]",
      "text/plain": [
       "<Figure size 640x480 with 1 Axes>"
      ]
     },
     "metadata": {},
     "output_type": "display_data"
    }
   ],
   "source": [
    "# take the mean of each minibatch epoch\n",
    "cost_avgs = [np.mean(x) for x in nn_mini.cost_]\n",
    "\n",
    "plt.plot(range(len(cost_avgs)), cost_avgs, color='red')\n",
    "plt.ylabel('Cost')\n",
    "plt.xlabel('Epochs')\n",
    "plt.tight_layout()\n",
    "plt.show()"
   ]
  },
  {
   "cell_type": "code",
   "execution_count": 63,
   "id": "e66523c6",
   "metadata": {
    "collapsed": false,
    "jupyter": {
     "outputs_hidden": false
    }
   },
   "outputs": [
    {
     "name": "stderr",
     "output_type": "stream",
     "text": [
      "Epoch: 200/200"
     ]
    },
    {
     "name": "stdout",
     "output_type": "stream",
     "text": [
      "Accuracy using Glorot and vectorized: 0.24986248624862487\n"
     ]
    }
   ],
   "source": [
    "from sklearn.metrics import accuracy_score\n",
    "nn = TwoLayerPerceptron(**params) #changed to use the base class, just added in the function\n",
    "\n",
    "nn.fit(X_train, y_train, print_progress=50)\n",
    "yhat = nn.predict(X_test)\n",
    "print('Accuracy using Glorot and vectorized:',accuracy_score(y_test,yhat))"
   ]
  },
  {
   "cell_type": "code",
   "execution_count": 64,
   "id": "0038e907",
   "metadata": {
    "collapsed": false,
    "jupyter": {
     "outputs_hidden": false
    }
   },
   "outputs": [
    {
     "data": {
      "image/png": "[encoded data removed]",
      "text/plain": [
       "<Figure size 640x480 with 1 Axes>"
      ]
     },
     "metadata": {},
     "output_type": "display_data"
    }
   ],
   "source": [
    "plt.plot(range(len(nn.cost_)), nn.cost_)\n",
    "plt.ylabel('Cost')\n",
    "plt.xlabel('Epochs')\n",
    "plt.tight_layout()\n",
    "plt.show()"
   ]
  },
  {
   "cell_type": "markdown",
   "id": "d4490dec",
   "metadata": {},
   "source": [
    "Minibatch:"
   ]
  },
  {
   "cell_type": "code",
   "execution_count": 65,
   "id": "37fe7261",
   "metadata": {
    "collapsed": false,
    "jupyter": {
     "outputs_hidden": false
    }
   },
   "outputs": [],
   "source": [
    "# Example adapted from https://github.com/rasbt/python-machine-learning-book/blob/master/code/ch12/ch12.ipynb\n",
    "# Original Author: Sebastian Raschka\n",
    "# This is the optional book we use in the course, excellent intuitions and straightforward programming examples\n",
    "# please note, however, that this code has been manipulated to reflect our assumptions and notation.\n",
    "class TLPVectorizedMiniBatch(TwoLayerPerceptron):\n",
    "    def __init__(self, alpha=0.1, decrease_const=0.0, shuffle=True, minibatches=1, **kwds):\n",
    "        # need to add to the original initializer\n",
    "        self.alpha = alpha\n",
    "        self.decrease_const = decrease_const\n",
    "        self.shuffle = shuffle\n",
    "        self.minibatches = minibatches\n",
    "        # but keep other keywords\n",
    "        super().__init__(**kwds)\n",
    "\n",
    "    def fit_batch(self, X, y, print_progress=False, batch_size=32):\n",
    "        \"\"\" Learn weights from training data using minibatch stochastic gradient descent.\"\"\"\n",
    "\n",
    "        X_data, y_data = X.copy(), y.copy()\n",
    "        Y_enc = self._encode_labels(y)\n",
    "\n",
    "        # init weights and setup matrices\n",
    "        self.n_features_ = X_data.shape[1]\n",
    "        self.n_output_ = Y_enc.shape[0]\n",
    "        self.W1, self.W2 = self._initialize_weights()\n",
    "\n",
    "        self.cost_ = []\n",
    "        n_batches = len(X_data) // batch_size\n",
    "        for i in range(self.epochs):\n",
    "\n",
    "            if print_progress>0 and (i+1)%print_progress==0:\n",
    "                sys.stderr.write('\\rEpoch: %d/%d' % (i+1, self.epochs))\n",
    "                sys.stderr.flush()\n",
    "\n",
    "            # # shuffle training data - This breaks the code if left in\n",
    "            # idx = np.random.permutation(len(X_data))\n",
    "            # X_data, Y_enc = X_data[idx], Y_enc[:, idx]\n",
    "\n",
    "            # minibatch training\n",
    "            for batch in range(n_batches):\n",
    "                start_idx = batch * batch_size\n",
    "                end_idx = start_idx + batch_size\n",
    "\n",
    "                # feedforward minibatch\n",
    "                A1, Z1, A2, Z2, A3 = self._feedforward(X_data[start_idx:end_idx], self.W1, self.W2)\n",
    "\n",
    "                # compute cost and gradient for minibatch\n",
    "                cost = self._cost(A3, Y_enc[:, start_idx:end_idx], self.W1, self.W2)\n",
    "                grad1, grad2 = self._get_gradient(A1=A1, A2=A2, A3=A3, Z1=Z1, Z2=Z2, Y_enc=Y_enc[:, start_idx:end_idx],\n",
    "                                                  W1=self.W1, W2=self.W2)\n",
    "\n",
    "                # update weights\n",
    "                self.W1 -= self.eta * grad1\n",
    "                self.W2 -= self.eta * grad2\n",
    "\n",
    "                # store cost for this minibatch\n",
    "                self.cost_.append(cost)\n",
    "\n",
    "        return self"
   ]
  },
  {
   "cell_type": "code",
   "execution_count": 66,
   "id": "f51b2743",
   "metadata": {
    "collapsed": false,
    "jupyter": {
     "outputs_hidden": false
    }
   },
   "outputs": [
    {
     "name": "stderr",
     "output_type": "stream",
     "text": [
      "Epoch: 100/100"
     ]
    },
    {
     "name": "stdout",
     "output_type": "stream",
     "text": [
      "Accuracy: 0.24986248624862487\n"
     ]
    }
   ],
   "source": [
    "params['epochs'] = 100\n",
    "params['eta'] = 0.1\n",
    "nn_mini = TLPVectorizedMiniBatch(**params,\n",
    "                          alpha=0.1,# momentum calculation\n",
    "                          decrease_const=0.1, # decreasing eta\n",
    "                          minibatches=len(X_train)/32, # minibatch size\n",
    "                          shuffle=True)\n",
    "\n",
    "\n",
    "nn_mini.fit(X_train, y_train, print_progress=50)\n",
    "yhat = nn.predict(X_test)\n",
    "print('Accuracy:',accuracy_score(y_test,yhat))"
   ]
  },
  {
   "cell_type": "code",
   "execution_count": 67,
   "id": "226f3674",
   "metadata": {
    "collapsed": false,
    "jupyter": {
     "outputs_hidden": false
    }
   },
   "outputs": [
    {
     "data": {
      "image/png": "[encoded data removed]",
      "text/plain": [
       "<Figure size 640x480 with 1 Axes>"
      ]
     },
     "metadata": {},
     "output_type": "display_data"
    }
   ],
   "source": [
    "# take the mean of each minibatch epoch\n",
    "cost_avgs = [np.mean(x) for x in nn_mini.cost_]\n",
    "\n",
    "plt.plot(range(len(cost_avgs)), cost_avgs, color='red')\n",
    "plt.ylabel('Cost')\n",
    "plt.xlabel('Epochs')\n",
    "plt.tight_layout()\n",
    "plt.show()"
   ]
  },
  {
   "cell_type": "code",
   "execution_count": 68,
   "id": "cc4e055a",
   "metadata": {
    "collapsed": false,
    "jupyter": {
     "outputs_hidden": false
    }
   },
   "outputs": [],
   "source": [
    "from scipy.optimize import fmin_bfgs\n",
    "from scipy.optimize import fmin_l_bfgs_b\n",
    "class TLPVectorizedBFGS(TwoLayerPerceptronVectorized):\n",
    "\n",
    "    def __init__(self, gtol=1e-5, **kwds):\n",
    "        # need to add to the original initializer\n",
    "        self.gtol = gtol\n",
    "\n",
    "        # but keep other keywords\n",
    "        super().__init__(**kwds)\n",
    "\n",
    "    @staticmethod\n",
    "    def _pack(in1, in2):\n",
    "        '''Pack and flatten input vectors '''\n",
    "        return np.hstack((in1.flatten(),in2.flatten()))\n",
    "\n",
    "    def _unpack(self, in_tot):\n",
    "        '''Undo packing according to layer weight sizes'''\n",
    "        out1 = in_tot[:self.W1.size].reshape(self.W1.shape)\n",
    "        out2 = in_tot[self.W1.size:].reshape(self.W2.shape)\n",
    "        return out1, out2\n",
    "\n",
    "    def _calc_cost_gradient_packed(self,W,X_data,Y_enc):\n",
    "        '''Unpack and get cost, gradient for bfgs'''\n",
    "        W1, W2 = self._unpack(W)\n",
    "        # feedforward all instances\n",
    "        A1, Z1, A2, Z2, A3 = self._feedforward(X_data,W1,W2)\n",
    "\n",
    "        cost = np.sum((Y_enc-A3)**2)\n",
    "        L2_term = self._L2_reg(self.l2_C, W1, W2)\n",
    "        cost = cost + L2_term\n",
    "        #perform back prop to get gradients\n",
    "        grad1,grad2 = self._get_gradient(A1=A1, A2=A2, A3=A3,Z1=Z1, Z2=Z2, Y_enc=Y_enc,\n",
    "                                         W1=W1, W2=W2)\n",
    "        return cost, self._pack(grad1,grad2)\n",
    "\n",
    "    def _cost_packed(self,W,X_data,Y_enc):\n",
    "        '''Unpack and calculate MSE for bfgs'''\n",
    "        W1, W2 = self._unpack(W)\n",
    "        _, _, _, _, A3 = self._feedforward(X_data,W1,W2)\n",
    "        return np.sum((Y_enc-A3)**2)\n",
    "\n",
    "    def fit(self,X,y,print_progress=0):\n",
    "        '''Learn weights from training data'''\n",
    "        X_data, y_data = X.copy(), y.copy()\n",
    "        Y_enc = self._encode_labels(y)\n",
    "\n",
    "        # init weights and setup matrices\n",
    "        self.n_features_ = X_data.shape[1]\n",
    "        self.n_output_ = Y_enc.shape[0]\n",
    "        self.W1, self.W2 = self._initialize_weights()\n",
    "\n",
    "        # make initial matrices into single row vector\n",
    "        W = self._pack(self.W1,self.W2)\n",
    "\n",
    "        if print_progress>0:\n",
    "            def callback(xd):\n",
    "                callback.counter += 1\n",
    "                if callback.counter%print_progress==0:\n",
    "                    sys.stderr.write('\\rEpoch: %d/%d (max)' % (callback.counter,callback.epochs))\n",
    "                    sys.stderr.flush()\n",
    "\n",
    "            callback.counter = 0\n",
    "            callback.epochs = self.epochs\n",
    "\n",
    "        else:\n",
    "            callback = None\n",
    "\n",
    "        # compute gradient optimum with bfgs\n",
    "        W_best,_,props = fmin_l_bfgs_b(\n",
    "                        x0=W,\n",
    "                        func=self._calc_cost_gradient_packed,\n",
    "                        maxfun=self.epochs,\n",
    "                        callback=callback,\n",
    "                        pgtol=self.gtol,\n",
    "                        args=(X_data, Y_enc))\n",
    "\n",
    "        self.W1, self.W2 = self._unpack(W_best)\n",
    "        if print_progress:\n",
    "            print(props)"
   ]
  },
  {
   "cell_type": "code",
   "execution_count": 69,
   "id": "fb13da8c",
   "metadata": {
    "collapsed": false,
    "jupyter": {
     "outputs_hidden": false
    }
   },
   "outputs": [
    {
     "name": "stderr",
     "output_type": "stream",
     "text": [
      "Epoch: 45/100 (max)"
     ]
    },
    {
     "name": "stdout",
     "output_type": "stream",
     "text": [
      "{'grad': array([ 0.00000000e+00,  4.40598317e-02, -9.99656287e-02, ...,\n",
      "       -3.39737784e+02, -3.50433311e+02, -3.39205394e+02]), 'task': 'STOP: TOTAL NO. of f AND g EVALUATIONS EXCEEDS LIMIT', 'funcalls': 104, 'nit': 45, 'warnflag': 1}\n",
      "Accuracy: 0.08649614961496149\n"
     ]
    }
   ],
   "source": [
    "from sklearn.metrics import accuracy_score\n",
    "\n",
    "nn_bfgs = TLPVectorizedBFGS(**params, gtol=1e-3)\n",
    "\n",
    "nn_bfgs.fit(X_train, y_train, print_progress=1)\n",
    "yhat = nn_bfgs.predict(X_test)\n",
    "print('Accuracy:',accuracy_score(y_test,yhat))"
   ]
  },
  {
   "cell_type": "markdown",
   "id": "9c404c1c",
   "metadata": {},
   "source": [
    "Cross Entropy"
   ]
  },
  {
   "cell_type": "code",
   "execution_count": 70,
   "id": "a17528e3",
   "metadata": {
    "collapsed": false,
    "jupyter": {
     "outputs_hidden": false
    }
   },
   "outputs": [],
   "source": [
    "\n",
    "# we just need to update the final layer calculation of the gradient\n",
    "class TLPMiniBatchCrossEntropy(TLPVectorizedMiniBatch):\n",
    "    def _cost(self,A3,Y_enc,W1,W2):\n",
    "        '''Get the objective function value'''\n",
    "        cost = -np.mean(np.nan_to_num((Y_enc*np.log(A3)+(1-Y_enc)*np.log(1-A3))))\n",
    "        L2_term = self._L2_reg(self.l2_C, W1, W2)\n",
    "        return cost + L2_term\n",
    "\n",
    "    def _get_gradient(self, A1, A2, A3, Z1, Z2, Y_enc, W1, W2):\n",
    "        \"\"\" Compute gradient step using backpropagation.\n",
    "        \"\"\"\n",
    "        # vectorized backpropagation\n",
    "        V2 = (A3-Y_enc) # <- this is only line that changed\n",
    "        V1 = A2*(1-A2)*(W2.T @ V2)\n",
    "\n",
    "        grad2 = V2 @ A2.T\n",
    "        grad1 = V1[1:,:] @ A1.T\n",
    "\n",
    "        # regularize weights that are not bias terms\n",
    "        grad1[:, 1:] += W1[:, 1:] * self.l2_C\n",
    "        grad2[:, 1:] += W2[:, 1:] * self.l2_C\n",
    "\n",
    "        return grad1, grad2"
   ]
  },
  {
   "cell_type": "code",
   "execution_count": 71,
   "id": "4ac345ab",
   "metadata": {
    "collapsed": false,
    "jupyter": {
     "outputs_hidden": false
    }
   },
   "outputs": [
    {
     "name": "stderr",
     "output_type": "stream",
     "text": [
      "Epoch: 2/20/var/folders/vb/cm8xdysn1pg36sgnx27zdnx40000gn/T/ipykernel_85713/3740796502.py:5: RuntimeWarning: divide by zero encountered in log\n",
      "  cost = -np.mean(np.nan_to_num((Y_enc*np.log(A3)+(1-Y_enc)*np.log(1-A3))))\n",
      "/var/folders/vb/cm8xdysn1pg36sgnx27zdnx40000gn/T/ipykernel_85713/3740796502.py:5: RuntimeWarning: invalid value encountered in multiply\n",
      "  cost = -np.mean(np.nan_to_num((Y_enc*np.log(A3)+(1-Y_enc)*np.log(1-A3))))\n",
      "/Users/einsteinium/opt/anaconda3/lib/python3.9/site-packages/numpy/core/_methods.py:179: RuntimeWarning: overflow encountered in reduce\n",
      "  ret = umr_sum(arr, axis, dtype, out, keepdims, where=where)\n",
      "Epoch: 1/200"
     ]
    },
    {
     "name": "stdout",
     "output_type": "stream",
     "text": [
      "CPU times: user 44.6 s, sys: 2.26 s, total: 46.9 s\n",
      "Wall time: 7.2 s\n"
     ]
    },
    {
     "name": "stderr",
     "output_type": "stream",
     "text": [
      "Epoch: 20/20"
     ]
    },
    {
     "name": "stdout",
     "output_type": "stream",
     "text": [
      "CPU times: user 42.4 s, sys: 2.65 s, total: 45.1 s\n",
      "Wall time: 6.73 s\n"
     ]
    },
    {
     "data": {
      "text/plain": [
       "<__main__.TLPVectorizedMiniBatch at 0x17f60c400>"
      ]
     },
     "execution_count": 71,
     "metadata": {},
     "output_type": "execute_result"
    }
   ],
   "source": [
    "vals = { 'n_hidden':30,\n",
    "         'C':0.1, 'epochs':20, 'eta':0.001,\n",
    "         'alpha':0.001, 'decrease_const':1e-5, 'minibatches':50,\n",
    "         'shuffle':True,'random_state':1}\n",
    "\n",
    "nn_quad = TLPVectorizedMiniBatch(**vals)\n",
    "nn_cross = TLPMiniBatchCrossEntropy(**vals)\n",
    "\n",
    "%time nn_cross.fit(X_train, y_train, print_progress=1)\n",
    "%time nn_quad.fit(X_train, y_train, print_progress=1)"
   ]
  },
  {
   "cell_type": "code",
   "execution_count": 72,
   "id": "aafd0f39",
   "metadata": {
    "collapsed": false,
    "jupyter": {
     "outputs_hidden": false
    }
   },
   "outputs": [
    {
     "name": "stdout",
     "output_type": "stream",
     "text": [
      "Accuracy using Glorot and vectorized: 0.2506875687568757\n"
     ]
    }
   ],
   "source": [
    "yhat = nn_cross.predict(X_test)\n",
    "print('Accuracy using Glorot and vectorized:',accuracy_score(y_test,yhat))"
   ]
  },
  {
   "cell_type": "code",
   "execution_count": 73,
   "id": "3ea49ac9",
   "metadata": {
    "collapsed": false,
    "jupyter": {
     "outputs_hidden": false
    }
   },
   "outputs": [
    {
     "name": "stdout",
     "output_type": "stream",
     "text": [
      "Accuracy using Glorot and vectorized: 0.2506875687568757\n"
     ]
    }
   ],
   "source": [
    "yhat = nn_quad.predict(X_test)\n",
    "print('Accuracy using Glorot and vectorized:',accuracy_score(y_test,yhat))"
   ]
  },
  {
   "cell_type": "markdown",
   "id": "966c5dd6",
   "metadata": {},
   "source": [
    "Glorot initialization"
   ]
  },
  {
   "cell_type": "code",
   "execution_count": 74,
   "id": "dbda5146",
   "metadata": {
    "collapsed": false,
    "jupyter": {
     "outputs_hidden": false
    }
   },
   "outputs": [],
   "source": [
    "class TLPBetterInitial(TLPMiniBatchCrossEntropy):\n",
    "    def _initialize_weights(self):\n",
    "        \"\"\"Initialize weights Glorot and He normalization.\"\"\"\n",
    "        init_bound = 4*np.sqrt(6. / (self.n_hidden + self.n_features_ + 1))\n",
    "        W1 = np.random.uniform(-init_bound, init_bound,(self.n_hidden, self.n_features_ + 1))\n",
    "        W1[:,:1] = 0\n",
    "\n",
    "        # reduce the final layer magnitude in order to balance the size of the gradients\n",
    "        # between\n",
    "        init_bound = 4*np.sqrt(6 / (self.n_output_ + self.n_hidden + 1))\n",
    "        W2 = np.random.uniform(-init_bound, init_bound,(self.n_output_, self.n_hidden + 1))\n",
    "        W2[:,:1] = 0\n",
    "\n",
    "        return W1, W2"
   ]
  },
  {
   "cell_type": "code",
   "execution_count": 75,
   "id": "3e60a235",
   "metadata": {
    "collapsed": false,
    "jupyter": {
     "outputs_hidden": false
    }
   },
   "outputs": [],
   "source": [
    "# base model that includes everything\n",
    "class TwoLayerPerceptronFull(object):\n",
    "    def __init__(self, n_hidden=30,\n",
    "                 C=0.0, epochs=500, eta=0.001, random_state=None):\n",
    "        np.random.seed(random_state)\n",
    "        self.n_hidden = n_hidden\n",
    "        self.l2_C = C\n",
    "        self.epochs = epochs\n",
    "        self.eta = eta\n",
    "\n",
    "    @staticmethod\n",
    "    def _encode_labels(y):\n",
    "        \"\"\"Encode labels into one-hot representation\"\"\"\n",
    "        onehot = pd.get_dummies(y).values.T\n",
    "\n",
    "        return onehot\n",
    "\n",
    "    def _initialize_weights(self):\n",
    "        \"\"\"Initialize weights with Glorot Initialization.\"\"\"\n",
    "        limit = np.sqrt(6 / (self.n_features_ + self.n_output_))\n",
    "\n",
    "        W1 = np.random.uniform(-limit, limit, size=(self.n_hidden, self.n_features_ + 1))\n",
    "        W2 = np.random.uniform(-limit, limit, size=(self.n_output_, self.n_hidden + 1))\n",
    "        return W1, W2\n",
    "\n",
    "\n",
    "    @staticmethod\n",
    "    def _sigmoid(z):\n",
    "        \"\"\"Use scipy.special.expit to avoid overflow\"\"\"\n",
    "        # 1.0 / (1.0 + np.exp(-z))\n",
    "        return expit(z)\n",
    "\n",
    "    @staticmethod\n",
    "    def _add_bias_unit(X, how='column'):\n",
    "        \"\"\"Add bias unit (column or row of 1s) to array at index 0\"\"\"\n",
    "        if how == 'column':\n",
    "            ones = np.ones((X.shape[0], 1))\n",
    "            X_new = np.hstack((ones, X))\n",
    "        elif how == 'row':\n",
    "            ones = np.ones((1, X.shape[1]))\n",
    "            X_new = np.vstack((ones, X))\n",
    "        return X_new\n",
    "\n",
    "    @staticmethod\n",
    "    def _L2_reg(lambda_, W1, W2):\n",
    "        \"\"\"Compute L2-regularization cost\"\"\"\n",
    "        # only compute for non-bias terms\n",
    "        return (lambda_) * np.sqrt(np.mean(W1[:, 1:] ** 2) + np.mean(W2[:, 1:] ** 2))\n",
    "\n",
    "    def _cost(self,A3,Y_enc,W1,W2):\n",
    "        \"\"\"Compute cross-entropy loss and L2-regularization cost\"\"\"\n",
    "        # I'm pretty sure this is doing cross entropy loss?\n",
    "        L2_term = self._L2_reg(self.l2_C, W1, W2)\n",
    "        term1 = -np.mean(Y_enc * np.log(A3) + (1 - Y_enc) * np.log(1 - A3))\n",
    "        return term1 + L2_term\n",
    "\n",
    "\n",
    "class TwoLayerPerceptronComplete(TwoLayerPerceptronFull):\n",
    "    def _feedforward(self, X, W1, W2):\n",
    "        \"\"\"Compute feedforward step\n",
    "        -----------\n",
    "        X : Input layer with original features.\n",
    "        W1: Weight matrix for input layer -> hidden layer.\n",
    "        W2: Weight matrix for hidden layer -> output layer.\n",
    "        ----------\n",
    "        a1-a3 : activations into layer (or output layer)\n",
    "        z1-z2 : layer inputs\n",
    "\n",
    "        \"\"\"\n",
    "        A1 = self._add_bias_unit(X.T, how='row')\n",
    "        Z1 = W1 @ A1\n",
    "        A2 = self._sigmoid(Z1)\n",
    "        A2 = self._add_bias_unit(A2, how='row')\n",
    "        Z2 = W2 @ A2\n",
    "        A3 = self._sigmoid(Z2)\n",
    "        return A1, Z1, A2, Z2, A3\n",
    "\n",
    "    def _get_gradient(self, A1, A2, A3, Z1, Z2, Y_enc, W1, W2):\n",
    "        V2 = -2*(Y_enc-A3)*A3*(1-A3)\n",
    "        V1 = A2*(1-A2)*(W2.T @ V2)\n",
    "\n",
    "        grad2 = V2 @ A2.T\n",
    "        grad1 = V1[1:,:] @ A1.T\n",
    "\n",
    "        # regularize weights that are not bias terms\n",
    "        grad1[:, 1:] += W1[:, 1:] * self.l2_C\n",
    "        grad2[:, 1:] += W2[:, 1:] * self.l2_C\n",
    "\n",
    "        return grad1, grad2\n",
    "\n",
    "    def predict(self, X):\n",
    "        \"\"\"Predict class labels\"\"\"\n",
    "        _, _, _, _, A3 = self._feedforward(X, self.W1, self.W2)\n",
    "        y_pred = np.argmax(A3, axis=0)\n",
    "        return y_pred\n",
    "\n",
    "    def fit(self, X, y, print_progress=False, batch_size=32):\n",
    "        \"\"\" Learn weights from training data using minibatch stochastic gradient descent.\"\"\"\n",
    "\n",
    "        X_data, y_data = X.copy(), y.copy()\n",
    "        Y_enc = self._encode_labels(y)\n",
    "\n",
    "        # init weights and setup matrices\n",
    "        self.n_features_ = X_data.shape[1]\n",
    "        self.n_output_ = Y_enc.shape[0]\n",
    "        self.W1, self.W2 = self._initialize_weights()\n",
    "\n",
    "        self.cost_ = []\n",
    "        n_batches = len(X_data) // batch_size\n",
    "        for i in range(self.epochs):\n",
    "\n",
    "            if print_progress>0 and (i+1)%print_progress==0:\n",
    "                sys.stderr.write('\\rEpoch: %d/%d' % (i+1, self.epochs))\n",
    "                sys.stderr.flush()\n",
    "\n",
    "            # # shuffle training data - This breaks the code if left in\n",
    "            # idx = np.random.permutation(len(X_data))\n",
    "            # X_data, Y_enc = X_data[idx], Y_enc[:, idx]\n",
    "\n",
    "            # minibatch training\n",
    "            for batch in range(n_batches):\n",
    "                start_idx = batch * batch_size\n",
    "                end_idx = start_idx + batch_size\n",
    "\n",
    "                # feedforward minibatch\n",
    "                A1, Z1, A2, Z2, A3 = self._feedforward(X_data[start_idx:end_idx], self.W1, self.W2)\n",
    "\n",
    "                # compute cost and gradient for minibatch\n",
    "                cost = self._cost(A3, Y_enc[:, start_idx:end_idx], self.W1, self.W2)\n",
    "                grad1, grad2 = self._get_gradient(A1=A1, A2=A2, A3=A3, Z1=Z1, Z2=Z2, Y_enc=Y_enc[:, start_idx:end_idx],\n",
    "                                                  W1=self.W1, W2=self.W2)\n",
    "\n",
    "                # update weights\n",
    "                self.W1 -= self.eta * grad1\n",
    "                self.W2 -= self.eta * grad2\n",
    "\n",
    "                # store cost for this minibatch\n",
    "                self.cost_.append(cost)\n",
    "\n",
    "        return self"
   ]
  },
  {
   "cell_type": "code",
   "execution_count": 76,
   "id": "e45a2698",
   "metadata": {
    "collapsed": false,
    "jupyter": {
     "outputs_hidden": false
    }
   },
   "outputs": [],
   "source": [
    "params = dict(n_hidden=50,\n",
    "              C=0.1, # tradeoff L2 regularizer\n",
    "              epochs=100, # iterations\n",
    "              eta=0.001,  # learning rate\n",
    "              random_state=1)\n"
   ]
  },
  {
   "cell_type": "code",
   "execution_count": 77,
   "id": "034b9900",
   "metadata": {
    "collapsed": false,
    "jupyter": {
     "outputs_hidden": false
    }
   },
   "outputs": [
    {
     "name": "stderr",
     "output_type": "stream",
     "text": [
      "Epoch: 100/100"
     ]
    },
    {
     "name": "stdout",
     "output_type": "stream",
     "text": [
      "Accuracy: 0.24986248624862487\n"
     ]
    },
    {
     "data": {
      "image/png": "[encoded data removed]",
      "text/plain": [
       "<Figure size 640x480 with 1 Axes>"
      ]
     },
     "metadata": {},
     "output_type": "display_data"
    }
   ],
   "source": [
    "nn_full = TwoLayerPerceptronComplete(**params) #changed to use the base class, just added in the function\n",
    "\n",
    "nn_full.fit(X_train, y_train, print_progress=50)\n",
    "yhat = nn_full.predict(X_test)\n",
    "print('Accuracy:',accuracy_score(y_test,yhat))\n",
    "\n",
    "# take the mean of each minibatch epoch\n",
    "cost_avgs = [np.mean(x) for x in nn_full.cost_]\n",
    "\n",
    "plt.plot(range(len(cost_avgs)), cost_avgs, color='red')\n",
    "plt.ylabel('Cost')\n",
    "plt.xlabel('Epochs')\n",
    "plt.tight_layout()\n",
    "plt.show()"
   ]
  },
  {
   "cell_type": "markdown",
   "id": "e9cd60bc",
   "metadata": {},
   "source": [
    "## Performance on Scaled data"
   ]
  },
  {
   "cell_type": "code",
   "execution_count": 20,
   "id": "9f7b508b",
   "metadata": {
    "collapsed": false,
    "jupyter": {
     "outputs_hidden": false
    }
   },
   "outputs": [],
   "source": [
    "from sklearn.preprocessing import StandardScaler, OneHotEncoder\n",
    "\n",
    "# Normalization\n",
    "def preprocess(x):\n",
    "    scaler = StandardScaler()\n",
    "    x_state = x.State\n",
    "    x = x.drop('State',axis = 1)\n",
    "    x = pd.DataFrame(scaler.fit_transform(x),columns = x.columns)\n",
    "\n",
    "    # OHE\n",
    "    ohe = OneHotEncoder()\n",
    "    x_state = pd.DataFrame(ohe.fit_transform(x_state.values.reshape(-1,1)).toarray())\n",
    "\n",
    "    x_scaled = pd.concat([x_state, x], axis=1)\n",
    "    return x_scaled"
   ]
  },
  {
   "cell_type": "code",
   "execution_count": 21,
   "id": "e9206763",
   "metadata": {
    "collapsed": false,
    "jupyter": {
     "outputs_hidden": false
    }
   },
   "outputs": [],
   "source": [
    "X_train_scaled = preprocess(X_train)\n",
    "X_test_scaled = preprocess(X_test)"
   ]
  },
  {
   "cell_type": "code",
   "execution_count": 22,
   "id": "5df79ac7-5db0-47a7-a903-94c6ca120ec5",
   "metadata": {},
   "outputs": [
    {
     "name": "stdout",
     "output_type": "stream",
     "text": [
      "<class 'pandas.core.frame.DataFrame'>\n",
      "RangeIndex: 58174 entries, 0 to 58173\n",
      "Data columns (total 84 columns):\n",
      " #   Column            Non-Null Count  Dtype  \n",
      "---  ------            --------------  -----  \n",
      " 0   0                 58174 non-null  float64\n",
      " 1   1                 58174 non-null  float64\n",
      " 2   2                 58174 non-null  float64\n",
      " 3   3                 58174 non-null  float64\n",
      " 4   4                 58174 non-null  float64\n",
      " 5   5                 58174 non-null  float64\n",
      " 6   6                 58174 non-null  float64\n",
      " 7   7                 58174 non-null  float64\n",
      " 8   8                 58174 non-null  float64\n",
      " 9   9                 58174 non-null  float64\n",
      " 10  10                58174 non-null  float64\n",
      " 11  11                58174 non-null  float64\n",
      " 12  12                58174 non-null  float64\n",
      " 13  13                58174 non-null  float64\n",
      " 14  14                58174 non-null  float64\n",
      " 15  15                58174 non-null  float64\n",
      " 16  16                58174 non-null  float64\n",
      " 17  17                58174 non-null  float64\n",
      " 18  18                58174 non-null  float64\n",
      " 19  19                58174 non-null  float64\n",
      " 20  20                58174 non-null  float64\n",
      " 21  21                58174 non-null  float64\n",
      " 22  22                58174 non-null  float64\n",
      " 23  23                58174 non-null  float64\n",
      " 24  24                58174 non-null  float64\n",
      " 25  25                58174 non-null  float64\n",
      " 26  26                58174 non-null  float64\n",
      " 27  27                58174 non-null  float64\n",
      " 28  28                58174 non-null  float64\n",
      " 29  29                58174 non-null  float64\n",
      " 30  30                58174 non-null  float64\n",
      " 31  31                58174 non-null  float64\n",
      " 32  32                58174 non-null  float64\n",
      " 33  33                58174 non-null  float64\n",
      " 34  34                58174 non-null  float64\n",
      " 35  35                58174 non-null  float64\n",
      " 36  36                58174 non-null  float64\n",
      " 37  37                58174 non-null  float64\n",
      " 38  38                58174 non-null  float64\n",
      " 39  39                58174 non-null  float64\n",
      " 40  40                58174 non-null  float64\n",
      " 41  41                58174 non-null  float64\n",
      " 42  42                58174 non-null  float64\n",
      " 43  43                58174 non-null  float64\n",
      " 44  44                58174 non-null  float64\n",
      " 45  45                58174 non-null  float64\n",
      " 46  46                58174 non-null  float64\n",
      " 47  47                58174 non-null  float64\n",
      " 48  48                58174 non-null  float64\n",
      " 49  49                58174 non-null  float64\n",
      " 50  50                58174 non-null  float64\n",
      " 51  51                58174 non-null  float64\n",
      " 52  TotalPop          58174 non-null  float64\n",
      " 53  Men               58174 non-null  float64\n",
      " 54  Women             58174 non-null  float64\n",
      " 55  Hispanic          58174 non-null  float64\n",
      " 56  White             58174 non-null  float64\n",
      " 57  Black             58174 non-null  float64\n",
      " 58  Native            58174 non-null  float64\n",
      " 59  Asian             58174 non-null  float64\n",
      " 60  Pacific           58174 non-null  float64\n",
      " 61  VotingAgeCitizen  58174 non-null  float64\n",
      " 62  Income            58174 non-null  float64\n",
      " 63  IncomeErr         58174 non-null  float64\n",
      " 64  IncomePerCap      58174 non-null  float64\n",
      " 65  IncomePerCapErr   58174 non-null  float64\n",
      " 66  Professional      58174 non-null  float64\n",
      " 67  Service           58174 non-null  float64\n",
      " 68  Office            58174 non-null  float64\n",
      " 69  Construction      58174 non-null  float64\n",
      " 70  Production        58174 non-null  float64\n",
      " 71  Drive             58174 non-null  float64\n",
      " 72  Carpool           58174 non-null  float64\n",
      " 73  Transit           58174 non-null  float64\n",
      " 74  Walk              58174 non-null  float64\n",
      " 75  OtherTransp       58174 non-null  float64\n",
      " 76  WorkAtHome        58174 non-null  float64\n",
      " 77  MeanCommute       58174 non-null  float64\n",
      " 78  Employed          58174 non-null  float64\n",
      " 79  PrivateWork       58174 non-null  float64\n",
      " 80  PublicWork        58174 non-null  float64\n",
      " 81  SelfEmployed      58174 non-null  float64\n",
      " 82  FamilyWork        58174 non-null  float64\n",
      " 83  Unemployment      58174 non-null  float64\n",
      "dtypes: float64(84)\n",
      "memory usage: 37.3 MB\n",
      "None\n",
      "(58174, 84)\n"
     ]
    }
   ],
   "source": [
    "print(X_train_scaled.info())\n",
    "print(X_train_scaled.shape)"
   ]
  },
  {
   "cell_type": "code",
   "execution_count": 24,
   "id": "303da9b3",
   "metadata": {
    "collapsed": false,
    "jupyter": {
     "outputs_hidden": false
    }
   },
   "outputs": [],
   "source": [
    "# The class used for modeling:\n",
    "class ThreeLPerceptronBase(object):\n",
    "    def __init__(self, n_hidden1=30, n_hidden2 = 30,\n",
    "                 C=0.0, epochs=500, eta=0.001, random_state=None):\n",
    "        np.random.seed(random_state)\n",
    "        self.n_hidden1 = n_hidden1\n",
    "        self.n_hidden2 = n_hidden2\n",
    "        self.l2_C = C\n",
    "        self.epochs = epochs\n",
    "        self.eta = eta\n",
    "\n",
    "        self.grad_mag_history = [[], [], []]\n",
    "\n",
    "\n",
    "    def _initialize_weights(self):\n",
    "        \"\"\"Initialize weights Glorot and He normalization.\"\"\"\n",
    "        init_bound = 4*np.sqrt(6. / (self.n_hidden1 + self.n_features_ + 1))\n",
    "        W1 = np.random.uniform(-init_bound, init_bound,(self.n_hidden1, self.n_features_ + 1))\n",
    "        W1[:,:1] = 0\n",
    "\n",
    "        init_bound = 4*np.sqrt(6 / (self.n_hidden2 + self.n_hidden1 + 1))\n",
    "        W2 = np.random.uniform(-init_bound, init_bound,(self.n_hidden2, self.n_hidden1 + 1))\n",
    "        W2[:,:1] = 0\n",
    "\n",
    "        # reduce the final layer magnitude in order to balance the size of the gradients\n",
    "        # between\n",
    "        init_bound = 4*np.sqrt(6 / (self.n_output_ + self.n_hidden2 + 1))\n",
    "        W3 = np.random.uniform(-init_bound, init_bound,(self.n_output_, self.n_hidden2 + 1))\n",
    "        W3[:,:1] = 0\n",
    "\n",
    "        return W1, W2, W3\n",
    "\n",
    "    @staticmethod\n",
    "    def _encode_labels(y):\n",
    "        \"\"\"Encode labels into one-hot representation\"\"\"\n",
    "        onehot = pd.get_dummies(y).values.T\n",
    "\n",
    "        return onehot\n",
    "\n",
    "    @staticmethod\n",
    "    def _sigmoid(z):\n",
    "        \"\"\"Use scipy.special.expit to avoid overflow\"\"\"\n",
    "        # 1.0 / (1.0 + np.exp(-z))\n",
    "        return expit(z)\n",
    "\n",
    "    @staticmethod\n",
    "    def _add_bias_unit(X, how='column'):\n",
    "        \"\"\"Add bias unit (column or row of 1s) to array at index 0\"\"\"\n",
    "        if how == 'column':\n",
    "            ones = np.ones((X.shape[0], 1))\n",
    "            X_new = np.hstack((ones, X))\n",
    "        elif how == 'row':\n",
    "            ones = np.ones((1, X.shape[1]))\n",
    "            X_new = np.vstack((ones, X))\n",
    "        return X_new\n",
    "\n",
    "    @staticmethod\n",
    "    def _L2_reg(lambda_, W1, W2, W3):\n",
    "        \"\"\"Compute L2-regularization cost\"\"\"\n",
    "        # only compute for non-bias terms\n",
    "        return (lambda_) * np.sqrt(np.mean(W1[:, 1:] ** 2)\n",
    "                                   + np.mean(W2[:, 1:] ** 2)\n",
    "                                   + np.mean(W3[:, 1:] ** 2))\n",
    "\n",
    "    def _cost(self,A3,Y_enc,W1,W2, W3):\n",
    "        \"\"\"Compute cross-entropy loss and L2-regularization cost\"\"\"\n",
    "        # I'm pretty sure this is doing cross entropy loss?\n",
    "        L2_term = self._L2_reg(self.l2_C, W1, W2, W3)\n",
    "        term1 = -np.mean(Y_enc * np.log(A3) + (1 - Y_enc) * np.log(1 - A3))\n",
    "        return term1 + L2_term"
   ]
  },
  {
   "cell_type": "code",
   "execution_count": 25,
   "id": "e5db2a9a",
   "metadata": {
    "collapsed": false,
    "jupyter": {
     "outputs_hidden": false
    }
   },
   "outputs": [],
   "source": [
    "class ThreeLayerPerceptron(ThreeLPerceptronBase):\n",
    "    def _feedforward(self, X, W1, W2, W3):\n",
    "        \"\"\"Compute feedforward step\n",
    "        -----------\n",
    "        X : Input layer with original features.\n",
    "        W1: Weight matrix for input layer -> hidden layer.\n",
    "        W2: Weight matrix for hidden layer 1 -> hidden layer 2\n",
    "        W3: Weight matrix for hidden layer 2 -> output layer.\n",
    "        ----------\n",
    "        a1-a4 : activations into layer (or output layer)\n",
    "        z1-z3 : layer inputs\n",
    "\n",
    "        \"\"\"\n",
    "        A1 = self._add_bias_unit(X.T, how='row')\n",
    "        Z1 = W1 @ A1\n",
    "        A2 = self._sigmoid(Z1)\n",
    "        A2 = self._add_bias_unit(A2, how='row')\n",
    "        Z2 = W2 @ A2\n",
    "        A3 = self._sigmoid(Z2)\n",
    "        A3 = self._add_bias_unit(A3, how='row')\n",
    "        Z3 = W3 @ A3\n",
    "        A4 = self._sigmoid(Z3)\n",
    "        return A1, Z1, A2, Z2, A3, Z3, A4\n",
    "\n",
    "    def _get_gradient(self, A1, A2, A3, Z1, Z2, Y_enc, W1, W2, W3):\n",
    "        # vectorized backpropagation\n",
    "        V3 = -2*(Y_enc-A3)*A3*(1-A3)\n",
    "        print(V3.shape)\n",
    "        print(W3.shape)\n",
    "        V2 = A2*(1-A2) * (W3.T @ V3) # I untransposed this to see if it would fix\n",
    "        V1 = A1*(1-A1) * (W2.T @ V2) \n",
    "\n",
    "        #V2 = (W3[:,1:].T @ V3) * A2*(1-A2) # I untransposed this to see if it would fix\n",
    "        #V1 = (W2[:,1:].T @ V2)[1:,:] * A1*(1-A1)\n",
    "\n",
    "        grad3 = V3 @ A2.T\n",
    "        grad2 = V2 @ A1.T\n",
    "        grad1 = V1 @ X\n",
    "\n",
    "        # regularize weights that are not bias terms\n",
    "        grad1[:, 1:] += W1[:, 1:] * self.l2_C\n",
    "        grad2[:, 1:] += W2[:, 1:] * self.l2_C\n",
    "        grad3[:, 1:] += W3[:, 1:] * self.l2_C\n",
    "\n",
    "        self.grad_mag_history[2].append(np.mean(np.abs(grad3)))\n",
    "        self.grad_mag_history[1].append(np.mean(np.abs(grad2)))\n",
    "        self.grad_mag_history[0].append(np.mean(np.abs(grad1)))\n",
    "\n",
    "        return grad1, grad2, grad3\n",
    "\n",
    "\n",
    "    def predict(self, X):\n",
    "        \"\"\"Predict class labels\"\"\"\n",
    "        _, _, _, _, A4 = self._feedforward(X, self.W1, self.W2, self.W3)\n",
    "        y_pred = np.argmax(A4, axis=0)\n",
    "        return y_pred\n",
    "\n",
    "\n",
    "    #prefer to not use minibatching if possible\n",
    "    def fit(self, X, y, print_progress=False):\n",
    "        \"\"\" Learn weights from training data.\"\"\"\n",
    "\n",
    "        X_data, y_data = X.copy(), y.copy()\n",
    "        Y_enc = self._encode_labels(y)\n",
    "\n",
    "        # init weights and setup matrices\n",
    "        self.n_features_ = X_data.shape[1]\n",
    "        self.n_output_ = Y_enc.shape[0]\n",
    "        self.W1, self.W2, self.W3 = self._initialize_weights()\n",
    "\n",
    "        self.cost_ = []\n",
    "        for i in range(self.epochs):\n",
    "\n",
    "            if print_progress>0 and (i+1)%print_progress==0:\n",
    "                sys.stderr.write('\\rEpoch: %d/%d' % (i+1, self.epochs))\n",
    "                sys.stderr.flush()\n",
    "\n",
    "            # feedforward all instances\n",
    "            A1, Z1, A2, Z2, A3, Z3, A4 = self._feedforward(X_data,self.W1,self.W2, self.W3)\n",
    "\n",
    "            cost = self._cost(A3,Y_enc,self.W1,self.W2, self.W3)\n",
    "            self.cost_.append(cost)\n",
    "\n",
    "            # compute gradient via backpropagation\n",
    "            grad1, grad2, grad3 = self._get_gradient(A1=A1, A2=A2, A3=A3, Z1=Z1, Z2=Z2, Y_enc=Y_enc,\n",
    "                                              W1=self.W1, W2=self.W2, W3 = self.W3)\n",
    "\n",
    "            self.W1 -= self.eta * grad1\n",
    "            self.W2 -= self.eta * grad2\n",
    "            self.W3 -= self.eta * grad3\n",
    "\n",
    "        return self\n",
    "\n",
    "    def plot_grad_magnitudes(self):\n",
    "        plt.plot(self.grad_mag_history[0], label='Layer 1')\n",
    "        plt.plot(self.grad_mag_history[1], label='Layer 2')\n",
    "        plt.plot(self.grad_mag_history[2], label='Layer 3')\n",
    "        plt.xlabel('Epoch')\n",
    "        plt.ylabel('Average gradient magnitude')\n",
    "        plt.legend()"
   ]
  },
  {
   "cell_type": "code",
   "execution_count": 26,
   "id": "b15a2db3",
   "metadata": {
    "collapsed": false,
    "jupyter": {
     "outputs_hidden": false
    }
   },
   "outputs": [
    {
     "ename": "ValueError",
     "evalue": "operands could not be broadcast together with shapes (4,58174) (31,58174) ",
     "output_type": "error",
     "traceback": [
      "\u001b[0;31m---------------------------------------------------------------------------\u001b[0m",
      "\u001b[0;31mValueError\u001b[0m                                Traceback (most recent call last)",
      "Input \u001b[0;32mIn [26]\u001b[0m, in \u001b[0;36m<cell line: 10>\u001b[0;34m()\u001b[0m\n\u001b[1;32m      1\u001b[0m params \u001b[38;5;241m=\u001b[39m \u001b[38;5;28mdict\u001b[39m(n_hidden1\u001b[38;5;241m=\u001b[39m\u001b[38;5;241m30\u001b[39m,\n\u001b[1;32m      2\u001b[0m               n_hidden2\u001b[38;5;241m=\u001b[39m\u001b[38;5;241m30\u001b[39m,\n\u001b[1;32m      3\u001b[0m               C\u001b[38;5;241m=\u001b[39m\u001b[38;5;241m0.1\u001b[39m, \u001b[38;5;66;03m# tradeoff L2 regularizer\u001b[39;00m\n\u001b[1;32m      4\u001b[0m               epochs\u001b[38;5;241m=\u001b[39m\u001b[38;5;241m200\u001b[39m, \u001b[38;5;66;03m# iterations\u001b[39;00m\n\u001b[1;32m      5\u001b[0m               eta\u001b[38;5;241m=\u001b[39m\u001b[38;5;241m0.001\u001b[39m,  \u001b[38;5;66;03m# learning rate\u001b[39;00m\n\u001b[1;32m      6\u001b[0m               random_state\u001b[38;5;241m=\u001b[39m\u001b[38;5;241m1\u001b[39m)\n\u001b[1;32m      8\u001b[0m nn \u001b[38;5;241m=\u001b[39m ThreeLayerPerceptron(\u001b[38;5;241m*\u001b[39m\u001b[38;5;241m*\u001b[39mparams) \u001b[38;5;66;03m#changed to use the base class, just added in the function\u001b[39;00m\n\u001b[0;32m---> 10\u001b[0m \u001b[43mnn\u001b[49m\u001b[38;5;241;43m.\u001b[39;49m\u001b[43mfit\u001b[49m\u001b[43m(\u001b[49m\u001b[43mX_train_scaled\u001b[49m\u001b[43m,\u001b[49m\u001b[43m \u001b[49m\u001b[43my_train\u001b[49m\u001b[43m,\u001b[49m\u001b[43m \u001b[49m\u001b[43mprint_progress\u001b[49m\u001b[38;5;241;43m=\u001b[39;49m\u001b[38;5;241;43m50\u001b[39;49m\u001b[43m)\u001b[49m\n\u001b[1;32m     11\u001b[0m yhat \u001b[38;5;241m=\u001b[39m nn\u001b[38;5;241m.\u001b[39mpredict(X_test_scaled)\n\u001b[1;32m     12\u001b[0m \u001b[38;5;28mprint\u001b[39m(\u001b[38;5;124m'\u001b[39m\u001b[38;5;124mAccuracy:\u001b[39m\u001b[38;5;124m'\u001b[39m,accuracy_score(y_test,yhat))\n",
      "Input \u001b[0;32mIn [25]\u001b[0m, in \u001b[0;36mThreeLayerPerceptron.fit\u001b[0;34m(self, X, y, print_progress)\u001b[0m\n\u001b[1;32m     78\u001b[0m \u001b[38;5;66;03m# feedforward all instances\u001b[39;00m\n\u001b[1;32m     79\u001b[0m A1, Z1, A2, Z2, A3, Z3, A4 \u001b[38;5;241m=\u001b[39m \u001b[38;5;28mself\u001b[39m\u001b[38;5;241m.\u001b[39m_feedforward(X_data,\u001b[38;5;28mself\u001b[39m\u001b[38;5;241m.\u001b[39mW1,\u001b[38;5;28mself\u001b[39m\u001b[38;5;241m.\u001b[39mW2, \u001b[38;5;28mself\u001b[39m\u001b[38;5;241m.\u001b[39mW3)\n\u001b[0;32m---> 81\u001b[0m cost \u001b[38;5;241m=\u001b[39m \u001b[38;5;28;43mself\u001b[39;49m\u001b[38;5;241;43m.\u001b[39;49m\u001b[43m_cost\u001b[49m\u001b[43m(\u001b[49m\u001b[43mA3\u001b[49m\u001b[43m,\u001b[49m\u001b[43mY_enc\u001b[49m\u001b[43m,\u001b[49m\u001b[38;5;28;43mself\u001b[39;49m\u001b[38;5;241;43m.\u001b[39;49m\u001b[43mW1\u001b[49m\u001b[43m,\u001b[49m\u001b[38;5;28;43mself\u001b[39;49m\u001b[38;5;241;43m.\u001b[39;49m\u001b[43mW2\u001b[49m\u001b[43m,\u001b[49m\u001b[43m \u001b[49m\u001b[38;5;28;43mself\u001b[39;49m\u001b[38;5;241;43m.\u001b[39;49m\u001b[43mW3\u001b[49m\u001b[43m)\u001b[49m\n\u001b[1;32m     82\u001b[0m \u001b[38;5;28mself\u001b[39m\u001b[38;5;241m.\u001b[39mcost_\u001b[38;5;241m.\u001b[39mappend(cost)\n\u001b[1;32m     84\u001b[0m \u001b[38;5;66;03m# compute gradient via backpropagation\u001b[39;00m\n",
      "Input \u001b[0;32mIn [24]\u001b[0m, in \u001b[0;36mThreeLPerceptronBase._cost\u001b[0;34m(self, A3, Y_enc, W1, W2, W3)\u001b[0m\n\u001b[1;32m     67\u001b[0m \u001b[38;5;66;03m# I'm pretty sure this is doing cross entropy loss?\u001b[39;00m\n\u001b[1;32m     68\u001b[0m L2_term \u001b[38;5;241m=\u001b[39m \u001b[38;5;28mself\u001b[39m\u001b[38;5;241m.\u001b[39m_L2_reg(\u001b[38;5;28mself\u001b[39m\u001b[38;5;241m.\u001b[39ml2_C, W1, W2, W3)\n\u001b[0;32m---> 69\u001b[0m term1 \u001b[38;5;241m=\u001b[39m \u001b[38;5;241m-\u001b[39mnp\u001b[38;5;241m.\u001b[39mmean(\u001b[43mY_enc\u001b[49m\u001b[43m \u001b[49m\u001b[38;5;241;43m*\u001b[39;49m\u001b[43m \u001b[49m\u001b[43mnp\u001b[49m\u001b[38;5;241;43m.\u001b[39;49m\u001b[43mlog\u001b[49m\u001b[43m(\u001b[49m\u001b[43mA3\u001b[49m\u001b[43m)\u001b[49m \u001b[38;5;241m+\u001b[39m (\u001b[38;5;241m1\u001b[39m \u001b[38;5;241m-\u001b[39m Y_enc) \u001b[38;5;241m*\u001b[39m np\u001b[38;5;241m.\u001b[39mlog(\u001b[38;5;241m1\u001b[39m \u001b[38;5;241m-\u001b[39m A3))\n\u001b[1;32m     70\u001b[0m \u001b[38;5;28;01mreturn\u001b[39;00m term1 \u001b[38;5;241m+\u001b[39m L2_term\n",
      "\u001b[0;31mValueError\u001b[0m: operands could not be broadcast together with shapes (4,58174) (31,58174) "
     ]
    }
   ],
   "source": [
    "params = dict(n_hidden1=30,\n",
    "              n_hidden2=30,\n",
    "              C=0.1, # tradeoff L2 regularizer\n",
    "              epochs=200, # iterations\n",
    "              eta=0.001,  # learning rate\n",
    "              random_state=1)\n",
    "\n",
    "nn = ThreeLayerPerceptron(**params) #changed to use the base class, just added in the function\n",
    "\n",
    "nn.fit(X_train_scaled, y_train, print_progress=50)\n",
    "yhat = nn.predict(X_test_scaled)\n",
    "print('Accuracy:',accuracy_score(y_test,yhat))"
   ]
  },
  {
   "cell_type": "markdown",
   "id": "4d890097",
   "metadata": {},
   "source": [
    "[.5 points] Now (1) normalize the continuous numeric feature data. Use the example two-layer perceptron network from the class example and quantify performance using accuracy. Be sure that training converges by graphing the loss function versus the number of epochs.\n",
    "        [.5 points] Now(1) normalize the continuous numeric feature data AND (2) one hot encode the categorical data. Use the example two-layer perceptron network from the class example and quantify performance using accuracy. Be sure that training converges by graphing the loss function versus the number of epochs.\n",
    "        [1 points] Compare the performance of the three models you just trained. Are there any meaningful differences in performance? Explain, in your own words, why these models have (or do not have) different performances.\n",
    "            Use one-hot encoding and normalization on the dataset for the remainder of this lab assignment."
   ]
  },
  {
   "cell_type": "markdown",
   "id": "dec3c934",
   "metadata": {},
   "source": [
    "Modeling (5 points total)\n",
    "        [1 points] Add support for a third layer in the multi-layer perceptron. Add support for saving (and plotting after training is completed) the average magnitude of the gradient for each layer, for each epoch (like we did in the flipped module for back propagation). For magnitude calculation, you are free to use either the average absolute values or the L1/L2 norm.\n",
    "            Quantify the performance of the model and graph the magnitudes for each layer versus the number of epochs.\n",
    "        [1 points] Repeat the previous step, adding support for a fourth layer.\n",
    "        [1 points] Repeat the previous step, adding support for a fifth layer.\n",
    "        [2 points] Implement an adaptive learning technique that was discussed in lecture and use it on the five layer network (such as AdaGrad, RMSProps, or AdaDelta).\n",
    "         Discuss which adaptive method you chose.\n",
    "         Compare the performance of your five layer model with and without the adaptive learning strategy. Do not use AdaM."
   ]
  },
  {
   "cell_type": "markdown",
   "id": "8244e180",
   "metadata": {},
   "source": [
    "Exceptional Work (1 points total)\n",
    "       Implement adaptive momentum (AdaM) in the five layer neural network and quantify the performance."
   ]
  }
 ],
 "metadata": {
  "kernelspec": {
   "display_name": "Python 3 (ipykernel)",
   "language": "python",
   "name": "python3"
  },
  "language_info": {
   "codemirror_mode": {
    "name": "ipython",
    "version": 3
   },
   "file_extension": ".py",
   "mimetype": "text/x-python",
   "name": "python",
   "nbconvert_exporter": "python",
   "pygments_lexer": "ipython3",
   "version": "3.9.13"
  },
  "vscode": {
   "interpreter": {
    "hash": "b0fa6594d8f4cbf19f97940f81e996739fb7646882a419484c72d19e05852a7e"
   }
  }
 },
 "nbformat": 4,
 "nbformat_minor": 5
}
